{
 "cells": [
  {
   "cell_type": "code",
   "execution_count": 36,
   "metadata": {},
   "outputs": [],
   "source": [
    "# Importing modules\n",
    "import pandas as pd\n",
    "import numpy as np\n",
    "import matplotlib.pyplot as plt\n",
    "import seaborn as sns"
   ]
  },
  {
   "cell_type": "code",
   "execution_count": null,
   "metadata": {},
   "outputs": [],
   "source": [
    "#Alfred Hitchcock once said: “The length of a film should be directly related to the endurance of the human bladder.”"
   ]
  },
  {
   "cell_type": "code",
   "execution_count": 2,
   "metadata": {
    "scrolled": false
   },
   "outputs": [
    {
     "name": "stdout",
     "output_type": "stream",
     "text": [
      "<class 'pandas.core.frame.DataFrame'>\n",
      "RangeIndex: 146144 entries, 0 to 146143\n",
      "Data columns (total 6 columns):\n",
      " #   Column           Non-Null Count   Dtype  \n",
      "---  ------           --------------   -----  \n",
      " 0   tconst           146144 non-null  object \n",
      " 1   primary_title    146144 non-null  object \n",
      " 2   original_title   146123 non-null  object \n",
      " 3   start_year       146144 non-null  int64  \n",
      " 4   runtime_minutes  114405 non-null  float64\n",
      " 5   genres           140736 non-null  object \n",
      "dtypes: float64(1), int64(1), object(4)\n",
      "memory usage: 6.7+ MB\n"
     ]
    }
   ],
   "source": [
    "imdb_title_basics_df = pd.read_csv('zippedData/imdb.title.basics.csv.gz')\n",
    "imdb_title = imdb_title_basics_df\n",
    "# imdb = imdb_title\n",
    "q_4_Imdb = imdb_title[\"runtime_minutes\"].value_counts().quantile(1)\n",
    "q_3_Imdb = imdb_title[\"runtime_minutes\"].value_counts().quantile(.75)\n",
    "q_2_Imdb = imdb_title[\"runtime_minutes\"].value_counts().quantile(.5)\n",
    "q_1_Imdb = imdb_title_basics_df[\"runtime_minutes\"].value_counts().quantile(.25)\n",
    "\n",
    "q_1_Imdb , q_2_Imdb , q_3_Imdb, q_4_Imdb\n",
    "imdb_title.info()\n",
    "#Initial attempt to get the range of the occurances using quartile range in the value_counts\n",
    "#shows broad range, shouldn't look at any below q_3"
   ]
  },
  {
   "cell_type": "code",
   "execution_count": 3,
   "metadata": {},
   "outputs": [
    {
     "name": "stdout",
     "output_type": "stream",
     "text": [
      "<class 'pandas.core.frame.DataFrame'>\n",
      "Int64Index: 136071 entries, 0 to 146143\n",
      "Data columns (total 6 columns):\n",
      " #   Column           Non-Null Count   Dtype  \n",
      "---  ------           --------------   -----  \n",
      " 0   tconst           136071 non-null  object \n",
      " 1   primary_title    136071 non-null  object \n",
      " 2   original_title   136055 non-null  object \n",
      " 3   start_year       136071 non-null  int64  \n",
      " 4   runtime_minutes  106598 non-null  float64\n",
      " 5   genres           131180 non-null  object \n",
      "dtypes: float64(1), int64(1), object(4)\n",
      "memory usage: 7.3+ MB\n"
     ]
    }
   ],
   "source": [
    "imdb_title2 = imdb_title.drop_duplicates(subset=['original_title'], keep = 'first')\n",
    "imdb_title2 = imdb_title.drop_duplicates(subset=['primary_title'], keep = 'first')\n",
    "imdb_title2.info()"
   ]
  },
  {
   "cell_type": "code",
   "execution_count": 4,
   "metadata": {},
   "outputs": [
    {
     "name": "stdout",
     "output_type": "stream",
     "text": [
      "<class 'pandas.core.frame.DataFrame'>\n",
      "Int64Index: 106598 entries, 0 to 146142\n",
      "Data columns (total 3 columns):\n",
      " #   Column           Non-Null Count   Dtype  \n",
      "---  ------           --------------   -----  \n",
      " 0   tconst           106598 non-null  object \n",
      " 1   start_year       106598 non-null  int64  \n",
      " 2   runtime_minutes  106598 non-null  float64\n",
      "dtypes: float64(1), int64(1), object(1)\n",
      "memory usage: 3.3+ MB\n"
     ]
    },
    {
     "name": "stderr",
     "output_type": "stream",
     "text": [
      "<ipython-input-4-068b64d530f5>:1: SettingWithCopyWarning: \n",
      "A value is trying to be set on a copy of a slice from a DataFrame\n",
      "\n",
      "See the caveats in the documentation: https://pandas.pydata.org/pandas-docs/stable/user_guide/indexing.html#returning-a-view-versus-a-copy\n",
      "  imdb_title2.dropna(subset = ['start_year'],axis = 0,  inplace = True)\n",
      "<ipython-input-4-068b64d530f5>:2: SettingWithCopyWarning: \n",
      "A value is trying to be set on a copy of a slice from a DataFrame\n",
      "\n",
      "See the caveats in the documentation: https://pandas.pydata.org/pandas-docs/stable/user_guide/indexing.html#returning-a-view-versus-a-copy\n",
      "  imdb_title2.dropna(subset = ['runtime_minutes'], axis = 0,  inplace = True)\n",
      "C:\\Users\\roger\\anaconda3\\envs\\learn-env\\lib\\site-packages\\pandas\\core\\frame.py:4163: SettingWithCopyWarning: \n",
      "A value is trying to be set on a copy of a slice from a DataFrame\n",
      "\n",
      "See the caveats in the documentation: https://pandas.pydata.org/pandas-docs/stable/user_guide/indexing.html#returning-a-view-versus-a-copy\n",
      "  return super().drop(\n"
     ]
    }
   ],
   "source": [
    "imdb_title2.dropna(subset = ['start_year'],axis = 0,  inplace = True)\n",
    "imdb_title2.dropna(subset = ['runtime_minutes'], axis = 0,  inplace = True)\n",
    "imdb_title2.drop(['primary_title'], axis =1 , inplace = True)\n",
    "imdb_title2.drop(['original_title'], axis = 1,  inplace = True)\n",
    "imdb_title2.drop(['genres'], axis = 1,  inplace = True)\n",
    "\n",
    "imdb_title2.info()"
   ]
  },
  {
   "cell_type": "code",
   "execution_count": 5,
   "metadata": {},
   "outputs": [
    {
     "data": {
      "text/plain": [
       "90.0"
      ]
     },
     "execution_count": 5,
     "metadata": {},
     "output_type": "execute_result"
    }
   ],
   "source": [
    "most_common = imdb_title2[\"runtime_minutes\"].value_counts().index[0]\n",
    "most_common"
   ]
  },
  {
   "cell_type": "code",
   "execution_count": 6,
   "metadata": {
    "scrolled": true
   },
   "outputs": [
    {
     "data": {
      "text/plain": [
       "(start_year    2014.462165\n",
       " dtype: float64,\n",
       " start_year    2014.233998\n",
       " dtype: float64,\n",
       " start_year    2014.39813\n",
       " dtype: float64)"
      ]
     },
     "execution_count": 6,
     "metadata": {},
     "output_type": "execute_result"
    }
   ],
   "source": [
    "#Show where the longer times are moving more towards\n",
    "G_90_Imdb = imdb_title2.loc[(imdb_title2['runtime_minutes'] > 90), ['start_year']].mean()\n",
    "B_90_Imdb = imdb_title2.loc[(imdb_title2['runtime_minutes'] < 90), ['start_year']].mean()\n",
    "Is_90_Imdb = imdb_title2.loc[(imdb_title2['runtime_minutes'] == 90), ['start_year']].mean()\n",
    "G_90_Imdb, B_90_Imdb, Is_90_Imdb \n",
    "# Shows newer movies are tending to be longer than 90 minutes with showing the average year psuhing to be higher when looking at longer runtimes"
   ]
  },
  {
   "cell_type": "code",
   "execution_count": 7,
   "metadata": {
    "scrolled": true
   },
   "outputs": [
    {
     "data": {
      "text/plain": [
       "<matplotlib.legend.Legend at 0x25eeb372850>"
      ]
     },
     "execution_count": 7,
     "metadata": {},
     "output_type": "execute_result"
    },
    {
     "data": {
      "image/png": "[encoded data removed]",
      "text/plain": [
       "<Figure size 432x360 with 1 Axes>"
      ]
     },
     "metadata": {
      "needs_background": "light"
     },
     "output_type": "display_data"
    }
   ],
   "source": [
    "IMDB_Runtime_Numbers = imdb_title2['runtime_minutes'].value_counts().nlargest(70)\n",
    "\n",
    "IMDB_Runtime_Numbers_Index = imdb_title2['runtime_minutes'].value_counts().index[0:70]\n",
    "fig_IMBD, ax =plt.subplots(figsize = (6,5))\n",
    "ax.bar(IMDB_Runtime_Numbers_Index ,IMDB_Runtime_Numbers , color = 'yellow' )\n",
    "ax.set_facecolor('blue')\n",
    "ax.set_ylabel(\"Frequency Of Run Time Numbers\")\n",
    "ax.set_title(\"Most Common Movie Lengths\")\n",
    "ax.set_xlabel(\"Run Times in Minutes\")\n",
    "ax.legend(['As Per IMDB 2010-2021'])"
   ]
  },
  {
   "cell_type": "code",
   "execution_count": 8,
   "metadata": {},
   "outputs": [],
   "source": [
    "#Graph that shows frequncy of runtimes\n",
    "# Pushing towards"
   ]
  },
  {
   "cell_type": "code",
   "execution_count": 9,
   "metadata": {
    "scrolled": true
   },
   "outputs": [],
   "source": [
    "rt_movie_info_df = pd.read_csv('zippedData/rt.movie_info.tsv.gz', delimiter='\\t')\n",
    "rt_movie = rt_movie_info_df\n",
    "# rt = rt_movie\n",
    "\n",
    "# new data frame to work on"
   ]
  },
  {
   "cell_type": "code",
   "execution_count": 10,
   "metadata": {
    "scrolled": true
   },
   "outputs": [],
   "source": [
    "rt_movie['runtime_minutes']=rt_movie['runtime'].str.split()\n",
    "rt_movie['runtime_minutes']=rt_movie['runtime_minutes'].str[0]\n",
    "rt_movie['runtime_minutes'] = rt_movie['runtime_minutes'].astype(float)\n",
    "# change runtime from a string to a solo float number"
   ]
  },
  {
   "cell_type": "code",
   "execution_count": 11,
   "metadata": {},
   "outputs": [],
   "source": [
    "# Grabbing just the year from theater date\n",
    "rt_movie['start_year']=rt_movie['theater_date'].str.split()\n",
    "rt_movie['start_year']=rt_movie['start_year'].str[2]\n",
    "rt_movie['start_year'] = (rt_movie['start_year']).astype(float)\n"
   ]
  },
  {
   "cell_type": "code",
   "execution_count": 12,
   "metadata": {},
   "outputs": [],
   "source": [
    "rt_movie.dropna(axis = 0, subset = ['start_year'], inplace = True)\n",
    "rt_movie.dropna(axis = 0, subset = ['runtime_minutes'], inplace = True)\n",
    "# Removing any null values in the columns 'Year' and 'running_mins'"
   ]
  },
  {
   "cell_type": "code",
   "execution_count": 13,
   "metadata": {},
   "outputs": [
    {
     "data": {
      "text/plain": [
       "start_year    1986.807692\n",
       "dtype: float64"
      ]
     },
     "execution_count": 13,
     "metadata": {},
     "output_type": "execute_result"
    }
   ],
   "source": [
    "# Seeing if the standard feature time of 90 is more towards current movies \n",
    "rt_movie.loc[(rt_movie['runtime_minutes'] ==90), ['start_year']].mean()\n",
    "# Average year being 1987 can possibly show"
   ]
  },
  {
   "cell_type": "code",
   "execution_count": 14,
   "metadata": {},
   "outputs": [
    {
     "data": {
      "text/html": [
       "<div>\n",
       "<style scoped>\n",
       "    .dataframe tbody tr th:only-of-type {\n",
       "        vertical-align: middle;\n",
       "    }\n",
       "\n",
       "    .dataframe tbody tr th {\n",
       "        vertical-align: top;\n",
       "    }\n",
       "\n",
       "    .dataframe thead th {\n",
       "        text-align: right;\n",
       "    }\n",
       "</style>\n",
       "<table border=\"1\" class=\"dataframe\">\n",
       "  <thead>\n",
       "    <tr style=\"text-align: right;\">\n",
       "      <th></th>\n",
       "      <th>id</th>\n",
       "      <th>synopsis</th>\n",
       "      <th>rating</th>\n",
       "      <th>genre</th>\n",
       "      <th>director</th>\n",
       "      <th>theater_date</th>\n",
       "      <th>dvd_date</th>\n",
       "      <th>box_office</th>\n",
       "      <th>runtime_minutes</th>\n",
       "      <th>start_year</th>\n",
       "    </tr>\n",
       "  </thead>\n",
       "  <tbody>\n",
       "    <tr>\n",
       "      <th>0</th>\n",
       "      <td>1</td>\n",
       "      <td>This gritty, fast-paced, and innovative police...</td>\n",
       "      <td>R</td>\n",
       "      <td>Action and Adventure|Classics|Drama</td>\n",
       "      <td>William Friedkin</td>\n",
       "      <td>Oct 9, 1971</td>\n",
       "      <td>Sep 25, 2001</td>\n",
       "      <td>NaN</td>\n",
       "      <td>104.0</td>\n",
       "      <td>1971.0</td>\n",
       "    </tr>\n",
       "    <tr>\n",
       "      <th>1</th>\n",
       "      <td>3</td>\n",
       "      <td>New York City, not-too-distant-future: Eric Pa...</td>\n",
       "      <td>R</td>\n",
       "      <td>Drama|Science Fiction and Fantasy</td>\n",
       "      <td>David Cronenberg</td>\n",
       "      <td>Aug 17, 2012</td>\n",
       "      <td>Jan 1, 2013</td>\n",
       "      <td>600,000</td>\n",
       "      <td>108.0</td>\n",
       "      <td>2012.0</td>\n",
       "    </tr>\n",
       "    <tr>\n",
       "      <th>2</th>\n",
       "      <td>5</td>\n",
       "      <td>Illeana Douglas delivers a superb performance ...</td>\n",
       "      <td>R</td>\n",
       "      <td>Drama|Musical and Performing Arts</td>\n",
       "      <td>Allison Anders</td>\n",
       "      <td>Sep 13, 1996</td>\n",
       "      <td>Apr 18, 2000</td>\n",
       "      <td>NaN</td>\n",
       "      <td>116.0</td>\n",
       "      <td>1996.0</td>\n",
       "    </tr>\n",
       "    <tr>\n",
       "      <th>3</th>\n",
       "      <td>6</td>\n",
       "      <td>Michael Douglas runs afoul of a treacherous su...</td>\n",
       "      <td>R</td>\n",
       "      <td>Drama|Mystery and Suspense</td>\n",
       "      <td>Barry Levinson</td>\n",
       "      <td>Dec 9, 1994</td>\n",
       "      <td>Aug 27, 1997</td>\n",
       "      <td>NaN</td>\n",
       "      <td>128.0</td>\n",
       "      <td>1994.0</td>\n",
       "    </tr>\n",
       "    <tr>\n",
       "      <th>5</th>\n",
       "      <td>8</td>\n",
       "      <td>The year is 1942. As the Allies unite overseas...</td>\n",
       "      <td>PG</td>\n",
       "      <td>Drama|Kids and Family</td>\n",
       "      <td>Jay Russell</td>\n",
       "      <td>Mar 3, 2000</td>\n",
       "      <td>Jul 11, 2000</td>\n",
       "      <td>NaN</td>\n",
       "      <td>95.0</td>\n",
       "      <td>2000.0</td>\n",
       "    </tr>\n",
       "  </tbody>\n",
       "</table>\n",
       "</div>"
      ],
      "text/plain": [
       "   id                                           synopsis rating  \\\n",
       "0   1  This gritty, fast-paced, and innovative police...      R   \n",
       "1   3  New York City, not-too-distant-future: Eric Pa...      R   \n",
       "2   5  Illeana Douglas delivers a superb performance ...      R   \n",
       "3   6  Michael Douglas runs afoul of a treacherous su...      R   \n",
       "5   8  The year is 1942. As the Allies unite overseas...     PG   \n",
       "\n",
       "                                 genre          director  theater_date  \\\n",
       "0  Action and Adventure|Classics|Drama  William Friedkin   Oct 9, 1971   \n",
       "1    Drama|Science Fiction and Fantasy  David Cronenberg  Aug 17, 2012   \n",
       "2    Drama|Musical and Performing Arts    Allison Anders  Sep 13, 1996   \n",
       "3           Drama|Mystery and Suspense    Barry Levinson   Dec 9, 1994   \n",
       "5                Drama|Kids and Family       Jay Russell   Mar 3, 2000   \n",
       "\n",
       "       dvd_date box_office  runtime_minutes  start_year  \n",
       "0  Sep 25, 2001        NaN            104.0      1971.0  \n",
       "1   Jan 1, 2013    600,000            108.0      2012.0  \n",
       "2  Apr 18, 2000        NaN            116.0      1996.0  \n",
       "3  Aug 27, 1997        NaN            128.0      1994.0  \n",
       "5  Jul 11, 2000        NaN             95.0      2000.0  "
      ]
     },
     "execution_count": 14,
     "metadata": {},
     "output_type": "execute_result"
    }
   ],
   "source": [
    "# Dropping unnecessary columns\n",
    "rt_movie.drop(['runtime'], axis =1, inplace =True)\n",
    "rt_movie.drop(['studio'],axis = 1, inplace = True)\n",
    "rt_movie.drop(['currency'],axis = 1, inplace = True)\n",
    "rt_movie.drop(['writer'],axis = 1, inplace = True)"
   ]
  },
  {
   "cell_type": "code",
   "execution_count": 15,
   "metadata": {},
   "outputs": [
    {
     "name": "stdout",
     "output_type": "stream",
     "text": [
      "runtime_minutes    106.461538\n",
      "dtype: float64\n",
      "runtime_minutes    148.0\n",
      "dtype: float64\n",
      "runtime_minutes    80.0\n",
      "dtype: float64\n"
     ]
    }
   ],
   "source": [
    "#checking normal runtimes for newer movies\n",
    "print(rt_movie.loc[(rt_movie['start_year'] >=2015),['runtime_minutes']].mean())\n",
    "print(rt_movie.loc[(rt_movie['start_year'] >=2015),['runtime_minutes']].max())\n",
    "print(rt_movie.loc[(rt_movie['start_year'] >=2015),['runtime_minutes']].min())\n",
    "# rt_movie.loc[(rt_movie['Year'] >=2015),['running_mins']]\n",
    "#Ave 16 mins longer than mode of data set\n",
    "# Max length 148 min\n",
    "# Min legnth 80\n",
    "#Showing More Modern Movies are longer than the feature length Standard\n",
    "# Modern movies being greater in this case being 2015 and present "
   ]
  },
  {
   "cell_type": "code",
   "execution_count": 16,
   "metadata": {},
   "outputs": [],
   "source": [
    "#function to do what was above, just grabbing the float number from the string\n",
    "def string_to_float(df, series):\n",
    "    df[series] = df[series].str.split()\n",
    "    df[series] = df[series].str[0]\n",
    "    df[series] = df[series].astype(float)\n",
    "    return df[series]\n",
    "    "
   ]
  },
  {
   "cell_type": "code",
   "execution_count": 17,
   "metadata": {},
   "outputs": [
    {
     "data": {
      "text/plain": [
       "(1.25, 3.0, 18.0, 53.0)"
      ]
     },
     "execution_count": 17,
     "metadata": {},
     "output_type": "execute_result"
    }
   ],
   "source": [
    "q_4_rt = rt_movie[\"runtime_minutes\"].value_counts().quantile(1)\n",
    "q_3_rt = rt_movie[\"runtime_minutes\"].value_counts().quantile(.75)\n",
    "q_2_rt = rt_movie[\"runtime_minutes\"].value_counts().quantile(.5)\n",
    "q_1_rt = rt_movie[\"runtime_minutes\"].value_counts().quantile(.25)\n",
    "q_1_rt , q_2_rt, q_3_rt, q_4_rt\n",
    "# shows broad range and may want to ignore anything below q_3"
   ]
  },
  {
   "cell_type": "code",
   "execution_count": 18,
   "metadata": {
    "scrolled": true
   },
   "outputs": [],
   "source": [
    "Top_50_RT_Indexes = rt_movie['runtime_minutes'].value_counts().index[:50]\n",
    "Top_50_RT = rt_movie['runtime_minutes'].value_counts().nlargest(50)\n",
    "#grabbbing 100 most common runtimes from rotten tomatoes file "
   ]
  },
  {
   "cell_type": "code",
   "execution_count": 27,
   "metadata": {
    "scrolled": true
   },
   "outputs": [
    {
     "data": {
      "text/plain": [
       "<matplotlib.legend.Legend at 0x25eec4f95e0>"
      ]
     },
     "execution_count": 27,
     "metadata": {},
     "output_type": "execute_result"
    },
    {
     "data": {
      "image/png": "[encoded data removed]",
      "text/plain": [
       "<Figure size 576x432 with 1 Axes>"
      ]
     },
     "metadata": {
      "needs_background": "light"
     },
     "output_type": "display_data"
    }
   ],
   "source": [
    "fig_rt , ax = plt.subplots(figsize = (8,6))\n",
    "ax.bar(Top_50_RT_Indexes , Top_50_RT, color = 'blue' )\n",
    "ax.set_ylabel(\"Frequency Of Runtime Numbers\")\n",
    "ax.set_xlabel(\"Run Times in Minutes\")\n",
    "ax.set_title('Most Common Movie Lengths')\n",
    "ax.set_facecolor('yellow')\n",
    "ax.legend(['As Per Rotten Tomatoes'])\n",
    "# plot showing top 50 most common runtimes\n",
    "#hist later"
   ]
  },
  {
   "cell_type": "code",
   "execution_count": 20,
   "metadata": {},
   "outputs": [],
   "source": [
    "# Gathering Values within Rotten Tomatoes File Where only looking at frequncy runtime within the past 10 years\n",
    "P10_Years_RT = rt_movie.loc[(rt_movie['start_year'] >=2011),['runtime_minutes']].value_counts().nlargest(50)\n",
    "ten = P10_Years_RT.index[0:50]\n",
    "# way to turn multi-index into float values for the x column\n",
    "P10_Index = ten.get_level_values(0).astype(float)"
   ]
  },
  {
   "cell_type": "code",
   "execution_count": 21,
   "metadata": {
    "scrolled": true
   },
   "outputs": [
    {
     "data": {
      "text/plain": [
       "<matplotlib.legend.Legend at 0x25eeb7e1a60>"
      ]
     },
     "execution_count": 21,
     "metadata": {},
     "output_type": "execute_result"
    },
    {
     "data": {
      "image/png": "[encoded data removed]",
      "text/plain": [
       "<Figure size 576x432 with 1 Axes>"
      ]
     },
     "metadata": {
      "needs_background": "light"
     },
     "output_type": "display_data"
    }
   ],
   "source": [
    "# Graph shoiwing most frequent runtimes of the past 10 years rotten tomatoes graph\n",
    "fig_Rotten_Modern , ax= plt.subplots(figsize = (8,6))\n",
    "ax.bar(P10_Index, P10_Years_RT)\n",
    "ax.set_xlabel('Runtimes in Minutes ')\n",
    "ax.set_ylabel('Frequency')\n",
    "ax.set_title('Past 10 Years')\n",
    "ax.legend(['As Per Rotten Tomatoes'])"
   ]
  },
  {
   "cell_type": "code",
   "execution_count": 22,
   "metadata": {
    "scrolled": true
   },
   "outputs": [
    {
     "name": "stdout",
     "output_type": "stream",
     "text": [
      "   runtime_minutes\n",
      "0             80.0    runtime_minutes\n",
      "0             90.0    runtime_minutes\n",
      "0             95.0    runtime_minutes\n",
      "0             95.0    runtime_minutes\n",
      "0             93.0\n",
      "1             95.0\n",
      "2            108.0\n",
      "3            115.0    runtime_minutes\n",
      "0            100.0    runtime_minutes\n",
      "0             90.0\n",
      "1            120.0\n",
      "runtime_minutes    99.833333\n",
      "dtype: float64 runtime_minutes    102.362637\n",
      "dtype: float64 runtime_minutes    110.300699\n",
      "dtype: float64 runtime_minutes    106.526316\n",
      "dtype: float64 runtime_minutes    104.058065\n",
      "dtype: float64 runtime_minutes    107.195122\n",
      "dtype: float64 runtime_minutes    110.4\n",
      "dtype: float64\n",
      "runtime_minutes    93.5\n",
      "dtype: float64 runtime_minutes    98.0\n",
      "dtype: float64 runtime_minutes    104.0\n",
      "dtype: float64 runtime_minutes    102.5\n",
      "dtype: float64 runtime_minutes    102.0\n",
      "dtype: float64 runtime_minutes    104.0\n",
      "dtype: float64 runtime_minutes    106.5\n",
      "dtype: float64\n"
     ]
    }
   ],
   "source": [
    "# top most 5 or 10 common of each decade put in a list or dictionary key, year ,value most common runtime put in line chart?\n",
    "mode_1 = rt_movie.loc[rt_movie['start_year'] < 1941, ['runtime_minutes']].mode()\n",
    "mode_2 = rt_movie.loc[(rt_movie['start_year'] >= 1941) & (rt_movie['start_year'] <1961), ['runtime_minutes']].mode()\n",
    "mode_3 = rt_movie.loc[(rt_movie['start_year'] >= 1961) & (rt_movie['start_year'] <1981), ['runtime_minutes']].mode()\n",
    "mode_4 = rt_movie.loc[(rt_movie['start_year'] >= 1981) & (rt_movie['start_year'] <2001), ['runtime_minutes']].mode()\n",
    "mode_5 = rt_movie.loc[(rt_movie['start_year'] >= 2001) & (rt_movie['start_year'] <2011), ['runtime_minutes']].mode()\n",
    "mode_6 = rt_movie.loc[(rt_movie['start_year'] >= 2011) , ['runtime_minutes']].mode()\n",
    "mode_7 = rt_movie.loc[(rt_movie['start_year'] == 2018) , ['runtime_minutes']].mode()\n",
    "median_1 = rt_movie.loc[rt_movie['start_year'] < 1941, ['runtime_minutes']].median()\n",
    "median_2 = rt_movie.loc[(rt_movie['start_year'] >= 1941) & (rt_movie['start_year'] <1961), ['runtime_minutes']].median()\n",
    "median_3 = rt_movie.loc[(rt_movie['start_year'] >= 1961) & (rt_movie['start_year'] <1981), ['runtime_minutes']].median()\n",
    "median_4 = rt_movie.loc[(rt_movie['start_year'] >= 1981) & (rt_movie['start_year'] <2001), ['runtime_minutes']].median()\n",
    "median_5 = rt_movie.loc[(rt_movie['start_year'] >= 2001) & (rt_movie['start_year'] <2011), ['runtime_minutes']].median()\n",
    "median_6 = rt_movie.loc[(rt_movie['start_year'] >= 2011) , ['runtime_minutes']].median()\n",
    "median_7 = rt_movie.loc[(rt_movie['start_year'] == 2018) , ['runtime_minutes']].median()\n",
    "mean_1 = rt_movie.loc[rt_movie['start_year'] < 1941, ['runtime_minutes']].mean()\n",
    "mean_2 = rt_movie.loc[(rt_movie['start_year'] >= 1941) & (rt_movie['start_year'] <1961), ['runtime_minutes']].mean()\n",
    "mean_3 = rt_movie.loc[(rt_movie['start_year'] >= 1961) & (rt_movie['start_year'] <1981), ['runtime_minutes']].mean()\n",
    "mean_4 = rt_movie.loc[(rt_movie['start_year'] >= 1981) & (rt_movie['start_year'] <2001), ['runtime_minutes']].mean()\n",
    "mean_5 = rt_movie.loc[(rt_movie['start_year'] >= 2001) & (rt_movie['start_year'] <2011), ['runtime_minutes']].mean()\n",
    "mean_6 = rt_movie.loc[(rt_movie['start_year'] >= 2011) , ['runtime_minutes']].mean()\n",
    "mean_7 = rt_movie.loc[(rt_movie['start_year'] == 2018) , ['runtime_minutes']].mean()\n",
    "print(mode_1, mode_2, mode_3, mode_4, mode_5, mode_6, mode_7)\n",
    "print(mean_1, mean_2, mean_3, mean_4, mean_5, mean_6, mean_7)\n",
    "print(median_1, median_2, median_3, median_4, median_5, median_6, median_7)\n",
    "#modes being in order   80, 90 , 95, 95, 102, 100, 105 with mode_5 and mode_7 having multiple modes therefore took the avergae of them\n",
    "#medians being "
   ]
  },
  {
   "cell_type": "code",
   "execution_count": 39,
   "metadata": {
    "scrolled": true
   },
   "outputs": [
    {
     "name": "stderr",
     "output_type": "stream",
     "text": [
      "C:\\Users\\roger\\anaconda3\\envs\\learn-env\\lib\\site-packages\\seaborn\\_decorators.py:36: FutureWarning: Pass the following variables as keyword args: x, y. From version 0.12, the only valid positional argument will be `data`, and passing other arguments without an explicit keyword will result in an error or misinterpretation.\n",
      "  warnings.warn(\n",
      "C:\\Users\\roger\\anaconda3\\envs\\learn-env\\lib\\site-packages\\seaborn\\_decorators.py:36: FutureWarning: Pass the following variables as keyword args: x, y. From version 0.12, the only valid positional argument will be `data`, and passing other arguments without an explicit keyword will result in an error or misinterpretation.\n",
      "  warnings.warn(\n",
      "C:\\Users\\roger\\anaconda3\\envs\\learn-env\\lib\\site-packages\\seaborn\\_decorators.py:36: FutureWarning: Pass the following variables as keyword args: x, y. From version 0.12, the only valid positional argument will be `data`, and passing other arguments without an explicit keyword will result in an error or misinterpretation.\n",
      "  warnings.warn(\n"
     ]
    },
    {
     "data": {
      "text/plain": [
       "Text(0.5, 1.0, 'The Gradual Increase Of Movie Runtimes Through History ')"
      ]
     },
     "execution_count": 39,
     "metadata": {},
     "output_type": "execute_result"
    },
    {
     "data": {
      "image/png": "[encoded data removed]",
      "text/plain": [
       "<Figure size 432x288 with 1 Axes>"
      ]
     },
     "metadata": {},
     "output_type": "display_data"
    }
   ],
   "source": [
    "mode_values = [80, 90, 95, 95, 102, 100, 105]\n",
    "Time = ['1921', '1941', '1961', '1981', '2001', '2011', '2018' ]\n",
    "median_values = [94,98,104,103,102,104,107]\n",
    "mean_values = [100, 102, 110, 107, 104, 107, 111]\n",
    "sns.set_theme(style=\"darkgrid\")\n",
    "sns.lineplot(Time, mode_values)\n",
    "sns.set_theme(style=\"darkgrid\")\n",
    "sns.lineplot(Time, median_values)\n",
    "sns.lineplot(Time, mean_values)\n",
    "plt.legend(['Mode of Movie Length', 'Median of Time Points' , 'Mean of Time Points'])\n",
    "plt.ylabel('Run Times')\n",
    "plt.title('The Gradual Increase Of Movie Runtimes Through History ')\n",
    "#Line graph to show non-technical viewer that trend for movie lengths is getting longer since 1921"
   ]
  }
 ],
 "metadata": {
  "kernelspec": {
   "display_name": "Python (learn-env)",
   "language": "python",
   "name": "learn-env"
  },
  "language_info": {
   "codemirror_mode": {
    "name": "ipython",
    "version": 3
   },
   "file_extension": ".py",
   "mimetype": "text/x-python",
   "name": "python",
   "nbconvert_exporter": "python",
   "pygments_lexer": "ipython3",
   "version": "3.8.5"
  }
 },
 "nbformat": 4,
 "nbformat_minor": 4
}
