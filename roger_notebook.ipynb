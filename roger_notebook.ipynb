{
 "cells": [
  {
   "cell_type": "markdown",
   "metadata": {},
   "source": [
    "# Beginning of Roger's Code"
   ]
  },
  {
   "cell_type": "code",
   "execution_count": 2,
   "metadata": {},
   "outputs": [],
   "source": [
    "# Importing modules\n",
    "import pandas as pd\n",
    "import numpy as np\n",
    "import matplotlib.pyplot as plt\n",
    "import seaborn as sns"
   ]
  },
  {
   "cell_type": "markdown",
   "metadata": {},
   "source": [
    "Alfred Hitchcock once said: “The length of a film should be directly related to the endurance of the human bladder.”"
   ]
  },
  {
   "cell_type": "markdown",
   "metadata": {},
   "source": [
    "Loading in and renaming imperative datasets"
   ]
  },
  {
   "cell_type": "code",
   "execution_count": 40,
   "metadata": {
    "scrolled": true
   },
   "outputs": [
    {
     "name": "stdout",
     "output_type": "stream",
     "text": [
      "<class 'pandas.core.frame.DataFrame'>\n",
      "RangeIndex: 146144 entries, 0 to 146143\n",
      "Data columns (total 6 columns):\n",
      " #   Column           Non-Null Count   Dtype  \n",
      "---  ------           --------------   -----  \n",
      " 0   tconst           146144 non-null  object \n",
      " 1   primary_title    146144 non-null  object \n",
      " 2   original_title   146123 non-null  object \n",
      " 3   start_year       146144 non-null  int64  \n",
      " 4   runtime_minutes  114405 non-null  float64\n",
      " 5   genres           140736 non-null  object \n",
      "dtypes: float64(1), int64(1), object(4)\n",
      "memory usage: 6.7+ MB\n",
      "<class 'pandas.core.frame.DataFrame'>\n",
      "RangeIndex: 1560 entries, 0 to 1559\n",
      "Data columns (total 12 columns):\n",
      " #   Column        Non-Null Count  Dtype \n",
      "---  ------        --------------  ----- \n",
      " 0   id            1560 non-null   int64 \n",
      " 1   synopsis      1498 non-null   object\n",
      " 2   rating        1557 non-null   object\n",
      " 3   genre         1552 non-null   object\n",
      " 4   director      1361 non-null   object\n",
      " 5   writer        1111 non-null   object\n",
      " 6   theater_date  1201 non-null   object\n",
      " 7   dvd_date      1201 non-null   object\n",
      " 8   currency      340 non-null    object\n",
      " 9   box_office    340 non-null    object\n",
      " 10  runtime       1530 non-null   object\n",
      " 11  studio        494 non-null    object\n",
      "dtypes: int64(1), object(11)\n",
      "memory usage: 146.4+ KB\n"
     ]
    },
    {
     "data": {
      "text/plain": [
       "(None, None)"
      ]
     },
     "execution_count": 40,
     "metadata": {},
     "output_type": "execute_result"
    }
   ],
   "source": [
    "imdb_title_basics_df = pd.read_csv('zippedData/imdb.title.basics.csv.gz')\n",
    "imdb_title = imdb_title_basics_df\n",
    "rt_movie_info_df = pd.read_csv('zippedData/rt.movie_info.tsv.gz', delimiter='\\t')\n",
    "rt_movie = rt_movie_info_df\n",
    "imdb_title.info() , rt_movie.info()"
   ]
  },
  {
   "cell_type": "markdown",
   "metadata": {},
   "source": [
    "Since IMDB has none non-null items in the columns that are objects and not int's or floats lets check for duplicates."
   ]
  },
  {
   "cell_type": "markdown",
   "metadata": {},
   "source": [
    "Seeing that the delta from 75th percentile to 100th percentile is 6,893.5 values shows that there may be multiple occurances of just a handful of runtimes. "
   ]
  },
  {
   "cell_type": "code",
   "execution_count": 49,
   "metadata": {
    "scrolled": true
   },
   "outputs": [
    {
     "data": {
      "text/plain": [
       "(Home                                                                               24\n",
       " The Return                                                                         20\n",
       " Broken                                                                             20\n",
       " Alone                                                                              16\n",
       " Homecoming                                                                         16\n",
       "                                                                                    ..\n",
       " Black Indians                                                                       1\n",
       " Expect Delays                                                                       1\n",
       " Grazing the Sky                                                                     1\n",
       " Super Hero War Kamen Rider Featuring Super Sentai: Heisei Rider vs. Showa Rider     1\n",
       " The Football Boys                                                                   1\n",
       " Name: primary_title, Length: 136071, dtype: int64,\n",
       " Broken                         19\n",
       " Home                           18\n",
       " The Return                     17\n",
       " Homecoming                     13\n",
       " The Gift                       13\n",
       "                                ..\n",
       " Gabriel e a Montanha            1\n",
       " L'equilibrio del cucchiaino     1\n",
       " Three Jewels                    1\n",
       " First Class Asylum              1\n",
       " Life of Lemon                   1\n",
       " Name: original_title, Length: 137773, dtype: int64,\n",
       " tt2401827    1\n",
       " tt1620584    1\n",
       " tt2151863    1\n",
       " tt3890082    1\n",
       " tt7472940    1\n",
       "             ..\n",
       " tt1666631    1\n",
       " tt8366934    1\n",
       " tt6447422    1\n",
       " tt1876387    1\n",
       " tt1868033    1\n",
       " Name: tconst, Length: 146144, dtype: int64,\n",
       " Documentary                    32185\n",
       " Drama                          21486\n",
       " Comedy                          9177\n",
       " Horror                          4372\n",
       " Comedy,Drama                    3519\n",
       "                                ...  \n",
       " Adventure,Crime,Western            1\n",
       " Mystery,Reality-TV,Thriller        1\n",
       " Action,History,Horror              1\n",
       " Short,Thriller                     1\n",
       " Adventure,History,Western          1\n",
       " Name: genres, Length: 1085, dtype: int64)"
      ]
     },
     "execution_count": 49,
     "metadata": {},
     "output_type": "execute_result"
    }
   ],
   "source": [
    "imdb_title['primary_title'].value_counts(), imdb_title['original_title'].value_counts(), imdb_title['tconst'].value_counts(), imdb_title['genres'].value_counts()"
   ]
  },
  {
   "cell_type": "markdown",
   "metadata": {},
   "source": [
    "We see here that within the 'primary_title' and 'original_title\" there are duplicate names. Want to clean that up. Not necessary to touch genres since genre value is applied as a description of the film rather than an interfering value."
   ]
  },
  {
   "cell_type": "code",
   "execution_count": 57,
   "metadata": {
    "scrolled": true
   },
   "outputs": [
    {
     "data": {
      "text/plain": [
       "(CloudStreet: Soaring the American West    1\n",
       " One Night in Seattle                      1\n",
       " Meet Me There                             1\n",
       " Now Add Honey                             1\n",
       " 6ne Maili                                 1\n",
       "                                          ..\n",
       " The Paradise                              1\n",
       " The Godmother                             1\n",
       " Goa Is Not India                          1\n",
       " The Caretakers                            1\n",
       " The Football Boys                         1\n",
       " Name: primary_title, Length: 136071, dtype: int64,\n",
       " Icarus                                              3\n",
       " Missed Connections                                  3\n",
       " Hatsukoi                                            3\n",
       " Stranded                                            3\n",
       " Winnie                                              2\n",
       "                                                    ..\n",
       " Damasarete pero-pero: Wakarete moraimasu            1\n",
       " Jay Billion's Anything But Love                     1\n",
       " Rue des cités                                       1\n",
       " Tolerance: Mary Mackey and the East Side Gallery    1\n",
       " Life of Lemon                                       1\n",
       " Name: original_title, Length: 135755, dtype: int64,\n",
       " 90.0      6631\n",
       " 80.0      3270\n",
       " 85.0      2695\n",
       " 100.0     2482\n",
       " 75.0      2373\n",
       "           ... \n",
       " 485.0        1\n",
       " 356.0        1\n",
       " 241.0        1\n",
       " 4980.0       1\n",
       " 540.0        1\n",
       " Name: runtime_minutes, Length: 361, dtype: int64)"
      ]
     },
     "execution_count": 57,
     "metadata": {},
     "output_type": "execute_result"
    }
   ],
   "source": [
    "# Removing/cleaning the duplicates within original_title and primary_columns \n",
    "imdb_title2 = imdb_title.drop_duplicates(subset=['original_title'], keep = 'first')\n",
    "imdb_title2 = imdb_title.drop_duplicates(subset=['primary_title'], keep = 'first')\n",
    "imdb_title2['primary_title'].value_counts(), imdb_title2['original_title'].value_counts(), imdb_title2['runtime_minutes'].value_counts()"
   ]
  },
  {
   "cell_type": "markdown",
   "metadata": {},
   "source": [
    "We see here nearly all duplicates have been removed"
   ]
  },
  {
   "cell_type": "markdown",
   "metadata": {},
   "source": [
    "Lets see now how the value counts of runtimes is dispirsed "
   ]
  },
  {
   "cell_type": "code",
   "execution_count": 58,
   "metadata": {},
   "outputs": [
    {
     "data": {
      "text/plain": [
       "(1.0, 13.0, 227.0, 6631.0)"
      ]
     },
     "execution_count": 58,
     "metadata": {},
     "output_type": "execute_result"
    }
   ],
   "source": [
    "q_4_Imdb = imdb_title2[\"runtime_minutes\"].value_counts().quantile(1)\n",
    "q_3_Imdb = imdb_title2[\"runtime_minutes\"].value_counts().quantile(.75)\n",
    "q_2_Imdb = imdb_title2[\"runtime_minutes\"].value_counts().quantile(.5)\n",
    "q_1_Imdb = imdb_title2[\"runtime_minutes\"].value_counts().quantile(.25)\n",
    "\n",
    "q_1_Imdb , q_2_Imdb , q_3_Imdb, q_4_Imdb"
   ]
  },
  {
   "cell_type": "markdown",
   "metadata": {},
   "source": [
    "Seeing that the delta from 75th percentile to 100th percentile is 6,404 values shows that there may be multiple occurances of just a handful of runtimes."
   ]
  },
  {
   "cell_type": "code",
   "execution_count": 60,
   "metadata": {},
   "outputs": [
    {
     "name": "stdout",
     "output_type": "stream",
     "text": [
      "<class 'pandas.core.frame.DataFrame'>\n",
      "Int64Index: 106598 entries, 0 to 146142\n",
      "Data columns (total 3 columns):\n",
      " #   Column           Non-Null Count   Dtype  \n",
      "---  ------           --------------   -----  \n",
      " 0   tconst           106598 non-null  object \n",
      " 1   start_year       106598 non-null  int64  \n",
      " 2   runtime_minutes  106598 non-null  float64\n",
      "dtypes: float64(1), int64(1), object(1)\n",
      "memory usage: 3.3+ MB\n"
     ]
    },
    {
     "name": "stderr",
     "output_type": "stream",
     "text": [
      "<ipython-input-60-ab31585ae5a2>:2: SettingWithCopyWarning: \n",
      "A value is trying to be set on a copy of a slice from a DataFrame\n",
      "\n",
      "See the caveats in the documentation: https://pandas.pydata.org/pandas-docs/stable/user_guide/indexing.html#returning-a-view-versus-a-copy\n",
      "  imdb_title2.dropna(subset = ['start_year'],axis = 0,  inplace = True)\n",
      "<ipython-input-60-ab31585ae5a2>:3: SettingWithCopyWarning: \n",
      "A value is trying to be set on a copy of a slice from a DataFrame\n",
      "\n",
      "See the caveats in the documentation: https://pandas.pydata.org/pandas-docs/stable/user_guide/indexing.html#returning-a-view-versus-a-copy\n",
      "  imdb_title2.dropna(subset = ['runtime_minutes'], axis = 0,  inplace = True)\n",
      "C:\\Users\\roger\\anaconda3\\envs\\learn-env\\lib\\site-packages\\pandas\\core\\frame.py:4163: SettingWithCopyWarning: \n",
      "A value is trying to be set on a copy of a slice from a DataFrame\n",
      "\n",
      "See the caveats in the documentation: https://pandas.pydata.org/pandas-docs/stable/user_guide/indexing.html#returning-a-view-versus-a-copy\n",
      "  return super().drop(\n"
     ]
    }
   ],
   "source": [
    "# Remove columns that will no longer be used as well as remove null values to remaining columns\n",
    "imdb_title2.dropna(subset = ['start_year'],axis = 0,  inplace = True)\n",
    "imdb_title2.dropna(subset = ['runtime_minutes'], axis = 0,  inplace = True)\n",
    "imdb_title2.drop(['primary_title'], axis =1 , inplace = True)\n",
    "imdb_title2.drop(['original_title'], axis = 1,  inplace = True)\n",
    "imdb_title2.drop(['genres'], axis = 1,  inplace = True)\n",
    "\n",
    "imdb_title2.info()"
   ]
  },
  {
   "cell_type": "code",
   "execution_count": 5,
   "metadata": {},
   "outputs": [
    {
     "data": {
      "text/plain": [
       "90.0"
      ]
     },
     "execution_count": 5,
     "metadata": {},
     "output_type": "execute_result"
    }
   ],
   "source": [
    "# Check for the most common runtime to appear in the dataset\n",
    "most_common = imdb_title2[\"runtime_minutes\"].value_counts().index[0]\n",
    "most_common"
   ]
  },
  {
   "cell_type": "code",
   "execution_count": 61,
   "metadata": {
    "scrolled": true
   },
   "outputs": [
    {
     "data": {
      "text/plain": [
       "(start_year    2014.462165\n",
       " dtype: float64,\n",
       " start_year    2014.233998\n",
       " dtype: float64,\n",
       " start_year    2014.39813\n",
       " dtype: float64)"
      ]
     },
     "execution_count": 61,
     "metadata": {},
     "output_type": "execute_result"
    }
   ],
   "source": [
    "#Show where the longer times are moving more towards from the most common number\n",
    "G_90_Imdb = imdb_title2.loc[(imdb_title2['runtime_minutes'] > 90), ['start_year']].mean()\n",
    "B_90_Imdb = imdb_title2.loc[(imdb_title2['runtime_minutes'] < 90), ['start_year']].mean()\n",
    "Is_90_Imdb = imdb_title2.loc[(imdb_title2['runtime_minutes'] == 90), ['start_year']].mean()\n",
    "G_90_Imdb, B_90_Imdb, Is_90_Imdb \n",
    "# Shows newer movies are tending to be longer than 90 minutes with showing the average year \n",
    "# pushing to be higher when looking at longer runtimes when looking that the mean from the\n",
    "# most common value and up"
   ]
  },
  {
   "cell_type": "markdown",
   "metadata": {},
   "source": [
    "To get a visual on the dataset runtime values distribution we will plot the top 70 runtime values"
   ]
  },
  {
   "cell_type": "code",
   "execution_count": 55,
   "metadata": {
    "scrolled": true
   },
   "outputs": [
    {
     "data": {
      "text/plain": [
       "Text(0.5, 0, 'Run Times in Minutes')"
      ]
     },
     "execution_count": 55,
     "metadata": {},
     "output_type": "execute_result"
    },
    {
     "data": {
      "image/png": "[encoded data removed]",
      "text/plain": [
       "<Figure size 432x360 with 1 Axes>"
      ]
     },
     "metadata": {
      "needs_background": "light"
     },
     "output_type": "display_data"
    }
   ],
   "source": [
    "IMDB_Runtime_Numbers = imdb_title2['runtime_minutes'].value_counts().nlargest(70)\n",
    "\n",
    "IMDB_Runtime_Numbers_Index = imdb_title2['runtime_minutes'].value_counts().index[0:70]\n",
    "fig_IMBD, ax =plt.subplots(figsize = (6,5))\n",
    "ax.bar(IMDB_Runtime_Numbers_Index ,IMDB_Runtime_Numbers , color = 'green' )\n",
    "ax.set_facecolor('blue')\n",
    "ax.set_ylabel(\"Frequency Of Run Time Numbers\")\n",
    "ax.set_title(\"Most Common Movie Lengths\")\n",
    "ax.set_xlabel(\"Run Times in Minutes\")\n"
   ]
  },
  {
   "cell_type": "markdown",
   "metadata": {},
   "source": [
    "The graph shows how often the common value of 90 minutes is used"
   ]
  },
  {
   "cell_type": "markdown",
   "metadata": {},
   "source": [
    "We can move onto the Rotten Tomatoes dataset to see runtimes from movies throughout history"
   ]
  },
  {
   "cell_type": "code",
   "execution_count": 63,
   "metadata": {},
   "outputs": [
    {
     "data": {
      "text/plain": [
       "str"
      ]
     },
     "execution_count": 63,
     "metadata": {},
     "output_type": "execute_result"
    }
   ],
   "source": [
    "# testing the type of value that is within the runtime column\n",
    "type(rt_movie['runtime'][0])"
   ]
  },
  {
   "cell_type": "markdown",
   "metadata": {},
   "source": [
    "We see above the values in the columns are strings and must be changed into floats to be worked on"
   ]
  },
  {
   "cell_type": "code",
   "execution_count": null,
   "metadata": {},
   "outputs": [],
   "source": [
    "# testing the type of value that is within the column\n",
    "type(rt_movie['runtime'][0])"
   ]
  },
  {
   "cell_type": "code",
   "execution_count": 65,
   "metadata": {
    "scrolled": true
   },
   "outputs": [],
   "source": [
    "rt_movie['runtime_minutes']=rt_movie['runtime'].str.split()\n",
    "rt_movie['runtime_minutes']=rt_movie['runtime_minutes'].str[0]\n",
    "rt_movie['runtime_minutes'] = rt_movie['runtime_minutes'].astype(float)\n",
    "# change runtime from a string to a solo float number"
   ]
  },
  {
   "cell_type": "markdown",
   "metadata": {},
   "source": [
    "No column has just the year so we can grab from the theater_date"
   ]
  },
  {
   "cell_type": "code",
   "execution_count": 66,
   "metadata": {},
   "outputs": [],
   "source": [
    "# Grabbing just the year from theater date\n",
    "rt_movie['start_year']=rt_movie['theater_date'].str.split()\n",
    "rt_movie['start_year']=rt_movie['start_year'].str[2]\n",
    "rt_movie['start_year'] = (rt_movie['start_year']).astype(float)\n"
   ]
  },
  {
   "cell_type": "code",
   "execution_count": 67,
   "metadata": {},
   "outputs": [],
   "source": [
    "rt_movie.dropna(axis = 0, subset = ['start_year'], inplace = True)\n",
    "rt_movie.dropna(axis = 0, subset = ['runtime_minutes'], inplace = True)\n",
    "# Removing any null values in the columns 'Year' and 'running_mins'"
   ]
  },
  {
   "cell_type": "code",
   "execution_count": 13,
   "metadata": {},
   "outputs": [
    {
     "data": {
      "text/plain": [
       "start_year    1986.807692\n",
       "dtype: float64"
      ]
     },
     "execution_count": 13,
     "metadata": {},
     "output_type": "execute_result"
    }
   ],
   "source": [
    "# Seeing if the standard feature time of 90 is more towards current movies \n",
    "rt_movie.loc[(rt_movie['runtime_minutes'] ==90), ['start_year']].mean()\n",
    "# Average year being 1987 can possibly show"
   ]
  },
  {
   "cell_type": "code",
   "execution_count": 14,
   "metadata": {},
   "outputs": [
    {
     "data": {
      "text/html": [
       "<div>\n",
       "<style scoped>\n",
       "    .dataframe tbody tr th:only-of-type {\n",
       "        vertical-align: middle;\n",
       "    }\n",
       "\n",
       "    .dataframe tbody tr th {\n",
       "        vertical-align: top;\n",
       "    }\n",
       "\n",
       "    .dataframe thead th {\n",
       "        text-align: right;\n",
       "    }\n",
       "</style>\n",
       "<table border=\"1\" class=\"dataframe\">\n",
       "  <thead>\n",
       "    <tr style=\"text-align: right;\">\n",
       "      <th></th>\n",
       "      <th>id</th>\n",
       "      <th>synopsis</th>\n",
       "      <th>rating</th>\n",
       "      <th>genre</th>\n",
       "      <th>director</th>\n",
       "      <th>theater_date</th>\n",
       "      <th>dvd_date</th>\n",
       "      <th>box_office</th>\n",
       "      <th>runtime_minutes</th>\n",
       "      <th>start_year</th>\n",
       "    </tr>\n",
       "  </thead>\n",
       "  <tbody>\n",
       "    <tr>\n",
       "      <th>0</th>\n",
       "      <td>1</td>\n",
       "      <td>This gritty, fast-paced, and innovative police...</td>\n",
       "      <td>R</td>\n",
       "      <td>Action and Adventure|Classics|Drama</td>\n",
       "      <td>William Friedkin</td>\n",
       "      <td>Oct 9, 1971</td>\n",
       "      <td>Sep 25, 2001</td>\n",
       "      <td>NaN</td>\n",
       "      <td>104.0</td>\n",
       "      <td>1971.0</td>\n",
       "    </tr>\n",
       "    <tr>\n",
       "      <th>1</th>\n",
       "      <td>3</td>\n",
       "      <td>New York City, not-too-distant-future: Eric Pa...</td>\n",
       "      <td>R</td>\n",
       "      <td>Drama|Science Fiction and Fantasy</td>\n",
       "      <td>David Cronenberg</td>\n",
       "      <td>Aug 17, 2012</td>\n",
       "      <td>Jan 1, 2013</td>\n",
       "      <td>600,000</td>\n",
       "      <td>108.0</td>\n",
       "      <td>2012.0</td>\n",
       "    </tr>\n",
       "    <tr>\n",
       "      <th>2</th>\n",
       "      <td>5</td>\n",
       "      <td>Illeana Douglas delivers a superb performance ...</td>\n",
       "      <td>R</td>\n",
       "      <td>Drama|Musical and Performing Arts</td>\n",
       "      <td>Allison Anders</td>\n",
       "      <td>Sep 13, 1996</td>\n",
       "      <td>Apr 18, 2000</td>\n",
       "      <td>NaN</td>\n",
       "      <td>116.0</td>\n",
       "      <td>1996.0</td>\n",
       "    </tr>\n",
       "    <tr>\n",
       "      <th>3</th>\n",
       "      <td>6</td>\n",
       "      <td>Michael Douglas runs afoul of a treacherous su...</td>\n",
       "      <td>R</td>\n",
       "      <td>Drama|Mystery and Suspense</td>\n",
       "      <td>Barry Levinson</td>\n",
       "      <td>Dec 9, 1994</td>\n",
       "      <td>Aug 27, 1997</td>\n",
       "      <td>NaN</td>\n",
       "      <td>128.0</td>\n",
       "      <td>1994.0</td>\n",
       "    </tr>\n",
       "    <tr>\n",
       "      <th>5</th>\n",
       "      <td>8</td>\n",
       "      <td>The year is 1942. As the Allies unite overseas...</td>\n",
       "      <td>PG</td>\n",
       "      <td>Drama|Kids and Family</td>\n",
       "      <td>Jay Russell</td>\n",
       "      <td>Mar 3, 2000</td>\n",
       "      <td>Jul 11, 2000</td>\n",
       "      <td>NaN</td>\n",
       "      <td>95.0</td>\n",
       "      <td>2000.0</td>\n",
       "    </tr>\n",
       "  </tbody>\n",
       "</table>\n",
       "</div>"
      ],
      "text/plain": [
       "   id                                           synopsis rating  \\\n",
       "0   1  This gritty, fast-paced, and innovative police...      R   \n",
       "1   3  New York City, not-too-distant-future: Eric Pa...      R   \n",
       "2   5  Illeana Douglas delivers a superb performance ...      R   \n",
       "3   6  Michael Douglas runs afoul of a treacherous su...      R   \n",
       "5   8  The year is 1942. As the Allies unite overseas...     PG   \n",
       "\n",
       "                                 genre          director  theater_date  \\\n",
       "0  Action and Adventure|Classics|Drama  William Friedkin   Oct 9, 1971   \n",
       "1    Drama|Science Fiction and Fantasy  David Cronenberg  Aug 17, 2012   \n",
       "2    Drama|Musical and Performing Arts    Allison Anders  Sep 13, 1996   \n",
       "3           Drama|Mystery and Suspense    Barry Levinson   Dec 9, 1994   \n",
       "5                Drama|Kids and Family       Jay Russell   Mar 3, 2000   \n",
       "\n",
       "       dvd_date box_office  runtime_minutes  start_year  \n",
       "0  Sep 25, 2001        NaN            104.0      1971.0  \n",
       "1   Jan 1, 2013    600,000            108.0      2012.0  \n",
       "2  Apr 18, 2000        NaN            116.0      1996.0  \n",
       "3  Aug 27, 1997        NaN            128.0      1994.0  \n",
       "5  Jul 11, 2000        NaN             95.0      2000.0  "
      ]
     },
     "execution_count": 14,
     "metadata": {},
     "output_type": "execute_result"
    }
   ],
   "source": [
    "# Dropping unnecessary columns\n",
    "rt_movie.drop(['runtime'], axis =1, inplace =True)\n",
    "rt_movie.drop(['studio'],axis = 1, inplace = True)\n",
    "rt_movie.drop(['currency'],axis = 1, inplace = True)\n",
    "rt_movie.drop(['writer'],axis = 1, inplace = True)"
   ]
  },
  {
   "cell_type": "code",
   "execution_count": 15,
   "metadata": {},
   "outputs": [
    {
     "name": "stdout",
     "output_type": "stream",
     "text": [
      "runtime_minutes    106.461538\n",
      "dtype: float64\n",
      "runtime_minutes    148.0\n",
      "dtype: float64\n",
      "runtime_minutes    80.0\n",
      "dtype: float64\n"
     ]
    }
   ],
   "source": [
    "#checking normal runtimes for newer movies\n",
    "print(rt_movie.loc[(rt_movie['start_year'] >=2015),['runtime_minutes']].mean())\n",
    "print(rt_movie.loc[(rt_movie['start_year'] >=2015),['runtime_minutes']].max())\n",
    "print(rt_movie.loc[(rt_movie['start_year'] >=2015),['runtime_minutes']].min())\n",
    "# rt_movie.loc[(rt_movie['Year'] >=2015),['running_mins']]\n",
    "#Ave 16 mins longer than mode of data set\n",
    "# Max length 148 min\n",
    "# Min legnth 80\n",
    "#Showing More Modern Movies are longer than the feature length Standard\n",
    "# Modern movies being greater in this case being 2015 and present "
   ]
  },
  {
   "cell_type": "code",
   "execution_count": 16,
   "metadata": {},
   "outputs": [],
   "source": [
    "#function to do what was above, just grabbing the float number from the string\n",
    "def string_to_float(df, series):\n",
    "    df[series] = df[series].str.split()\n",
    "    df[series] = df[series].str[0]\n",
    "    df[series] = df[series].astype(float)\n",
    "    return df[series]\n",
    "    "
   ]
  },
  {
   "cell_type": "code",
   "execution_count": 17,
   "metadata": {},
   "outputs": [
    {
     "data": {
      "text/plain": [
       "(1.25, 3.0, 18.0, 53.0)"
      ]
     },
     "execution_count": 17,
     "metadata": {},
     "output_type": "execute_result"
    }
   ],
   "source": [
    "q_4_rt = rt_movie[\"runtime_minutes\"].value_counts().quantile(1)\n",
    "q_3_rt = rt_movie[\"runtime_minutes\"].value_counts().quantile(.75)\n",
    "q_2_rt = rt_movie[\"runtime_minutes\"].value_counts().quantile(.5)\n",
    "q_1_rt = rt_movie[\"runtime_minutes\"].value_counts().quantile(.25)\n",
    "q_1_rt , q_2_rt, q_3_rt, q_4_rt\n",
    "# shows broad range and may want to ignore anything below q_3"
   ]
  },
  {
   "cell_type": "code",
   "execution_count": 69,
   "metadata": {
    "scrolled": true
   },
   "outputs": [],
   "source": [
    "Top_70_RT_Indexes = rt_movie['runtime_minutes'].value_counts().index[:70]\n",
    "Top_70_RT = rt_movie['runtime_minutes'].value_counts().nlargest(70)\n",
    "#grabbbing 70 most common runtimes from rotten tomatoes file "
   ]
  },
  {
   "cell_type": "markdown",
   "metadata": {},
   "source": [
    "Lets plot a chart the get a visual on runtime with a datset that has a longer time history"
   ]
  },
  {
   "cell_type": "code",
   "execution_count": 70,
   "metadata": {
    "scrolled": false
   },
   "outputs": [
    {
     "data": {
      "text/plain": [
       "<matplotlib.legend.Legend at 0x2429c254610>"
      ]
     },
     "execution_count": 70,
     "metadata": {},
     "output_type": "execute_result"
    },
    {
     "data": {
      "image/png": "[encoded data removed]",
      "text/plain": [
       "<Figure size 576x432 with 1 Axes>"
      ]
     },
     "metadata": {
      "needs_background": "light"
     },
     "output_type": "display_data"
    }
   ],
   "source": [
    "fig_rt , ax = plt.subplots(figsize = (8,6))\n",
    "ax.bar(Top_70_RT_Indexes , Top_70_RT, color = 'blue' )\n",
    "ax.set_ylabel(\"Frequency Of Runtime Numbers\")\n",
    "ax.set_xlabel(\"Run Times in Minutes\")\n",
    "ax.set_title('Most Common Movie Lengths')\n",
    "ax.set_facecolor('yellow')\n",
    "ax.legend(['As Per Rotten Tomatoes'])\n",
    "# plot showing top 70 most common runtimes\n"
   ]
  },
  {
   "cell_type": "markdown",
   "metadata": {},
   "source": [
    "Still seeing the heavy grouping around the common90 minute runtime number"
   ]
  },
  {
   "cell_type": "code",
   "execution_count": 71,
   "metadata": {},
   "outputs": [],
   "source": [
    "# Gathering Values within Rotten Tomatoes File Where only looking at frequncy runtime within the past 10 years\n",
    "# just like the IMDB dataset\n",
    "P10_Years_RT = rt_movie.loc[(rt_movie['start_year'] >=2011),['runtime_minutes']].value_counts().nlargest(50)\n",
    "ten = P10_Years_RT.index[0:50]\n",
    "# way to turn multi-index into float values for the x column\n",
    "P10_Index = ten.get_level_values(0).astype(float)"
   ]
  },
  {
   "cell_type": "code",
   "execution_count": 72,
   "metadata": {
    "scrolled": true
   },
   "outputs": [
    {
     "data": {
      "text/plain": [
       "<matplotlib.legend.Legend at 0x24287dd2100>"
      ]
     },
     "execution_count": 72,
     "metadata": {},
     "output_type": "execute_result"
    },
    {
     "data": {
      "image/png": "[encoded data removed]",
      "text/plain": [
       "<Figure size 576x432 with 1 Axes>"
      ]
     },
     "metadata": {
      "needs_background": "light"
     },
     "output_type": "display_data"
    }
   ],
   "source": [
    "# Graph shoiwing most frequent runtimes of the past 10 years rotten tomatoes graph\n",
    "fig_Rotten_Modern , ax= plt.subplots(figsize = (8,6))\n",
    "ax.bar(P10_Index, P10_Years_RT)\n",
    "ax.set_xlabel('Runtimes in Minutes ')\n",
    "ax.set_ylabel('Frequency')\n",
    "ax.set_title('Past 10 Years')\n",
    "ax.legend(['As Per Rotten Tomatoes'])"
   ]
  },
  {
   "cell_type": "markdown",
   "metadata": {},
   "source": [
    "Lets get a far better visual on how runtimes have been either increasing or decreasing over time"
   ]
  },
  {
   "cell_type": "code",
   "execution_count": 73,
   "metadata": {
    "scrolled": true
   },
   "outputs": [
    {
     "name": "stdout",
     "output_type": "stream",
     "text": [
      "   runtime_minutes\n",
      "0             80.0    runtime_minutes\n",
      "0             90.0    runtime_minutes\n",
      "0             95.0    runtime_minutes\n",
      "0             95.0    runtime_minutes\n",
      "0             93.0\n",
      "1             95.0\n",
      "2            108.0\n",
      "3            115.0    runtime_minutes\n",
      "0            100.0    runtime_minutes\n",
      "0             90.0\n",
      "1            120.0\n",
      "runtime_minutes    99.833333\n",
      "dtype: float64 runtime_minutes    102.362637\n",
      "dtype: float64 runtime_minutes    110.300699\n",
      "dtype: float64 runtime_minutes    106.526316\n",
      "dtype: float64 runtime_minutes    104.058065\n",
      "dtype: float64 runtime_minutes    107.195122\n",
      "dtype: float64 runtime_minutes    110.4\n",
      "dtype: float64\n",
      "runtime_minutes    93.5\n",
      "dtype: float64 runtime_minutes    98.0\n",
      "dtype: float64 runtime_minutes    104.0\n",
      "dtype: float64 runtime_minutes    102.5\n",
      "dtype: float64 runtime_minutes    102.0\n",
      "dtype: float64 runtime_minutes    104.0\n",
      "dtype: float64 runtime_minutes    106.5\n",
      "dtype: float64\n"
     ]
    }
   ],
   "source": [
    "# top most 5 or 10 common of each decade put in a list or dictionary key, year ,value most common runtime put in line chart?\n",
    "mode_1 = rt_movie.loc[rt_movie['start_year'] < 1941, ['runtime_minutes']].mode()\n",
    "mode_2 = rt_movie.loc[(rt_movie['start_year'] >= 1941) & (rt_movie['start_year'] <1961), ['runtime_minutes']].mode()\n",
    "mode_3 = rt_movie.loc[(rt_movie['start_year'] >= 1961) & (rt_movie['start_year'] <1981), ['runtime_minutes']].mode()\n",
    "mode_4 = rt_movie.loc[(rt_movie['start_year'] >= 1981) & (rt_movie['start_year'] <2001), ['runtime_minutes']].mode()\n",
    "mode_5 = rt_movie.loc[(rt_movie['start_year'] >= 2001) & (rt_movie['start_year'] <2011), ['runtime_minutes']].mode()\n",
    "mode_6 = rt_movie.loc[(rt_movie['start_year'] >= 2011) , ['runtime_minutes']].mode()\n",
    "mode_7 = rt_movie.loc[(rt_movie['start_year'] == 2018) , ['runtime_minutes']].mode()\n",
    "median_1 = rt_movie.loc[rt_movie['start_year'] < 1941, ['runtime_minutes']].median()\n",
    "median_2 = rt_movie.loc[(rt_movie['start_year'] >= 1941) & (rt_movie['start_year'] <1961), ['runtime_minutes']].median()\n",
    "median_3 = rt_movie.loc[(rt_movie['start_year'] >= 1961) & (rt_movie['start_year'] <1981), ['runtime_minutes']].median()\n",
    "median_4 = rt_movie.loc[(rt_movie['start_year'] >= 1981) & (rt_movie['start_year'] <2001), ['runtime_minutes']].median()\n",
    "median_5 = rt_movie.loc[(rt_movie['start_year'] >= 2001) & (rt_movie['start_year'] <2011), ['runtime_minutes']].median()\n",
    "median_6 = rt_movie.loc[(rt_movie['start_year'] >= 2011) , ['runtime_minutes']].median()\n",
    "median_7 = rt_movie.loc[(rt_movie['start_year'] == 2018) , ['runtime_minutes']].median()\n",
    "mean_1 = rt_movie.loc[rt_movie['start_year'] < 1941, ['runtime_minutes']].mean()\n",
    "mean_2 = rt_movie.loc[(rt_movie['start_year'] >= 1941) & (rt_movie['start_year'] <1961), ['runtime_minutes']].mean()\n",
    "mean_3 = rt_movie.loc[(rt_movie['start_year'] >= 1961) & (rt_movie['start_year'] <1981), ['runtime_minutes']].mean()\n",
    "mean_4 = rt_movie.loc[(rt_movie['start_year'] >= 1981) & (rt_movie['start_year'] <2001), ['runtime_minutes']].mean()\n",
    "mean_5 = rt_movie.loc[(rt_movie['start_year'] >= 2001) & (rt_movie['start_year'] <2011), ['runtime_minutes']].mean()\n",
    "mean_6 = rt_movie.loc[(rt_movie['start_year'] >= 2011) , ['runtime_minutes']].mean()\n",
    "mean_7 = rt_movie.loc[(rt_movie['start_year'] == 2018) , ['runtime_minutes']].mean()\n",
    "print(mode_1, mode_2, mode_3, mode_4, mode_5, mode_6, mode_7)\n",
    "print(mean_1, mean_2, mean_3, mean_4, mean_5, mean_6, mean_7)\n",
    "print(median_1, median_2, median_3, median_4, median_5, median_6, median_7)\n",
    "#modes being in order   80, 90 , 95, 95, 102, 100, 105 with mode_5 and mode_7 having multiple modes therefore took the average of them\n",
    "#medians being 94, 98, 104, 103, 102, 104, 107\n",
    "#means 100, 102, 110, 107, 104, 107, 111"
   ]
  },
  {
   "cell_type": "code",
   "execution_count": 39,
   "metadata": {
    "scrolled": false
   },
   "outputs": [
    {
     "name": "stderr",
     "output_type": "stream",
     "text": [
      "C:\\Users\\roger\\anaconda3\\envs\\learn-env\\lib\\site-packages\\seaborn\\_decorators.py:36: FutureWarning: Pass the following variables as keyword args: x, y. From version 0.12, the only valid positional argument will be `data`, and passing other arguments without an explicit keyword will result in an error or misinterpretation.\n",
      "  warnings.warn(\n",
      "C:\\Users\\roger\\anaconda3\\envs\\learn-env\\lib\\site-packages\\seaborn\\_decorators.py:36: FutureWarning: Pass the following variables as keyword args: x, y. From version 0.12, the only valid positional argument will be `data`, and passing other arguments without an explicit keyword will result in an error or misinterpretation.\n",
      "  warnings.warn(\n",
      "C:\\Users\\roger\\anaconda3\\envs\\learn-env\\lib\\site-packages\\seaborn\\_decorators.py:36: FutureWarning: Pass the following variables as keyword args: x, y. From version 0.12, the only valid positional argument will be `data`, and passing other arguments without an explicit keyword will result in an error or misinterpretation.\n",
      "  warnings.warn(\n"
     ]
    },
    {
     "data": {
      "text/plain": [
       "Text(0.5, 1.0, 'The Gradual Increase Of Movie Runtimes Through History ')"
      ]
     },
     "execution_count": 39,
     "metadata": {},
     "output_type": "execute_result"
    },
    {
     "data": {
      "image/png": "[encoded data removed]",
      "text/plain": [
       "<Figure size 432x288 with 1 Axes>"
      ]
     },
     "metadata": {},
     "output_type": "display_data"
    }
   ],
   "source": [
    "mode_values = [80, 90, 95, 95, 102, 100, 105]\n",
    "Time = ['1921', '1941', '1961', '1981', '2001', '2011', '2018' ]\n",
    "median_values = [94,98,104,103,102,104,107]\n",
    "mean_values = [100, 102, 110, 107, 104, 107, 111]\n",
    "sns.set_theme(style=\"darkgrid\")\n",
    "sns.lineplot(Time, mode_values)\n",
    "sns.set_theme(style=\"darkgrid\")\n",
    "sns.lineplot(Time, median_values)\n",
    "sns.lineplot(Time, mean_values)\n",
    "plt.legend(['Mode of Movie Length', 'Median of Time Points' , 'Mean of Time Points'])\n",
    "plt.ylabel('Run Times')\n",
    "plt.title('The Gradual Increase Of Movie Runtimes Through History ')\n",
    "#Line graph to show non-technical viewer that trend for movie lengths is getting longer since 1921"
   ]
  },
  {
   "cell_type": "markdown",
   "metadata": {},
   "source": [
    "As we have gotten down here at the last graph it shows how overtime the runtimes are going longer than the industry standard. With the industry standard being implemented back in the 1920's to make sure movies weren't overbearing to the public. But now that movies are getting longer and straying from the 90 minute mark it is safe to say that following the trend of breaking the industry standard is a safe bet because it can allow the studio to not be constricted to this 90 minute mark and possibly lmiting what can be put in the film."
   ]
  }
 ],
 "metadata": {
  "kernelspec": {
   "display_name": "Python (learn-env)",
   "language": "python",
   "name": "learn-env"
  },
  "language_info": {
   "codemirror_mode": {
    "name": "ipython",
    "version": 3
   },
   "file_extension": ".py",
   "mimetype": "text/x-python",
   "name": "python",
   "nbconvert_exporter": "python",
   "pygments_lexer": "ipython3",
   "version": "3.8.5"
  }
 },
 "nbformat": 4,
 "nbformat_minor": 4
}
