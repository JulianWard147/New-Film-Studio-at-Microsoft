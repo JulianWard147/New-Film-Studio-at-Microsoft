{
 "cells": [
  {
   "cell_type": "markdown",
   "metadata": {},
   "source": [
    "## Recommendations for Microsoft's New Movie Studio"
   ]
  },
  {
   "cell_type": "markdown",
   "metadata": {},
   "source": [
    "In this notebook we are going to explore the relationship between the movie success and movie time of release,movie runtime, movie genre, directors, and actors/actresses. \n",
    "Success will be based on ROI and Profit margin.\n"
   ]
  },
  {
   "cell_type": "markdown",
   "metadata": {},
   "source": [
    "First object is to clean up the movie budget dataframe, then merge all the relevant data sets so we have one dataframe\n",
    "that is easy to work with."
   ]
  },
  {
   "cell_type": "code",
   "execution_count": 1,
   "metadata": {
    "scrolled": false
   },
   "outputs": [
    {
     "name": "stdout",
     "output_type": "stream",
     "text": [
      "<class 'pandas.core.frame.DataFrame'>\n",
      "Int64Index: 5782 entries, 0 to 5781\n",
      "Data columns (total 14 columns):\n",
      " #   Column             Non-Null Count  Dtype  \n",
      "---  ------             --------------  -----  \n",
      " 0   index              5782 non-null   int64  \n",
      " 1   id                 5782 non-null   int64  \n",
      " 2   release_date       5782 non-null   object \n",
      " 3   movie              5782 non-null   object \n",
      " 4   production_budget  5782 non-null   int64  \n",
      " 5   domestic_gross     5782 non-null   int64  \n",
      " 6   worldwide_gross    5782 non-null   int64  \n",
      " 7   mmdf_uni_id        5782 non-null   int64  \n",
      " 8   Profit Margin      5782 non-null   float64\n",
      " 9   ROI                5782 non-null   float64\n",
      " 10  Year               5782 non-null   int64  \n",
      " 11  Month              5782 non-null   object \n",
      " 12  New Title          165 non-null    object \n",
      " 13  is_title_NaN       5782 non-null   bool   \n",
      "dtypes: bool(1), float64(2), int64(7), object(4)\n",
      "memory usage: 798.1+ KB\n"
     ]
    },
    {
     "data": {
      "text/plain": [
       "None"
      ]
     },
     "metadata": {},
     "output_type": "display_data"
    }
   ],
   "source": [
    "#Complete cell to create money metrics df for merging\n",
    "#importing stuff\n",
    "import pandas as pd\n",
    "import numpy as np\n",
    "import matplotlib.pyplot as plt\n",
    "%matplotlib inline\n",
    "import seaborn as sns\n",
    "from matplotlib.pyplot import figure\n",
    "import warnings\n",
    "warnings.filterwarnings('ignore')\n",
    "\n",
    "# Load all the data.\n",
    "bom_movie_gross_df = pd.read_csv('zippedData/bom.movie_gross.csv.gz')\n",
    "imdb_name_basics_df = pd.read_csv('zippedData/imdb.name.basics.csv.gz')\n",
    "imdb_title_akas_df = pd.read_csv('zippedData/imdb.title.akas.csv.gz')\n",
    "imdb_title_basics_df = pd.read_csv('zippedData/imdb.title.basics.csv.gz')\n",
    "imdb_title_crew_df = pd.read_csv('zippedData/imdb.title.crew.csv.gz')\n",
    "imdb_title_principals_df = pd.read_csv('zippedData/imdb.title.principals.csv.gz')\n",
    "imdb_title_ratings_df = pd.read_csv('zippedData/imdb.title.ratings.csv.gz')\n",
    "rt_movie_info_df = pd.read_csv('zippedData/rt.movie_info.tsv.gz', delimiter='\\t')\n",
    "rt_reviews_df = pd.read_csv('zippedData/rt.reviews.tsv.gz', delimiter='\\t', encoding='latin-1')\n",
    "tmdb_movies_df = pd.read_csv('zippedData/tmdb.movies.csv.gz')\n",
    "tn_movie_budgets_df = pd.read_csv('zippedData/tn.movie_budgets.csv.gz')\n",
    "\n",
    "#renaming it to work on\n",
    "money_metrics_df = tn_movie_budgets_df\n",
    "\n",
    "#funtion for cleaning\n",
    "def clean_a_money_column(df, series_title):\n",
    "    df[series_title] = df[series_title].str.replace('$','')\n",
    "    df[series_title] = df[series_title].str.replace(',','')\n",
    "    df[series_title] = pd.to_numeric(df[series_title])\n",
    "    return df\n",
    "\n",
    "#cleaning\n",
    "money_metrics_df = clean_a_money_column(money_metrics_df,'worldwide_gross')\n",
    "money_metrics_df = clean_a_money_column(money_metrics_df,'domestic_gross')\n",
    "money_metrics_df = clean_a_money_column(money_metrics_df,'production_budget')\n",
    "\n",
    "#unique ID for later merging madness\n",
    "money_metrics_df['mmdf_uni_id'] = money_metrics_df.index\n",
    "\n",
    "#adding profit margin and ROI columns\n",
    "numerator = money_metrics_df['worldwide_gross'] - money_metrics_df['production_budget']\n",
    "money_metrics_df['Profit Margin'] = (numerator*100)/money_metrics_df['worldwide_gross']\n",
    "money_metrics_df.loc[money_metrics_df['Profit Margin'] == float('-inf'), 'Profit Margin'] = 0\n",
    "money_metrics_df['ROI'] = (money_metrics_df['worldwide_gross']/money_metrics_df['production_budget'])\n",
    "\n",
    "# This line of code messes with my data cleaning - Vu\n",
    "#setting profit margin desc as order for the table\n",
    "# money_metrics_df=money_metrics_df.sort_values(['Profit Margin'], ascending=False)\n",
    "\n",
    "#creating year and month columns\n",
    "#Vu's magic lambda, plus to numeric on the year \n",
    "money_metrics_df['Year'] = pd.to_numeric(money_metrics_df['release_date'].map(lambda x: x[-4:]))\n",
    "money_metrics_df['Month'] = money_metrics_df['release_date'].map(lambda x: x[:3])\n",
    "\n",
    "#vu's dupe check\n",
    "movie_dupes = pd.Series(money_metrics_df['movie'].value_counts())\n",
    "title_dupes = [movie_dupes.index[index] for index in list(range(len(movie_dupes))) if movie_dupes.values[index] > 1]\n",
    "\n",
    "#making a new df to do the rename in\n",
    "title_dupes_df = money_metrics_df[money_metrics_df['movie'].isin(title_dupes)].copy()\n",
    "\n",
    "#Making the new title by combining the name of the movie and the year of release\n",
    "title_dupes_df['New Title'] = title_dupes_df['movie'] + ' ' + title_dupes_df['Year'].astype(str)\n",
    "\n",
    "#creating a new DF dropping all the columns we don't need \n",
    "title_dupes_df_merger = title_dupes_df[['mmdf_uni_id', 'New Title']]\n",
    "#Don't actually know if we need this but, whatever.\n",
    "money_metrics_df.reset_index(inplace = True)\n",
    "\n",
    "#reintegrating new titles in a new df mergedf\n",
    "mergedf = money_metrics_df.merge(title_dupes_df_merger, on = 'mmdf_uni_id', how= 'left')\n",
    "\n",
    "#vu's slightly less magical de-duplicator\n",
    "#new column for boolean\n",
    "mergedf['is_title_NaN'] = mergedf['New Title'].isnull()\n",
    "#for loop to rename 'Movie'\n",
    "for movie_index in list(range(len(mergedf.index))):\n",
    "    if  ~mergedf['is_title_NaN'][movie_index]:\n",
    "        mergedf['movie'][movie_index] = mergedf['New Title'][movie_index]\n",
    "\n",
    "display(mergedf.info())\n",
    "\n",
    "money_metrics_merge_ready_df = mergedf.copy()\n",
    "\n",
    "#### NOW OUTPUTS A DF CALLED money_metrics_merge_ready\n",
    "#### TRY TO NOT MESS WITH THIS BLOCK, MAKE A COPY OF money_metrics_merge_ready\n",
    "#### AND MESS WITH THAT"
   ]
  },
  {
   "cell_type": "code",
   "execution_count": null,
   "metadata": {},
   "outputs": [],
   "source": []
  },
  {
   "cell_type": "code",
   "execution_count": null,
   "metadata": {},
   "outputs": [],
   "source": []
  },
  {
   "cell_type": "code",
   "execution_count": null,
   "metadata": {},
   "outputs": [],
   "source": []
  },
  {
   "cell_type": "code",
   "execution_count": null,
   "metadata": {},
   "outputs": [],
   "source": []
  },
  {
   "cell_type": "code",
   "execution_count": null,
   "metadata": {},
   "outputs": [],
   "source": []
  },
  {
   "cell_type": "markdown",
   "metadata": {},
   "source": [
    "# Beginnning of Vu's code"
   ]
  },
  {
   "cell_type": "markdown",
   "metadata": {},
   "source": [
    "## Reading in IMDB's title.basics dataset"
   ]
  },
  {
   "cell_type": "code",
   "execution_count": 2,
   "metadata": {},
   "outputs": [],
   "source": [
    "g_df = imdb_title_basics_df.copy()"
   ]
  },
  {
   "cell_type": "markdown",
   "metadata": {},
   "source": [
    "## Identifying Duplicates in IMDB's title.basics"
   ]
  },
  {
   "cell_type": "code",
   "execution_count": 3,
   "metadata": {},
   "outputs": [
    {
     "name": "stdout",
     "output_type": "stream",
     "text": [
      "Amount of unique duplicate movie title: 6182\n",
      "Total amount of duplicate movie titles: 16255\n",
      "Home                              24\n",
      "The Return                        20\n",
      "Broken                            20\n",
      "Homecoming                        16\n",
      "Alone                             16\n",
      "                                  ..\n",
      "Kaasav: Turtle                     1\n",
      "Mo Salah: A Football Fairytale     1\n",
      "Drums of Maya                      1\n",
      "District Nurse                     1\n",
      "Isabella de Rosis                  1\n",
      "Name: primary_title, Length: 136071, dtype: int64\n"
     ]
    }
   ],
   "source": [
    "def determine_dupes(series):\n",
    "    series_vcs = pd.Series(series.value_counts())\n",
    "    series_dupes = [series_vcs.index[index] for index in list(range(len(series_vcs))) if series_vcs.values[index] > 1]\n",
    "    print(\"Amount of unique duplicate movie title: \" + str(len(series_dupes)))\n",
    "    print(\"Total amount of duplicate movie titles: \" + str(series_vcs[0:len(series_dupes)].sum()))\n",
    "    \n",
    "    return series_vcs\n",
    "\n",
    "# How many duplicates are in the 'primary_title' column?\n",
    "print(determine_dupes(g_df['primary_title']))"
   ]
  },
  {
   "cell_type": "markdown",
   "metadata": {},
   "source": [
    "## Creating 'title_dupes_df' DataFrame to include new movie titles with movie name and movie year for duplicates"
   ]
  },
  {
   "cell_type": "code",
   "execution_count": 4,
   "metadata": {},
   "outputs": [],
   "source": [
    "# Create a unique ID column within g_df so that merge with title_dupes_df goes smoothly later.\n",
    "g_df.reset_index(inplace=True)\n",
    "g_df.rename(columns={'index' : 'g_unique_id'}, inplace=True)"
   ]
  },
  {
   "cell_type": "code",
   "execution_count": 5,
   "metadata": {},
   "outputs": [],
   "source": [
    "# Create a DataFrame of all the duplicate movie titles.\n",
    "title_vcs = pd.Series(g_df['primary_title'].value_counts())\n",
    "title_dupes = [title_vcs.index[index] for index in list(range(len(title_vcs))) if title_vcs.values[index] > 1]\n",
    "title_dupes_df = g_df[g_df['primary_title'].isin(title_dupes)].copy()\n",
    "\n",
    "# Create a new column called 'updated_title' that includes the name of the movie and the year of the movie.\n",
    "title_dupes_df['updated_title'] = title_dupes_df['primary_title'] + ' ' + title_dupes_df['start_year'].astype(str)"
   ]
  },
  {
   "cell_type": "code",
   "execution_count": 6,
   "metadata": {},
   "outputs": [
    {
     "name": "stdout",
     "output_type": "stream",
     "text": [
      "Amount of unique duplicate movie title: 1870\n",
      "Total amount of duplicate movie titles: 3942\n",
      "Ângelo de Sousa - Tudo o Que Sou Capaz 2010    7\n",
      "Split 2016                                     6\n",
      "Inside Out 2011                                5\n",
      "Escape from Candyland 2017                     4\n",
      "My Way 2012                                    4\n",
      "                                              ..\n",
      "New Age 2016                                   1\n",
      "Target 2011                                    1\n",
      "Street 2015                                    1\n",
      "Adrenaline 2016                                1\n",
      "Territory 2016                                 1\n",
      "Name: updated_title, Length: 14183, dtype: int64\n"
     ]
    }
   ],
   "source": [
    "# How many unique duplicates are there in `title_dupes_df`?\n",
    "# How does this compare to unique duplicates that were in `g_df`?\n",
    "print(determine_dupes(title_dupes_df['updated_title']))\n",
    "# Over 66% of the records that once weren't unique are now unique!"
   ]
  },
  {
   "cell_type": "code",
   "execution_count": 7,
   "metadata": {},
   "outputs": [],
   "source": [
    "# Remove columns that shouldn't be around during the merge (for duplication purposes).\n",
    "remove_columns = ['tconst', 'primary_title', 'original_title', 'start_year', 'runtime_minutes', 'genres']\n",
    "title_dupes_df.drop(columns=remove_columns, inplace=True)"
   ]
  },
  {
   "cell_type": "markdown",
   "metadata": {},
   "source": [
    "## Merging `'title_dupes_df1'` with `'g_df'`"
   ]
  },
  {
   "cell_type": "code",
   "execution_count": 8,
   "metadata": {},
   "outputs": [],
   "source": [
    "g_and_dupes_df = pd.merge(left=g_df, right=title_dupes_df, on=['g_unique_id'], how ='left')"
   ]
  },
  {
   "cell_type": "code",
   "execution_count": 9,
   "metadata": {},
   "outputs": [],
   "source": [
    "# 16GB RAM - THIS CODE BLOCK WILL TAKE ~1 MINUTE TO FINISH RUNNING\n",
    "# It has to iterate through 140,000+ indices...\n",
    "\n",
    "# Assign non-null values in the 'updated_title' column to their respective 'primary_title'\n",
    "# Found it easiest to create a new column that says whether or not a non-null value is in \n",
    "# the 'updated_title' column.\n",
    "g_and_dupes_df['is_title_NaN'] = g_and_dupes_df['updated_title'].isnull()\n",
    "for movie_index in list(range(len(g_and_dupes_df.index))):\n",
    "    if ~g_and_dupes_df.loc[movie_index, 'is_title_NaN']:\n",
    "        g_and_dupes_df.loc[movie_index, 'primary_title'] = g_and_dupes_df.loc[movie_index, 'updated_title']"
   ]
  },
  {
   "cell_type": "code",
   "execution_count": 10,
   "metadata": {},
   "outputs": [],
   "source": [
    "# Remove the columns that we don't need for further data exploration.\n",
    "remove_columns = ['g_unique_id','updated_title', 'is_title_NaN']\n",
    "g_and_dupes_df.drop(columns=remove_columns, inplace=True)"
   ]
  },
  {
   "cell_type": "code",
   "execution_count": 11,
   "metadata": {},
   "outputs": [],
   "source": [
    "# Reassign g_and_dupes_df to g_df.\n",
    "g_df = g_and_dupes_df.copy()"
   ]
  },
  {
   "cell_type": "markdown",
   "metadata": {},
   "source": [
    "## Merging The Numbers' movie_budgets with IMDB's title.basics"
   ]
  },
  {
   "cell_type": "code",
   "execution_count": 12,
   "metadata": {},
   "outputs": [],
   "source": [
    "# Rename the movie title column, 'primary_title', within IMDB's title.basics, to make the\n",
    "# merges a little easier down the road.\n",
    "g_df.rename(columns={'primary_title' : 'movie'}, inplace=True)"
   ]
  },
  {
   "cell_type": "code",
   "execution_count": 13,
   "metadata": {
    "scrolled": true
   },
   "outputs": [
    {
     "data": {
      "text/html": [
       "<div>\n",
       "<style scoped>\n",
       "    .dataframe tbody tr th:only-of-type {\n",
       "        vertical-align: middle;\n",
       "    }\n",
       "\n",
       "    .dataframe tbody tr th {\n",
       "        vertical-align: top;\n",
       "    }\n",
       "\n",
       "    .dataframe thead th {\n",
       "        text-align: right;\n",
       "    }\n",
       "</style>\n",
       "<table border=\"1\" class=\"dataframe\">\n",
       "  <thead>\n",
       "    <tr style=\"text-align: right;\">\n",
       "      <th></th>\n",
       "      <th>release_date</th>\n",
       "      <th>movie</th>\n",
       "      <th>production_budget</th>\n",
       "      <th>domestic_gross</th>\n",
       "      <th>worldwide_gross</th>\n",
       "      <th>profit_margin</th>\n",
       "      <th>ROI</th>\n",
       "      <th>year</th>\n",
       "    </tr>\n",
       "  </thead>\n",
       "  <tbody>\n",
       "    <tr>\n",
       "      <th>0</th>\n",
       "      <td>Dec 18, 2009</td>\n",
       "      <td>Avatar</td>\n",
       "      <td>425000000</td>\n",
       "      <td>760507625</td>\n",
       "      <td>2776345279</td>\n",
       "      <td>84.692106</td>\n",
       "      <td>6.532577</td>\n",
       "      <td>2009</td>\n",
       "    </tr>\n",
       "    <tr>\n",
       "      <th>1</th>\n",
       "      <td>May 20, 2011</td>\n",
       "      <td>Pirates of the Caribbean: On Stranger Tides</td>\n",
       "      <td>410600000</td>\n",
       "      <td>241063875</td>\n",
       "      <td>1045663875</td>\n",
       "      <td>60.733080</td>\n",
       "      <td>2.546673</td>\n",
       "      <td>2011</td>\n",
       "    </tr>\n",
       "    <tr>\n",
       "      <th>2</th>\n",
       "      <td>Jun 7, 2019</td>\n",
       "      <td>Dark Phoenix</td>\n",
       "      <td>350000000</td>\n",
       "      <td>42762350</td>\n",
       "      <td>149762350</td>\n",
       "      <td>-133.703598</td>\n",
       "      <td>0.427892</td>\n",
       "      <td>2019</td>\n",
       "    </tr>\n",
       "    <tr>\n",
       "      <th>3</th>\n",
       "      <td>May 1, 2015</td>\n",
       "      <td>Avengers: Age of Ultron</td>\n",
       "      <td>330600000</td>\n",
       "      <td>459005868</td>\n",
       "      <td>1403013963</td>\n",
       "      <td>76.436443</td>\n",
       "      <td>4.243841</td>\n",
       "      <td>2015</td>\n",
       "    </tr>\n",
       "    <tr>\n",
       "      <th>4</th>\n",
       "      <td>Dec 15, 2017</td>\n",
       "      <td>Star Wars Ep. VIII: The Last Jedi</td>\n",
       "      <td>317000000</td>\n",
       "      <td>620181382</td>\n",
       "      <td>1316721747</td>\n",
       "      <td>75.925058</td>\n",
       "      <td>4.153696</td>\n",
       "      <td>2017</td>\n",
       "    </tr>\n",
       "    <tr>\n",
       "      <th>5</th>\n",
       "      <td>Dec 18, 2015</td>\n",
       "      <td>Star Wars Ep. VII: The Force Awakens</td>\n",
       "      <td>306000000</td>\n",
       "      <td>936662225</td>\n",
       "      <td>2053311220</td>\n",
       "      <td>85.097242</td>\n",
       "      <td>6.710167</td>\n",
       "      <td>2015</td>\n",
       "    </tr>\n",
       "    <tr>\n",
       "      <th>6</th>\n",
       "      <td>Apr 27, 2018</td>\n",
       "      <td>Avengers: Infinity War</td>\n",
       "      <td>300000000</td>\n",
       "      <td>678815482</td>\n",
       "      <td>2048134200</td>\n",
       "      <td>85.352522</td>\n",
       "      <td>6.827114</td>\n",
       "      <td>2018</td>\n",
       "    </tr>\n",
       "    <tr>\n",
       "      <th>7</th>\n",
       "      <td>May 24, 2007</td>\n",
       "      <td>Pirates of the Caribbean: At Worldâs End</td>\n",
       "      <td>300000000</td>\n",
       "      <td>309420425</td>\n",
       "      <td>963420425</td>\n",
       "      <td>68.860947</td>\n",
       "      <td>3.211401</td>\n",
       "      <td>2007</td>\n",
       "    </tr>\n",
       "    <tr>\n",
       "      <th>8</th>\n",
       "      <td>Nov 17, 2017</td>\n",
       "      <td>Justice League</td>\n",
       "      <td>300000000</td>\n",
       "      <td>229024295</td>\n",
       "      <td>655945209</td>\n",
       "      <td>54.264473</td>\n",
       "      <td>2.186484</td>\n",
       "      <td>2017</td>\n",
       "    </tr>\n",
       "    <tr>\n",
       "      <th>9</th>\n",
       "      <td>Nov 6, 2015</td>\n",
       "      <td>Spectre</td>\n",
       "      <td>300000000</td>\n",
       "      <td>200074175</td>\n",
       "      <td>879620923</td>\n",
       "      <td>65.894399</td>\n",
       "      <td>2.932070</td>\n",
       "      <td>2015</td>\n",
       "    </tr>\n",
       "    <tr>\n",
       "      <th>10</th>\n",
       "      <td>Jul 20, 2012</td>\n",
       "      <td>The Dark Knight Rises</td>\n",
       "      <td>275000000</td>\n",
       "      <td>448139099</td>\n",
       "      <td>1084439099</td>\n",
       "      <td>74.641268</td>\n",
       "      <td>3.943415</td>\n",
       "      <td>2012</td>\n",
       "    </tr>\n",
       "    <tr>\n",
       "      <th>11</th>\n",
       "      <td>May 25, 2018</td>\n",
       "      <td>Solo: A Star Wars Story</td>\n",
       "      <td>275000000</td>\n",
       "      <td>213767512</td>\n",
       "      <td>393151347</td>\n",
       "      <td>30.052383</td>\n",
       "      <td>1.429641</td>\n",
       "      <td>2018</td>\n",
       "    </tr>\n",
       "    <tr>\n",
       "      <th>12</th>\n",
       "      <td>Jul 2, 2013</td>\n",
       "      <td>The Lone Ranger</td>\n",
       "      <td>275000000</td>\n",
       "      <td>89302115</td>\n",
       "      <td>260002115</td>\n",
       "      <td>-5.768370</td>\n",
       "      <td>0.945462</td>\n",
       "      <td>2013</td>\n",
       "    </tr>\n",
       "    <tr>\n",
       "      <th>13</th>\n",
       "      <td>Mar 9, 2012</td>\n",
       "      <td>John Carter</td>\n",
       "      <td>275000000</td>\n",
       "      <td>73058679</td>\n",
       "      <td>282778100</td>\n",
       "      <td>2.750602</td>\n",
       "      <td>1.028284</td>\n",
       "      <td>2012</td>\n",
       "    </tr>\n",
       "    <tr>\n",
       "      <th>14</th>\n",
       "      <td>Nov 24, 2010</td>\n",
       "      <td>Tangled</td>\n",
       "      <td>260000000</td>\n",
       "      <td>200821936</td>\n",
       "      <td>586477240</td>\n",
       "      <td>55.667504</td>\n",
       "      <td>2.255682</td>\n",
       "      <td>2010</td>\n",
       "    </tr>\n",
       "    <tr>\n",
       "      <th>15</th>\n",
       "      <td>May 4, 2007</td>\n",
       "      <td>Spider-Man 3</td>\n",
       "      <td>258000000</td>\n",
       "      <td>336530303</td>\n",
       "      <td>894860230</td>\n",
       "      <td>71.168682</td>\n",
       "      <td>3.468451</td>\n",
       "      <td>2007</td>\n",
       "    </tr>\n",
       "    <tr>\n",
       "      <th>16</th>\n",
       "      <td>May 6, 2016</td>\n",
       "      <td>Captain America: Civil War</td>\n",
       "      <td>250000000</td>\n",
       "      <td>408084349</td>\n",
       "      <td>1140069413</td>\n",
       "      <td>78.071511</td>\n",
       "      <td>4.560278</td>\n",
       "      <td>2016</td>\n",
       "    </tr>\n",
       "    <tr>\n",
       "      <th>17</th>\n",
       "      <td>Mar 25, 2016</td>\n",
       "      <td>Batman v Superman: Dawn of Justice</td>\n",
       "      <td>250000000</td>\n",
       "      <td>330360194</td>\n",
       "      <td>867500281</td>\n",
       "      <td>71.181566</td>\n",
       "      <td>3.470001</td>\n",
       "      <td>2016</td>\n",
       "    </tr>\n",
       "    <tr>\n",
       "      <th>18</th>\n",
       "      <td>Dec 14, 2012</td>\n",
       "      <td>The Hobbit: An Unexpected Journey</td>\n",
       "      <td>250000000</td>\n",
       "      <td>303003568</td>\n",
       "      <td>1017003568</td>\n",
       "      <td>75.417982</td>\n",
       "      <td>4.068014</td>\n",
       "      <td>2012</td>\n",
       "    </tr>\n",
       "    <tr>\n",
       "      <th>19</th>\n",
       "      <td>Jul 15, 2009</td>\n",
       "      <td>Harry Potter and the Half-Blood Prince</td>\n",
       "      <td>250000000</td>\n",
       "      <td>302089278</td>\n",
       "      <td>935213767</td>\n",
       "      <td>73.268144</td>\n",
       "      <td>3.740855</td>\n",
       "      <td>2009</td>\n",
       "    </tr>\n",
       "    <tr>\n",
       "      <th>20</th>\n",
       "      <td>Dec 13, 2013</td>\n",
       "      <td>The Hobbit: The Desolation of Smaug</td>\n",
       "      <td>250000000</td>\n",
       "      <td>258366855</td>\n",
       "      <td>960366855</td>\n",
       "      <td>73.968281</td>\n",
       "      <td>3.841467</td>\n",
       "      <td>2013</td>\n",
       "    </tr>\n",
       "    <tr>\n",
       "      <th>21</th>\n",
       "      <td>Dec 17, 2014</td>\n",
       "      <td>The Hobbit: The Battle of the Five Armies</td>\n",
       "      <td>250000000</td>\n",
       "      <td>255119788</td>\n",
       "      <td>945577621</td>\n",
       "      <td>73.561134</td>\n",
       "      <td>3.782310</td>\n",
       "      <td>2014</td>\n",
       "    </tr>\n",
       "    <tr>\n",
       "      <th>22</th>\n",
       "      <td>Apr 14, 2017</td>\n",
       "      <td>The Fate of the Furious</td>\n",
       "      <td>250000000</td>\n",
       "      <td>225764765</td>\n",
       "      <td>1234846267</td>\n",
       "      <td>79.754565</td>\n",
       "      <td>4.939385</td>\n",
       "      <td>2017</td>\n",
       "    </tr>\n",
       "    <tr>\n",
       "      <th>23</th>\n",
       "      <td>Jun 28, 2006</td>\n",
       "      <td>Superman Returns</td>\n",
       "      <td>232000000</td>\n",
       "      <td>200120000</td>\n",
       "      <td>374085065</td>\n",
       "      <td>37.982020</td>\n",
       "      <td>1.612436</td>\n",
       "      <td>2006</td>\n",
       "    </tr>\n",
       "    <tr>\n",
       "      <th>24</th>\n",
       "      <td>May 26, 2017</td>\n",
       "      <td>Pirates of the Caribbean: Dead Men Tell No Tales</td>\n",
       "      <td>230000000</td>\n",
       "      <td>172558876</td>\n",
       "      <td>788241137</td>\n",
       "      <td>70.821112</td>\n",
       "      <td>3.427135</td>\n",
       "      <td>2017</td>\n",
       "    </tr>\n",
       "  </tbody>\n",
       "</table>\n",
       "</div>"
      ],
      "text/plain": [
       "    release_date                                             movie  \\\n",
       "0   Dec 18, 2009                                            Avatar   \n",
       "1   May 20, 2011       Pirates of the Caribbean: On Stranger Tides   \n",
       "2    Jun 7, 2019                                      Dark Phoenix   \n",
       "3    May 1, 2015                           Avengers: Age of Ultron   \n",
       "4   Dec 15, 2017                 Star Wars Ep. VIII: The Last Jedi   \n",
       "5   Dec 18, 2015              Star Wars Ep. VII: The Force Awakens   \n",
       "6   Apr 27, 2018                            Avengers: Infinity War   \n",
       "7   May 24, 2007        Pirates of the Caribbean: At Worldâs End   \n",
       "8   Nov 17, 2017                                    Justice League   \n",
       "9    Nov 6, 2015                                           Spectre   \n",
       "10  Jul 20, 2012                             The Dark Knight Rises   \n",
       "11  May 25, 2018                           Solo: A Star Wars Story   \n",
       "12   Jul 2, 2013                                   The Lone Ranger   \n",
       "13   Mar 9, 2012                                       John Carter   \n",
       "14  Nov 24, 2010                                           Tangled   \n",
       "15   May 4, 2007                                      Spider-Man 3   \n",
       "16   May 6, 2016                        Captain America: Civil War   \n",
       "17  Mar 25, 2016                Batman v Superman: Dawn of Justice   \n",
       "18  Dec 14, 2012                 The Hobbit: An Unexpected Journey   \n",
       "19  Jul 15, 2009            Harry Potter and the Half-Blood Prince   \n",
       "20  Dec 13, 2013               The Hobbit: The Desolation of Smaug   \n",
       "21  Dec 17, 2014         The Hobbit: The Battle of the Five Armies   \n",
       "22  Apr 14, 2017                           The Fate of the Furious   \n",
       "23  Jun 28, 2006                                  Superman Returns   \n",
       "24  May 26, 2017  Pirates of the Caribbean: Dead Men Tell No Tales   \n",
       "\n",
       "    production_budget  domestic_gross  worldwide_gross  profit_margin  \\\n",
       "0           425000000       760507625       2776345279      84.692106   \n",
       "1           410600000       241063875       1045663875      60.733080   \n",
       "2           350000000        42762350        149762350    -133.703598   \n",
       "3           330600000       459005868       1403013963      76.436443   \n",
       "4           317000000       620181382       1316721747      75.925058   \n",
       "5           306000000       936662225       2053311220      85.097242   \n",
       "6           300000000       678815482       2048134200      85.352522   \n",
       "7           300000000       309420425        963420425      68.860947   \n",
       "8           300000000       229024295        655945209      54.264473   \n",
       "9           300000000       200074175        879620923      65.894399   \n",
       "10          275000000       448139099       1084439099      74.641268   \n",
       "11          275000000       213767512        393151347      30.052383   \n",
       "12          275000000        89302115        260002115      -5.768370   \n",
       "13          275000000        73058679        282778100       2.750602   \n",
       "14          260000000       200821936        586477240      55.667504   \n",
       "15          258000000       336530303        894860230      71.168682   \n",
       "16          250000000       408084349       1140069413      78.071511   \n",
       "17          250000000       330360194        867500281      71.181566   \n",
       "18          250000000       303003568       1017003568      75.417982   \n",
       "19          250000000       302089278        935213767      73.268144   \n",
       "20          250000000       258366855        960366855      73.968281   \n",
       "21          250000000       255119788        945577621      73.561134   \n",
       "22          250000000       225764765       1234846267      79.754565   \n",
       "23          232000000       200120000        374085065      37.982020   \n",
       "24          230000000       172558876        788241137      70.821112   \n",
       "\n",
       "         ROI  year  \n",
       "0   6.532577  2009  \n",
       "1   2.546673  2011  \n",
       "2   0.427892  2019  \n",
       "3   4.243841  2015  \n",
       "4   4.153696  2017  \n",
       "5   6.710167  2015  \n",
       "6   6.827114  2018  \n",
       "7   3.211401  2007  \n",
       "8   2.186484  2017  \n",
       "9   2.932070  2015  \n",
       "10  3.943415  2012  \n",
       "11  1.429641  2018  \n",
       "12  0.945462  2013  \n",
       "13  1.028284  2012  \n",
       "14  2.255682  2010  \n",
       "15  3.468451  2007  \n",
       "16  4.560278  2016  \n",
       "17  3.470001  2016  \n",
       "18  4.068014  2012  \n",
       "19  3.740855  2009  \n",
       "20  3.841467  2013  \n",
       "21  3.782310  2014  \n",
       "22  4.939385  2017  \n",
       "23  1.612436  2006  \n",
       "24  3.427135  2017  "
      ]
     },
     "metadata": {},
     "output_type": "display_data"
    },
    {
     "data": {
      "text/plain": [
       "(5782, 8)"
      ]
     },
     "execution_count": 13,
     "metadata": {},
     "output_type": "execute_result"
    }
   ],
   "source": [
    "# Reassign money_metrics_merge_ready_df to mm_df and re-organize/re-label columns w/in mm_df.\n",
    "mm_df = money_metrics_merge_ready_df.copy()\n",
    "mm_df.rename(columns={'Profit Margin': 'profit_margin', 'Year': 'year'}, inplace=True)\n",
    "remove_columns = ['index', 'id','Month', 'New Title', 'is_title_NaN', 'mmdf_uni_id']\n",
    "mm_df.drop(columns=remove_columns, inplace=True)\n",
    "display(mm_df.head(25))\n",
    "mm_df.shape"
   ]
  },
  {
   "cell_type": "code",
   "execution_count": 14,
   "metadata": {},
   "outputs": [],
   "source": [
    "# Left join g_df into mm_df (NOTE: mm_df same as money_metrics_merge_ready_df).\n",
    "mm_and_g_df = pd.merge(left=mm_df, right=g_df, on='movie', how ='left')"
   ]
  },
  {
   "cell_type": "markdown",
   "metadata": {},
   "source": [
    "An additional merge is necessary because some of the movie titles in `mm_df` don't have duplicates and didn't need to be renamed with a year. Some of the values that just got merged from `g_df` didn't associate to a record in `mm_df` because it was renamed with a year and couldn't find it's match in `mm_df`. To fix this, we'll merge an unaltered copy of the original `imdb_title_basics_df` with a copy of `mm_and_g_df`. With that being said, we'll introduce more duplicates, but it will be manageable."
   ]
  },
  {
   "cell_type": "code",
   "execution_count": 15,
   "metadata": {},
   "outputs": [],
   "source": [
    "# Creating copies of mm_and_g_df and imdb_title_basics_df for the merge.\n",
    "unaltered_g_df = imdb_title_basics_df.copy()\n",
    "unaltered_g_df.rename(columns={'primary_title' : 'movie'}, inplace=True)\n",
    "mm_and_g_copy_df = mm_and_g_df.copy()\n",
    "\n",
    "# Left join unaltered_g_df into mm_and_g_copy_df.\n",
    "mm_and_g_df = pd.merge(left=mm_and_g_copy_df, right=unaltered_g_df, on='movie', how ='left')"
   ]
  },
  {
   "cell_type": "code",
   "execution_count": 16,
   "metadata": {},
   "outputs": [],
   "source": [
    "# If tconst has a null value on mm_and_g_copy_df side AND\n",
    "# tcont has a value on the unaltered_g_df side AND\n",
    "# the years from both DataFrames match up...\n",
    "# THEN proceed to update all the apprropriate columns on the mm_and_g_copy_df side.\n",
    "# Appropriate being, any columns on the mm_and_g_copy_df side that have null values.\n",
    "mm_and_g_df['is_tconst_x_NaN'] = mm_and_g_df['tconst_x'].isnull()\n",
    "mm_and_g_df['is_tconst_y_NaN'] = mm_and_g_df['tconst_y'].isnull()\n",
    "\n",
    "for movie_index in list(range(len(mm_and_g_df.index))):\n",
    "    if (mm_and_g_df.loc[movie_index, 'is_tconst_x_NaN']) and (~mm_and_g_df.loc[movie_index, 'is_tconst_y_NaN'])\\\n",
    "        and (mm_and_g_df.loc[movie_index, 'start_year_y'].astype('int64') == mm_and_g_df.loc[movie_index, 'year']):\n",
    "            mm_and_g_df.loc[movie_index, 'tconst_x'] = mm_and_g_df.loc[movie_index, 'tconst_y']\n",
    "            mm_and_g_df.loc[movie_index, 'original_title_x'] = mm_and_g_df.loc[movie_index, 'original_title_y']\n",
    "            mm_and_g_df.loc[movie_index, 'start_year_x'] = mm_and_g_df.loc[movie_index, 'start_year_y']\n",
    "            mm_and_g_df.loc[movie_index, 'runtime_minutes_x'] = mm_and_g_df.loc[movie_index, 'runtime_minutes_y']\n",
    "            mm_and_g_df.loc[movie_index, 'genres_x'] = mm_and_g_df.loc[movie_index, 'genres_y']"
   ]
  },
  {
   "cell_type": "code",
   "execution_count": 17,
   "metadata": {},
   "outputs": [],
   "source": [
    "# Re-organize/re-label columns w/in mm_and_g_df.\n",
    "remove_columns = ['is_tconst_x_NaN', 'is_tconst_y_NaN', 'tconst_y', 'original_title_y', \n",
    "                  'start_year_y', 'runtime_minutes_y', 'genres_y']\n",
    "mm_and_g_df.drop(columns=remove_columns, inplace=True)\n",
    "\n",
    "mm_and_g_df.rename(columns={'tconst_x': 'tconst', 'original_title_x': 'original_title',\n",
    "                                 'start_year_x': 'start_year', 'runtime_minutes_x': 'runtime_minutes',\n",
    "                                 'genres_x': 'genres'}, inplace=True)"
   ]
  },
  {
   "cell_type": "code",
   "execution_count": 18,
   "metadata": {},
   "outputs": [
    {
     "name": "stdout",
     "output_type": "stream",
     "text": [
      "Rows with Null Values in tconst Column: 4889\n"
     ]
    }
   ],
   "source": [
    "# How many records in mm_and_g_df have null values in the tconst column?\n",
    "mm_and_g_null_values = mm_and_g_df['tconst'].isna().sum()\n",
    "print(f'Rows with Null Values in tconst Column: {mm_and_g_null_values}')"
   ]
  },
  {
   "cell_type": "code",
   "execution_count": 19,
   "metadata": {},
   "outputs": [],
   "source": [
    "# Remove all rows where tconst has a null value.\n",
    "mm_and_g_df.dropna(subset=['tconst'], axis=0, inplace=True)"
   ]
  },
  {
   "cell_type": "markdown",
   "metadata": {},
   "source": [
    "Merging is complete!\n",
    "\n",
    "## Manual Data Cleaning...\n",
    "\n",
    "I need to manually clean up any duplicates at this point as I have exhausted all of my options for removing duplicates with the datasets."
   ]
  },
  {
   "cell_type": "code",
   "execution_count": 20,
   "metadata": {},
   "outputs": [
    {
     "data": {
      "text/html": [
       "<div>\n",
       "<style scoped>\n",
       "    .dataframe tbody tr th:only-of-type {\n",
       "        vertical-align: middle;\n",
       "    }\n",
       "\n",
       "    .dataframe tbody tr th {\n",
       "        vertical-align: top;\n",
       "    }\n",
       "\n",
       "    .dataframe thead th {\n",
       "        text-align: right;\n",
       "    }\n",
       "</style>\n",
       "<table border=\"1\" class=\"dataframe\">\n",
       "  <thead>\n",
       "    <tr style=\"text-align: right;\">\n",
       "      <th></th>\n",
       "      <th>unique_id</th>\n",
       "      <th>release_date</th>\n",
       "      <th>movie</th>\n",
       "      <th>production_budget</th>\n",
       "      <th>domestic_gross</th>\n",
       "      <th>worldwide_gross</th>\n",
       "      <th>profit_margin</th>\n",
       "      <th>ROI</th>\n",
       "      <th>year</th>\n",
       "      <th>tconst</th>\n",
       "      <th>original_title</th>\n",
       "      <th>start_year</th>\n",
       "      <th>runtime_minutes</th>\n",
       "      <th>genres</th>\n",
       "    </tr>\n",
       "  </thead>\n",
       "  <tbody>\n",
       "    <tr>\n",
       "      <th>0</th>\n",
       "      <td>0</td>\n",
       "      <td>Dec 18, 2009</td>\n",
       "      <td>Avatar</td>\n",
       "      <td>425000000</td>\n",
       "      <td>760507625</td>\n",
       "      <td>2776345279</td>\n",
       "      <td>84.692106</td>\n",
       "      <td>6.532577</td>\n",
       "      <td>2009</td>\n",
       "      <td>tt1775309</td>\n",
       "      <td>Abatâ</td>\n",
       "      <td>2011.0</td>\n",
       "      <td>93.0</td>\n",
       "      <td>Horror</td>\n",
       "    </tr>\n",
       "    <tr>\n",
       "      <th>1</th>\n",
       "      <td>1</td>\n",
       "      <td>May 20, 2011</td>\n",
       "      <td>Pirates of the Caribbean: On Stranger Tides</td>\n",
       "      <td>410600000</td>\n",
       "      <td>241063875</td>\n",
       "      <td>1045663875</td>\n",
       "      <td>60.733080</td>\n",
       "      <td>2.546673</td>\n",
       "      <td>2011</td>\n",
       "      <td>tt1298650</td>\n",
       "      <td>Pirates of the Caribbean: On Stranger Tides</td>\n",
       "      <td>2011.0</td>\n",
       "      <td>136.0</td>\n",
       "      <td>Action,Adventure,Fantasy</td>\n",
       "    </tr>\n",
       "    <tr>\n",
       "      <th>2</th>\n",
       "      <td>2</td>\n",
       "      <td>Jun 7, 2019</td>\n",
       "      <td>Dark Phoenix</td>\n",
       "      <td>350000000</td>\n",
       "      <td>42762350</td>\n",
       "      <td>149762350</td>\n",
       "      <td>-133.703598</td>\n",
       "      <td>0.427892</td>\n",
       "      <td>2019</td>\n",
       "      <td>tt6565702</td>\n",
       "      <td>Dark Phoenix</td>\n",
       "      <td>2019.0</td>\n",
       "      <td>113.0</td>\n",
       "      <td>Action,Adventure,Sci-Fi</td>\n",
       "    </tr>\n",
       "    <tr>\n",
       "      <th>3</th>\n",
       "      <td>3</td>\n",
       "      <td>May 1, 2015</td>\n",
       "      <td>Avengers: Age of Ultron</td>\n",
       "      <td>330600000</td>\n",
       "      <td>459005868</td>\n",
       "      <td>1403013963</td>\n",
       "      <td>76.436443</td>\n",
       "      <td>4.243841</td>\n",
       "      <td>2015</td>\n",
       "      <td>tt2395427</td>\n",
       "      <td>Avengers: Age of Ultron</td>\n",
       "      <td>2015.0</td>\n",
       "      <td>141.0</td>\n",
       "      <td>Action,Adventure,Sci-Fi</td>\n",
       "    </tr>\n",
       "    <tr>\n",
       "      <th>4</th>\n",
       "      <td>6</td>\n",
       "      <td>Apr 27, 2018</td>\n",
       "      <td>Avengers: Infinity War</td>\n",
       "      <td>300000000</td>\n",
       "      <td>678815482</td>\n",
       "      <td>2048134200</td>\n",
       "      <td>85.352522</td>\n",
       "      <td>6.827114</td>\n",
       "      <td>2018</td>\n",
       "      <td>tt4154756</td>\n",
       "      <td>Avengers: Infinity War</td>\n",
       "      <td>2018.0</td>\n",
       "      <td>149.0</td>\n",
       "      <td>Action,Adventure,Sci-Fi</td>\n",
       "    </tr>\n",
       "    <tr>\n",
       "      <th>...</th>\n",
       "      <td>...</td>\n",
       "      <td>...</td>\n",
       "      <td>...</td>\n",
       "      <td>...</td>\n",
       "      <td>...</td>\n",
       "      <td>...</td>\n",
       "      <td>...</td>\n",
       "      <td>...</td>\n",
       "      <td>...</td>\n",
       "      <td>...</td>\n",
       "      <td>...</td>\n",
       "      <td>...</td>\n",
       "      <td>...</td>\n",
       "      <td>...</td>\n",
       "    </tr>\n",
       "    <tr>\n",
       "      <th>2072</th>\n",
       "      <td>6949</td>\n",
       "      <td>Apr 28, 2006</td>\n",
       "      <td>Clean</td>\n",
       "      <td>10000</td>\n",
       "      <td>138711</td>\n",
       "      <td>138711</td>\n",
       "      <td>92.790766</td>\n",
       "      <td>13.871100</td>\n",
       "      <td>2006</td>\n",
       "      <td>tt6619196</td>\n",
       "      <td>Clean</td>\n",
       "      <td>2017.0</td>\n",
       "      <td>70.0</td>\n",
       "      <td>Comedy,Drama,Horror</td>\n",
       "    </tr>\n",
       "    <tr>\n",
       "      <th>2073</th>\n",
       "      <td>6953</td>\n",
       "      <td>Apr 1, 1996</td>\n",
       "      <td>Bang</td>\n",
       "      <td>10000</td>\n",
       "      <td>527</td>\n",
       "      <td>527</td>\n",
       "      <td>-1797.533207</td>\n",
       "      <td>0.052700</td>\n",
       "      <td>1996</td>\n",
       "      <td>tt6616538</td>\n",
       "      <td>Bang</td>\n",
       "      <td>2015.0</td>\n",
       "      <td>NaN</td>\n",
       "      <td>NaN</td>\n",
       "    </tr>\n",
       "    <tr>\n",
       "      <th>2074</th>\n",
       "      <td>6956</td>\n",
       "      <td>Jan 13, 2012</td>\n",
       "      <td>Newlyweds</td>\n",
       "      <td>9000</td>\n",
       "      <td>4584</td>\n",
       "      <td>4584</td>\n",
       "      <td>-96.335079</td>\n",
       "      <td>0.509333</td>\n",
       "      <td>2012</td>\n",
       "      <td>tt1880418</td>\n",
       "      <td>Newlyweds</td>\n",
       "      <td>2011.0</td>\n",
       "      <td>95.0</td>\n",
       "      <td>Comedy,Drama</td>\n",
       "    </tr>\n",
       "    <tr>\n",
       "      <th>2075</th>\n",
       "      <td>6961</td>\n",
       "      <td>Dec 31, 2018</td>\n",
       "      <td>Red 11</td>\n",
       "      <td>7000</td>\n",
       "      <td>0</td>\n",
       "      <td>0</td>\n",
       "      <td>0.000000</td>\n",
       "      <td>0.000000</td>\n",
       "      <td>2018</td>\n",
       "      <td>tt7837402</td>\n",
       "      <td>Red 11</td>\n",
       "      <td>2019.0</td>\n",
       "      <td>77.0</td>\n",
       "      <td>Horror,Sci-Fi,Thriller</td>\n",
       "    </tr>\n",
       "    <tr>\n",
       "      <th>2076</th>\n",
       "      <td>6964</td>\n",
       "      <td>Sep 29, 2015</td>\n",
       "      <td>A Plague So Pleasant</td>\n",
       "      <td>1400</td>\n",
       "      <td>0</td>\n",
       "      <td>0</td>\n",
       "      <td>0.000000</td>\n",
       "      <td>0.000000</td>\n",
       "      <td>2015</td>\n",
       "      <td>tt2107644</td>\n",
       "      <td>A Plague So Pleasant</td>\n",
       "      <td>2013.0</td>\n",
       "      <td>76.0</td>\n",
       "      <td>Drama,Horror,Thriller</td>\n",
       "    </tr>\n",
       "  </tbody>\n",
       "</table>\n",
       "<p>2077 rows × 14 columns</p>\n",
       "</div>"
      ],
      "text/plain": [
       "      unique_id  release_date                                        movie  \\\n",
       "0             0  Dec 18, 2009                                       Avatar   \n",
       "1             1  May 20, 2011  Pirates of the Caribbean: On Stranger Tides   \n",
       "2             2   Jun 7, 2019                                 Dark Phoenix   \n",
       "3             3   May 1, 2015                      Avengers: Age of Ultron   \n",
       "4             6  Apr 27, 2018                       Avengers: Infinity War   \n",
       "...         ...           ...                                          ...   \n",
       "2072       6949  Apr 28, 2006                                        Clean   \n",
       "2073       6953   Apr 1, 1996                                         Bang   \n",
       "2074       6956  Jan 13, 2012                                    Newlyweds   \n",
       "2075       6961  Dec 31, 2018                                       Red 11   \n",
       "2076       6964  Sep 29, 2015                         A Plague So Pleasant   \n",
       "\n",
       "      production_budget  domestic_gross  worldwide_gross  profit_margin  \\\n",
       "0             425000000       760507625       2776345279      84.692106   \n",
       "1             410600000       241063875       1045663875      60.733080   \n",
       "2             350000000        42762350        149762350    -133.703598   \n",
       "3             330600000       459005868       1403013963      76.436443   \n",
       "4             300000000       678815482       2048134200      85.352522   \n",
       "...                 ...             ...              ...            ...   \n",
       "2072              10000          138711           138711      92.790766   \n",
       "2073              10000             527              527   -1797.533207   \n",
       "2074               9000            4584             4584     -96.335079   \n",
       "2075               7000               0                0       0.000000   \n",
       "2076               1400               0                0       0.000000   \n",
       "\n",
       "            ROI  year     tconst                               original_title  \\\n",
       "0      6.532577  2009  tt1775309                                        Abatâ   \n",
       "1      2.546673  2011  tt1298650  Pirates of the Caribbean: On Stranger Tides   \n",
       "2      0.427892  2019  tt6565702                                 Dark Phoenix   \n",
       "3      4.243841  2015  tt2395427                      Avengers: Age of Ultron   \n",
       "4      6.827114  2018  tt4154756                       Avengers: Infinity War   \n",
       "...         ...   ...        ...                                          ...   \n",
       "2072  13.871100  2006  tt6619196                                        Clean   \n",
       "2073   0.052700  1996  tt6616538                                         Bang   \n",
       "2074   0.509333  2012  tt1880418                                    Newlyweds   \n",
       "2075   0.000000  2018  tt7837402                                       Red 11   \n",
       "2076   0.000000  2015  tt2107644                         A Plague So Pleasant   \n",
       "\n",
       "      start_year  runtime_minutes                    genres  \n",
       "0         2011.0             93.0                    Horror  \n",
       "1         2011.0            136.0  Action,Adventure,Fantasy  \n",
       "2         2019.0            113.0   Action,Adventure,Sci-Fi  \n",
       "3         2015.0            141.0   Action,Adventure,Sci-Fi  \n",
       "4         2018.0            149.0   Action,Adventure,Sci-Fi  \n",
       "...          ...              ...                       ...  \n",
       "2072      2017.0             70.0       Comedy,Drama,Horror  \n",
       "2073      2015.0              NaN                       NaN  \n",
       "2074      2011.0             95.0              Comedy,Drama  \n",
       "2075      2019.0             77.0    Horror,Sci-Fi,Thriller  \n",
       "2076      2013.0             76.0     Drama,Horror,Thriller  \n",
       "\n",
       "[2077 rows x 14 columns]"
      ]
     },
     "execution_count": 20,
     "metadata": {},
     "output_type": "execute_result"
    }
   ],
   "source": [
    "# Create a unique ID column in the newly merged DataFrame to assist with manual data cleaning.\n",
    "mm_and_g_df.reset_index(inplace=True)\n",
    "mm_and_g_df.rename(columns={'index' : 'unique_id'}, inplace=True)\n",
    "mm_and_g_df"
   ]
  },
  {
   "cell_type": "code",
   "execution_count": 21,
   "metadata": {},
   "outputs": [
    {
     "name": "stdout",
     "output_type": "stream",
     "text": [
      "Amount of unique duplicate movie title: 52\n",
      "Total amount of duplicate movie titles: 115\n"
     ]
    },
    {
     "data": {
      "text/plain": [
       "The Promise                           4\n",
       "Redemption                            4\n",
       "Home 2015                             4\n",
       "The Wall                              3\n",
       "Brothers 2015                         3\n",
       "                                     ..\n",
       "Fast Five                             1\n",
       "Bad Words                             1\n",
       "Original Sin                          1\n",
       "The Nutcracker and the Four Realms    1\n",
       "The Help                              1\n",
       "Name: movie, Length: 2014, dtype: int64"
      ]
     },
     "execution_count": 21,
     "metadata": {},
     "output_type": "execute_result"
    }
   ],
   "source": [
    "# How many duplicates do we manually need to remove?\n",
    "determine_dupes(mm_and_g_df['movie'])"
   ]
  },
  {
   "cell_type": "code",
   "execution_count": 22,
   "metadata": {},
   "outputs": [],
   "source": [
    "# Functions that will be used to help automate the manual removal process.\n",
    "def generate_uid_removal_list(test_df, keep_uid_list):\n",
    "    test_df = test_df.drop_duplicates(subset=['unique_id'])\n",
    "    for uid in keep_uid_list:\n",
    "        test_df = test_df[test_df['unique_id'] != uid]\n",
    "\n",
    "    return test_df['unique_id'].tolist()\n",
    "\n",
    "def remove_uid_from_df(df, uid_removal_list):\n",
    "    for uid in uid_removal_list:\n",
    "        df = df[df['unique_id'] != uid]\n",
    "    \n",
    "    return df\n",
    "\n",
    "def manual_data_cleaning(df, movie_title, keep_uid_list):\n",
    "    print(\"Shape of df before cleaning:\", df.shape)\n",
    "    test_df = df[df['movie'] == movie_title]\n",
    "    uid_removal_list = generate_uid_removal_list(test_df, keep_uid_list)\n",
    "    df = remove_uid_from_df(df, uid_removal_list)\n",
    "    print(\"Shape of df after cleaning:\", df.shape)\n",
    "    \n",
    "    return(df)"
   ]
  },
  {
   "cell_type": "code",
   "execution_count": 23,
   "metadata": {},
   "outputs": [
    {
     "name": "stdout",
     "output_type": "stream",
     "text": [
      "Shape of df before cleaning: (2077, 14)\n",
      "Shape of df after cleaning: (2076, 14)\n"
     ]
    }
   ],
   "source": [
    "movie_title = 'A Better Life' ######INPUT MANUALLY HERE######\n",
    "keep_uid_list = [4379] ######INPUT MANUALLY HERE######\n",
    "mm_and_g_df = manual_data_cleaning(mm_and_g_df, movie_title, keep_uid_list)"
   ]
  },
  {
   "cell_type": "code",
   "execution_count": 24,
   "metadata": {},
   "outputs": [
    {
     "name": "stdout",
     "output_type": "stream",
     "text": [
      "Shape of df before cleaning: (2076, 14)\n",
      "Shape of df after cleaning: (2075, 14)\n"
     ]
    }
   ],
   "source": [
    "movie_title = 'Abduction' ######INPUT MANUALLY HERE######\n",
    "keep_uid_list = [1982] ######INPUT MANUALLY HERE######\n",
    "mm_and_g_df = manual_data_cleaning(mm_and_g_df, movie_title, keep_uid_list)"
   ]
  },
  {
   "cell_type": "code",
   "execution_count": 25,
   "metadata": {},
   "outputs": [
    {
     "name": "stdout",
     "output_type": "stream",
     "text": [
      "Shape of df before cleaning: (2075, 14)\n",
      "Shape of df after cleaning: (2074, 14)\n"
     ]
    }
   ],
   "source": [
    "movie_title = 'Absentia' ######INPUT MANUALLY HERE######\n",
    "keep_uid_list = [6881] ######INPUT MANUALLY HERE######\n",
    "mm_and_g_df = manual_data_cleaning(mm_and_g_df, movie_title, keep_uid_list)"
   ]
  },
  {
   "cell_type": "code",
   "execution_count": 26,
   "metadata": {},
   "outputs": [
    {
     "name": "stdout",
     "output_type": "stream",
     "text": [
      "Shape of df before cleaning: (2074, 14)\n",
      "Shape of df after cleaning: (2073, 14)\n"
     ]
    }
   ],
   "source": [
    "movie_title = 'Addicted' ######INPUT MANUALLY HERE######\n",
    "keep_uid_list = [5139] ######INPUT MANUALLY HERE######\n",
    "mm_and_g_df = manual_data_cleaning(mm_and_g_df, movie_title, keep_uid_list)"
   ]
  },
  {
   "cell_type": "code",
   "execution_count": 27,
   "metadata": {},
   "outputs": [
    {
     "name": "stdout",
     "output_type": "stream",
     "text": [
      "Shape of df before cleaning: (2073, 14)\n",
      "Shape of df after cleaning: (2072, 14)\n"
     ]
    }
   ],
   "source": [
    "movie_title = 'After' ######INPUT MANUALLY HERE######\n",
    "keep_uid_list = [6498] ######INPUT MANUALLY HERE######\n",
    "mm_and_g_df = manual_data_cleaning(mm_and_g_df, movie_title, keep_uid_list)"
   ]
  },
  {
   "cell_type": "code",
   "execution_count": 28,
   "metadata": {},
   "outputs": [
    {
     "name": "stdout",
     "output_type": "stream",
     "text": [
      "Shape of df before cleaning: (2072, 14)\n",
      "Shape of df after cleaning: (2071, 14)\n"
     ]
    }
   ],
   "source": [
    "movie_title = 'Alice in Wonderland 2010' ######INPUT MANUALLY HERE######\n",
    "keep_uid_list = [51] ######INPUT MANUALLY HERE######\n",
    "mm_and_g_df = manual_data_cleaning(mm_and_g_df, movie_title, keep_uid_list)"
   ]
  },
  {
   "cell_type": "code",
   "execution_count": 29,
   "metadata": {},
   "outputs": [
    {
     "name": "stdout",
     "output_type": "stream",
     "text": [
      "Shape of df before cleaning: (2071, 14)\n",
      "Shape of df after cleaning: (2070, 14)\n"
     ]
    }
   ],
   "source": [
    "movie_title = 'Believe' ######INPUT MANUALLY HERE######\n",
    "keep_uid_list = [5530] ######INPUT MANUALLY HERE######\n",
    "mm_and_g_df = manual_data_cleaning(mm_and_g_df, movie_title, keep_uid_list)"
   ]
  },
  {
   "cell_type": "code",
   "execution_count": 30,
   "metadata": {},
   "outputs": [
    {
     "name": "stdout",
     "output_type": "stream",
     "text": [
      "Shape of df before cleaning: (2070, 14)\n",
      "Shape of df after cleaning: (2069, 14)\n"
     ]
    }
   ],
   "source": [
    "movie_title = 'Big Eyes' ######INPUT MANUALLY HERE######\n",
    "keep_uid_list = [4312] ######INPUT MANUALLY HERE######\n",
    "mm_and_g_df = manual_data_cleaning(mm_and_g_df, movie_title, keep_uid_list)"
   ]
  },
  {
   "cell_type": "code",
   "execution_count": 31,
   "metadata": {},
   "outputs": [
    {
     "name": "stdout",
     "output_type": "stream",
     "text": [
      "Shape of df before cleaning: (2069, 14)\n",
      "Shape of df after cleaning: (2068, 14)\n"
     ]
    }
   ],
   "source": [
    "movie_title = 'Brotherly Love' ######INPUT MANUALLY HERE######\n",
    "keep_uid_list = [6031] ######INPUT MANUALLY HERE######\n",
    "mm_and_g_df = manual_data_cleaning(mm_and_g_df, movie_title, keep_uid_list)"
   ]
  },
  {
   "cell_type": "code",
   "execution_count": 32,
   "metadata": {},
   "outputs": [
    {
     "name": "stdout",
     "output_type": "stream",
     "text": [
      "Shape of df before cleaning: (2068, 14)\n",
      "Shape of df after cleaning: (2066, 14)\n"
     ]
    }
   ],
   "source": [
    "movie_title = 'Brothers 2015' ######INPUT MANUALLY HERE######\n",
    "keep_uid_list = [3946] ######INPUT MANUALLY HERE######\n",
    "mm_and_g_df = manual_data_cleaning(mm_and_g_df, movie_title, keep_uid_list)"
   ]
  },
  {
   "cell_type": "code",
   "execution_count": 33,
   "metadata": {},
   "outputs": [
    {
     "name": "stdout",
     "output_type": "stream",
     "text": [
      "Shape of df before cleaning: (2066, 14)\n",
      "Shape of df after cleaning: (2065, 14)\n"
     ]
    }
   ],
   "source": [
    "movie_title = 'Burlesque' ######INPUT MANUALLY HERE######\n",
    "keep_uid_list = [1167] ######INPUT MANUALLY HERE######\n",
    "mm_and_g_df = manual_data_cleaning(mm_and_g_df, movie_title, keep_uid_list)"
   ]
  },
  {
   "cell_type": "code",
   "execution_count": 34,
   "metadata": {},
   "outputs": [
    {
     "name": "stdout",
     "output_type": "stream",
     "text": [
      "Shape of df before cleaning: (2065, 14)\n",
      "Shape of df after cleaning: (2064, 14)\n"
     ]
    }
   ],
   "source": [
    "movie_title = 'Cinderella 2015' ######INPUT MANUALLY HERE######\n",
    "keep_uid_list = [451] ######INPUT MANUALLY HERE######\n",
    "mm_and_g_df = manual_data_cleaning(mm_and_g_df, movie_title, keep_uid_list)"
   ]
  },
  {
   "cell_type": "code",
   "execution_count": 35,
   "metadata": {},
   "outputs": [
    {
     "name": "stdout",
     "output_type": "stream",
     "text": [
      "Shape of df before cleaning: (2064, 14)\n",
      "Shape of df after cleaning: (2063, 14)\n"
     ]
    }
   ],
   "source": [
    "movie_title = 'Coco' ######INPUT MANUALLY HERE######\n",
    "keep_uid_list = [113] ######INPUT MANUALLY HERE######\n",
    "mm_and_g_df = manual_data_cleaning(mm_and_g_df, movie_title, keep_uid_list)"
   ]
  },
  {
   "cell_type": "code",
   "execution_count": 36,
   "metadata": {},
   "outputs": [
    {
     "name": "stdout",
     "output_type": "stream",
     "text": [
      "Shape of df before cleaning: (2063, 14)\n",
      "Shape of df after cleaning: (2062, 14)\n"
     ]
    }
   ],
   "source": [
    "movie_title = 'Crossroads 2015' ######INPUT MANUALLY HERE######\n",
    "keep_uid_list = [6613] ######INPUT MANUALLY HERE######\n",
    "mm_and_g_df = manual_data_cleaning(mm_and_g_df, movie_title, keep_uid_list)"
   ]
  },
  {
   "cell_type": "code",
   "execution_count": 37,
   "metadata": {},
   "outputs": [
    {
     "name": "stdout",
     "output_type": "stream",
     "text": [
      "Shape of df before cleaning: (2062, 14)\n",
      "Shape of df after cleaning: (2061, 14)\n"
     ]
    }
   ],
   "source": [
    "movie_title = 'Cyrus' ######INPUT MANUALLY HERE######\n",
    "keep_uid_list = [4806] ######INPUT MANUALLY HERE######\n",
    "mm_and_g_df = manual_data_cleaning(mm_and_g_df, movie_title, keep_uid_list)"
   ]
  },
  {
   "cell_type": "code",
   "execution_count": 38,
   "metadata": {},
   "outputs": [
    {
     "name": "stdout",
     "output_type": "stream",
     "text": [
      "Shape of df before cleaning: (2061, 14)\n",
      "Shape of df after cleaning: (2060, 14)\n"
     ]
    }
   ],
   "source": [
    "movie_title = 'Denial' ######INPUT MANUALLY HERE######\n",
    "keep_uid_list = [4360] ######INPUT MANUALLY HERE######\n",
    "mm_and_g_df = manual_data_cleaning(mm_and_g_df, movie_title, keep_uid_list)"
   ]
  },
  {
   "cell_type": "code",
   "execution_count": 39,
   "metadata": {},
   "outputs": [
    {
     "name": "stdout",
     "output_type": "stream",
     "text": [
      "Shape of df before cleaning: (2060, 14)\n",
      "Shape of df after cleaning: (2059, 14)\n"
     ]
    }
   ],
   "source": [
    "movie_title = 'Destiny' ######INPUT MANUALLY HERE######\n",
    "keep_uid_list = [6470] ######INPUT MANUALLY HERE######\n",
    "mm_and_g_df = manual_data_cleaning(mm_and_g_df, movie_title, keep_uid_list)"
   ]
  },
  {
   "cell_type": "code",
   "execution_count": 40,
   "metadata": {},
   "outputs": [
    {
     "name": "stdout",
     "output_type": "stream",
     "text": [
      "Shape of df before cleaning: (2059, 14)\n",
      "Shape of df after cleaning: (2058, 14)\n"
     ]
    }
   ],
   "source": [
    "movie_title = 'Exeter' ######INPUT MANUALLY HERE######\n",
    "keep_uid_list = [6927] ######INPUT MANUALLY HERE######\n",
    "mm_and_g_df = manual_data_cleaning(mm_and_g_df, movie_title, keep_uid_list)"
   ]
  },
  {
   "cell_type": "code",
   "execution_count": 41,
   "metadata": {},
   "outputs": [
    {
     "name": "stdout",
     "output_type": "stream",
     "text": [
      "Shape of df before cleaning: (2058, 14)\n",
      "Shape of df after cleaning: (2057, 14)\n"
     ]
    }
   ],
   "source": [
    "movie_title = 'Heist 2015' ######INPUT MANUALLY HERE######\n",
    "keep_uid_list = [4561] ######INPUT MANUALLY HERE######\n",
    "mm_and_g_df = manual_data_cleaning(mm_and_g_df, movie_title, keep_uid_list)"
   ]
  },
  {
   "cell_type": "code",
   "execution_count": 42,
   "metadata": {},
   "outputs": [
    {
     "name": "stdout",
     "output_type": "stream",
     "text": [
      "Shape of df before cleaning: (2057, 14)\n",
      "Shape of df after cleaning: (2056, 14)\n"
     ]
    }
   ],
   "source": [
    "movie_title = 'Hercules 2014' ######INPUT MANUALLY HERE######\n",
    "keep_uid_list = [418] ######INPUT MANUALLY HERE######\n",
    "mm_and_g_df = manual_data_cleaning(mm_and_g_df, movie_title, keep_uid_list)"
   ]
  },
  {
   "cell_type": "code",
   "execution_count": 43,
   "metadata": {},
   "outputs": [
    {
     "name": "stdout",
     "output_type": "stream",
     "text": [
      "Shape of df before cleaning: (2056, 14)\n",
      "Shape of df after cleaning: (2055, 14)\n"
     ]
    }
   ],
   "source": [
    "movie_title = 'Highway' ######INPUT MANUALLY HERE######\n",
    "keep_uid_list = [6005] ######INPUT MANUALLY HERE######\n",
    "mm_and_g_df = manual_data_cleaning(mm_and_g_df, movie_title, keep_uid_list)"
   ]
  },
  {
   "cell_type": "code",
   "execution_count": 44,
   "metadata": {},
   "outputs": [
    {
     "name": "stdout",
     "output_type": "stream",
     "text": [
      "Shape of df before cleaning: (2055, 14)\n",
      "Shape of df after cleaning: (2052, 14)\n"
     ]
    }
   ],
   "source": [
    "movie_title = 'Home 2015' ######INPUT MANUALLY HERE######\n",
    "keep_uid_list = [265] ######INPUT MANUALLY HERE######\n",
    "mm_and_g_df = manual_data_cleaning(mm_and_g_df, movie_title, keep_uid_list)"
   ]
  },
  {
   "cell_type": "code",
   "execution_count": 45,
   "metadata": {},
   "outputs": [
    {
     "name": "stdout",
     "output_type": "stream",
     "text": [
      "Shape of df before cleaning: (2052, 14)\n",
      "Shape of df after cleaning: (2051, 14)\n"
     ]
    }
   ],
   "source": [
    "movie_title = 'Homefront' ######INPUT MANUALLY HERE######\n",
    "keep_uid_list = [2877] ######INPUT MANUALLY HERE######\n",
    "mm_and_g_df = manual_data_cleaning(mm_and_g_df, movie_title, keep_uid_list)"
   ]
  },
  {
   "cell_type": "code",
   "execution_count": 46,
   "metadata": {},
   "outputs": [
    {
     "name": "stdout",
     "output_type": "stream",
     "text": [
      "Shape of df before cleaning: (2051, 14)\n",
      "Shape of df after cleaning: (2050, 14)\n"
     ]
    }
   ],
   "source": [
    "movie_title = 'Hush' ######INPUT MANUALLY HERE######\n",
    "keep_uid_list = [6399] ######INPUT MANUALLY HERE######\n",
    "mm_and_g_df = manual_data_cleaning(mm_and_g_df, movie_title, keep_uid_list)"
   ]
  },
  {
   "cell_type": "code",
   "execution_count": 47,
   "metadata": {},
   "outputs": [
    {
     "name": "stdout",
     "output_type": "stream",
     "text": [
      "Shape of df before cleaning: (2050, 14)\n",
      "Shape of df after cleaning: (2048, 14)\n"
     ]
    }
   ],
   "source": [
    "movie_title = 'Joe' ######INPUT MANUALLY HERE######\n",
    "keep_uid_list = [] ######INPUT MANUALLY HERE######\n",
    "mm_and_g_df = manual_data_cleaning(mm_and_g_df, movie_title, keep_uid_list)"
   ]
  },
  {
   "cell_type": "code",
   "execution_count": 48,
   "metadata": {},
   "outputs": [
    {
     "name": "stdout",
     "output_type": "stream",
     "text": [
      "Shape of df before cleaning: (2048, 14)\n",
      "Shape of df after cleaning: (2047, 14)\n"
     ]
    }
   ],
   "source": [
    "movie_title = 'Leap Year' ######INPUT MANUALLY HERE######\n",
    "keep_uid_list = [3230] ######INPUT MANUALLY HERE######\n",
    "mm_and_g_df = manual_data_cleaning(mm_and_g_df, movie_title, keep_uid_list)"
   ]
  },
  {
   "cell_type": "code",
   "execution_count": 49,
   "metadata": {},
   "outputs": [
    {
     "name": "stdout",
     "output_type": "stream",
     "text": [
      "Shape of df before cleaning: (2047, 14)\n",
      "Shape of df after cleaning: (2046, 14)\n"
     ]
    }
   ],
   "source": [
    "movie_title = 'Let There Be Light' ######INPUT MANUALLY HERE######\n",
    "keep_uid_list = [5645] ######INPUT MANUALLY HERE######\n",
    "mm_and_g_df = manual_data_cleaning(mm_and_g_df, movie_title, keep_uid_list)"
   ]
  },
  {
   "cell_type": "code",
   "execution_count": 50,
   "metadata": {},
   "outputs": [
    {
     "name": "stdout",
     "output_type": "stream",
     "text": [
      "Shape of df before cleaning: (2046, 14)\n",
      "Shape of df after cleaning: (2045, 14)\n"
     ]
    }
   ],
   "source": [
    "movie_title = 'Lights Out' ######INPUT MANUALLY HERE######\n",
    "keep_uid_list = [5080] ######INPUT MANUALLY HERE######\n",
    "mm_and_g_df = manual_data_cleaning(mm_and_g_df, movie_title, keep_uid_list)"
   ]
  },
  {
   "cell_type": "code",
   "execution_count": 51,
   "metadata": {},
   "outputs": [
    {
     "name": "stdout",
     "output_type": "stream",
     "text": [
      "Shape of df before cleaning: (2045, 14)\n",
      "Shape of df after cleaning: (2044, 14)\n"
     ]
    }
   ],
   "source": [
    "movie_title = 'Phantom' ######INPUT MANUALLY HERE######\n",
    "keep_uid_list = [3357] ######INPUT MANUALLY HERE######\n",
    "mm_and_g_df = manual_data_cleaning(mm_and_g_df, movie_title, keep_uid_list)"
   ]
  },
  {
   "cell_type": "code",
   "execution_count": 52,
   "metadata": {},
   "outputs": [
    {
     "name": "stdout",
     "output_type": "stream",
     "text": [
      "Shape of df before cleaning: (2044, 14)\n",
      "Shape of df after cleaning: (2041, 14)\n"
     ]
    }
   ],
   "source": [
    "movie_title = 'Redemption' ######INPUT MANUALLY HERE######\n",
    "keep_uid_list = [2832] ######INPUT MANUALLY HERE######\n",
    "mm_and_g_df = manual_data_cleaning(mm_and_g_df, movie_title, keep_uid_list)"
   ]
  },
  {
   "cell_type": "code",
   "execution_count": 53,
   "metadata": {},
   "outputs": [
    {
     "name": "stdout",
     "output_type": "stream",
     "text": [
      "Shape of df before cleaning: (2041, 14)\n",
      "Shape of df after cleaning: (2040, 14)\n"
     ]
    }
   ],
   "source": [
    "movie_title = 'Robin Hood 2018' ######INPUT MANUALLY HERE######\n",
    "keep_uid_list = [446] ######INPUT MANUALLY HERE######\n",
    "mm_and_g_df = manual_data_cleaning(mm_and_g_df, movie_title, keep_uid_list)"
   ]
  },
  {
   "cell_type": "code",
   "execution_count": 54,
   "metadata": {},
   "outputs": [
    {
     "name": "stdout",
     "output_type": "stream",
     "text": [
      "Shape of df before cleaning: (2040, 14)\n",
      "Shape of df after cleaning: (2039, 14)\n"
     ]
    }
   ],
   "source": [
    "movie_title = 'Sisters' ######INPUT MANUALLY HERE######\n",
    "keep_uid_list = [2186] ######INPUT MANUALLY HERE######\n",
    "mm_and_g_df = manual_data_cleaning(mm_and_g_df, movie_title, keep_uid_list)"
   ]
  },
  {
   "cell_type": "code",
   "execution_count": 55,
   "metadata": {},
   "outputs": [
    {
     "name": "stdout",
     "output_type": "stream",
     "text": [
      "Shape of df before cleaning: (2039, 14)\n",
      "Shape of df after cleaning: (2038, 14)\n"
     ]
    }
   ],
   "source": [
    "movie_title = 'Spotlight' ######INPUT MANUALLY HERE######\n",
    "keep_uid_list = [2997] ######INPUT MANUALLY HERE######\n",
    "mm_and_g_df = manual_data_cleaning(mm_and_g_df, movie_title, keep_uid_list)"
   ]
  },
  {
   "cell_type": "code",
   "execution_count": 56,
   "metadata": {},
   "outputs": [
    {
     "name": "stdout",
     "output_type": "stream",
     "text": [
      "Shape of df before cleaning: (2038, 14)\n",
      "Shape of df after cleaning: (2037, 14)\n"
     ]
    }
   ],
   "source": [
    "movie_title = 'Stronger' ######INPUT MANUALLY HERE######\n",
    "keep_uid_list = [2351] ######INPUT MANUALLY HERE######\n",
    "mm_and_g_df = manual_data_cleaning(mm_and_g_df, movie_title, keep_uid_list)"
   ]
  },
  {
   "cell_type": "code",
   "execution_count": 57,
   "metadata": {},
   "outputs": [
    {
     "name": "stdout",
     "output_type": "stream",
     "text": [
      "Shape of df before cleaning: (2037, 14)\n",
      "Shape of df after cleaning: (2036, 14)\n"
     ]
    }
   ],
   "source": [
    "movie_title = 'The Artist' ######INPUT MANUALLY HERE######\n",
    "keep_uid_list = [3470] ######INPUT MANUALLY HERE######\n",
    "mm_and_g_df = manual_data_cleaning(mm_and_g_df, movie_title, keep_uid_list)"
   ]
  },
  {
   "cell_type": "code",
   "execution_count": 58,
   "metadata": {},
   "outputs": [
    {
     "name": "stdout",
     "output_type": "stream",
     "text": [
      "Shape of df before cleaning: (2036, 14)\n",
      "Shape of df after cleaning: (2035, 14)\n"
     ]
    }
   ],
   "source": [
    "movie_title = 'The Bounty Hunter' ######INPUT MANUALLY HERE######\n",
    "keep_uid_list = [1488] ######INPUT MANUALLY HERE######\n",
    "mm_and_g_df = manual_data_cleaning(mm_and_g_df, movie_title, keep_uid_list)"
   ]
  },
  {
   "cell_type": "code",
   "execution_count": 59,
   "metadata": {},
   "outputs": [
    {
     "name": "stdout",
     "output_type": "stream",
     "text": [
      "Shape of df before cleaning: (2035, 14)\n",
      "Shape of df after cleaning: (2034, 14)\n"
     ]
    }
   ],
   "source": [
    "movie_title = 'The Call' ######INPUT MANUALLY HERE######\n",
    "keep_uid_list = [3953] ######INPUT MANUALLY HERE######\n",
    "mm_and_g_df = manual_data_cleaning(mm_and_g_df, movie_title, keep_uid_list)"
   ]
  },
  {
   "cell_type": "code",
   "execution_count": 60,
   "metadata": {},
   "outputs": [
    {
     "name": "stdout",
     "output_type": "stream",
     "text": [
      "Shape of df before cleaning: (2034, 14)\n",
      "Shape of df after cleaning: (2032, 14)\n"
     ]
    }
   ],
   "source": [
    "movie_title = 'The Circle' ######INPUT MANUALLY HERE######\n",
    "keep_uid_list = [3310] ######INPUT MANUALLY HERE######\n",
    "mm_and_g_df = manual_data_cleaning(mm_and_g_df, movie_title, keep_uid_list)"
   ]
  },
  {
   "cell_type": "code",
   "execution_count": 61,
   "metadata": {},
   "outputs": [
    {
     "name": "stdout",
     "output_type": "stream",
     "text": [
      "Shape of df before cleaning: (2032, 14)\n",
      "Shape of df after cleaning: (2031, 14)\n"
     ]
    }
   ],
   "source": [
    "movie_title = 'The Darkness' ######INPUT MANUALLY HERE######\n",
    "keep_uid_list = [5389] ######INPUT MANUALLY HERE######\n",
    "mm_and_g_df = manual_data_cleaning(mm_and_g_df, movie_title, keep_uid_list)"
   ]
  },
  {
   "cell_type": "code",
   "execution_count": 62,
   "metadata": {},
   "outputs": [
    {
     "name": "stdout",
     "output_type": "stream",
     "text": [
      "Shape of df before cleaning: (2031, 14)\n",
      "Shape of df after cleaning: (2030, 14)\n"
     ]
    }
   ],
   "source": [
    "movie_title = 'The Family' ######INPUT MANUALLY HERE######\n",
    "keep_uid_list = [2264] ######INPUT MANUALLY HERE######\n",
    "mm_and_g_df = manual_data_cleaning(mm_and_g_df, movie_title, keep_uid_list)"
   ]
  },
  {
   "cell_type": "code",
   "execution_count": 63,
   "metadata": {},
   "outputs": [
    {
     "name": "stdout",
     "output_type": "stream",
     "text": [
      "Shape of df before cleaning: (2030, 14)\n",
      "Shape of df after cleaning: (2029, 14)\n"
     ]
    }
   ],
   "source": [
    "movie_title = 'The Forest' ######INPUT MANUALLY HERE######\n",
    "keep_uid_list = [4275] ######INPUT MANUALLY HERE######\n",
    "mm_and_g_df = manual_data_cleaning(mm_and_g_df, movie_title, keep_uid_list)"
   ]
  },
  {
   "cell_type": "code",
   "execution_count": 64,
   "metadata": {},
   "outputs": [
    {
     "name": "stdout",
     "output_type": "stream",
     "text": [
      "Shape of df before cleaning: (2029, 14)\n",
      "Shape of df after cleaning: (2028, 14)\n"
     ]
    }
   ],
   "source": [
    "movie_title = 'The Night Before' ######INPUT MANUALLY HERE######\n",
    "keep_uid_list = [2605] ######INPUT MANUALLY HERE######\n",
    "mm_and_g_df = manual_data_cleaning(mm_and_g_df, movie_title, keep_uid_list)"
   ]
  },
  {
   "cell_type": "code",
   "execution_count": 65,
   "metadata": {},
   "outputs": [
    {
     "name": "stdout",
     "output_type": "stream",
     "text": [
      "Shape of df before cleaning: (2028, 14)\n",
      "Shape of df after cleaning: (2026, 14)\n"
     ]
    }
   ],
   "source": [
    "movie_title = 'The Prince' ######INPUT MANUALLY HERE######\n",
    "keep_uid_list = [3372] ######INPUT MANUALLY HERE######\n",
    "mm_and_g_df = manual_data_cleaning(mm_and_g_df, movie_title, keep_uid_list)"
   ]
  },
  {
   "cell_type": "code",
   "execution_count": 66,
   "metadata": {},
   "outputs": [
    {
     "name": "stdout",
     "output_type": "stream",
     "text": [
      "Shape of df before cleaning: (2026, 14)\n",
      "Shape of df after cleaning: (2022, 14)\n"
     ]
    }
   ],
   "source": [
    "movie_title = 'The Promise' ######INPUT MANUALLY HERE######\n",
    "keep_uid_list = [] ######INPUT MANUALLY HERE######\n",
    "mm_and_g_df = manual_data_cleaning(mm_and_g_df, movie_title, keep_uid_list)"
   ]
  },
  {
   "cell_type": "code",
   "execution_count": 67,
   "metadata": {},
   "outputs": [
    {
     "name": "stdout",
     "output_type": "stream",
     "text": [
      "Shape of df before cleaning: (2022, 14)\n",
      "Shape of df after cleaning: (2021, 14)\n"
     ]
    }
   ],
   "source": [
    "movie_title = 'The Square 2013' ######INPUT MANUALLY HERE######\n",
    "keep_uid_list = [6136] ######INPUT MANUALLY HERE######\n",
    "mm_and_g_df = manual_data_cleaning(mm_and_g_df, movie_title, keep_uid_list)"
   ]
  },
  {
   "cell_type": "code",
   "execution_count": 68,
   "metadata": {},
   "outputs": [
    {
     "name": "stdout",
     "output_type": "stream",
     "text": [
      "Shape of df before cleaning: (2021, 14)\n",
      "Shape of df after cleaning: (2020, 14)\n"
     ]
    }
   ],
   "source": [
    "movie_title = 'The Tempest' ######INPUT MANUALLY HERE######\n",
    "keep_uid_list = [3185] ######INPUT MANUALLY HERE######\n",
    "mm_and_g_df = manual_data_cleaning(mm_and_g_df, movie_title, keep_uid_list)"
   ]
  },
  {
   "cell_type": "code",
   "execution_count": 69,
   "metadata": {},
   "outputs": [
    {
     "name": "stdout",
     "output_type": "stream",
     "text": [
      "Shape of df before cleaning: (2020, 14)\n",
      "Shape of df after cleaning: (2019, 14)\n"
     ]
    }
   ],
   "source": [
    "movie_title = 'The Walk' ######INPUT MANUALLY HERE######\n",
    "keep_uid_list = [2040] ######INPUT MANUALLY HERE######\n",
    "mm_and_g_df = manual_data_cleaning(mm_and_g_df, movie_title, keep_uid_list)"
   ]
  },
  {
   "cell_type": "code",
   "execution_count": 70,
   "metadata": {},
   "outputs": [
    {
     "name": "stdout",
     "output_type": "stream",
     "text": [
      "Shape of df before cleaning: (2019, 14)\n",
      "Shape of df after cleaning: (2017, 14)\n"
     ]
    }
   ],
   "source": [
    "movie_title = 'The Wall' ######INPUT MANUALLY HERE######\n",
    "keep_uid_list = [5684] ######INPUT MANUALLY HERE######\n",
    "mm_and_g_df = manual_data_cleaning(mm_and_g_df, movie_title, keep_uid_list)"
   ]
  },
  {
   "cell_type": "code",
   "execution_count": 71,
   "metadata": {},
   "outputs": [
    {
     "name": "stdout",
     "output_type": "stream",
     "text": [
      "Shape of df before cleaning: (2017, 14)\n",
      "Shape of df after cleaning: (2016, 14)\n"
     ]
    }
   ],
   "source": [
    "movie_title = 'Treachery' ######INPUT MANUALLY HERE######\n",
    "keep_uid_list = [6506] ######INPUT MANUALLY HERE######\n",
    "mm_and_g_df = manual_data_cleaning(mm_and_g_df, movie_title, keep_uid_list)"
   ]
  },
  {
   "cell_type": "code",
   "execution_count": 72,
   "metadata": {},
   "outputs": [
    {
     "name": "stdout",
     "output_type": "stream",
     "text": [
      "Shape of df before cleaning: (2016, 14)\n",
      "Shape of df after cleaning: (2015, 14)\n"
     ]
    }
   ],
   "source": [
    "movie_title = 'Truth or Dare' ######INPUT MANUALLY HERE######\n",
    "keep_uid_list = [5503] ######INPUT MANUALLY HERE######\n",
    "mm_and_g_df = manual_data_cleaning(mm_and_g_df, movie_title, keep_uid_list)"
   ]
  },
  {
   "cell_type": "code",
   "execution_count": 73,
   "metadata": {},
   "outputs": [
    {
     "name": "stdout",
     "output_type": "stream",
     "text": [
      "Shape of df before cleaning: (2015, 14)\n",
      "Shape of df after cleaning: (2014, 14)\n"
     ]
    }
   ],
   "source": [
    "movie_title = 'Underdogs' ######INPUT MANUALLY HERE######\n",
    "keep_uid_list = [5819] ######INPUT MANUALLY HERE######\n",
    "mm_and_g_df = manual_data_cleaning(mm_and_g_df, movie_title, keep_uid_list)"
   ]
  },
  {
   "cell_type": "code",
   "execution_count": 74,
   "metadata": {},
   "outputs": [
    {
     "name": "stdout",
     "output_type": "stream",
     "text": [
      "Shape of df before cleaning: (2014, 14)\n",
      "Shape of df after cleaning: (2012, 14)\n"
     ]
    }
   ],
   "source": [
    "movie_title = 'Weekend' ######INPUT MANUALLY HERE######\n",
    "keep_uid_list = [6807] ######INPUT MANUALLY HERE######\n",
    "mm_and_g_df = manual_data_cleaning(mm_and_g_df, movie_title, keep_uid_list)"
   ]
  },
  {
   "cell_type": "markdown",
   "metadata": {},
   "source": [
    "## ANY MORE DUPES?!?\n",
    "\n",
    "Nope..."
   ]
  },
  {
   "cell_type": "code",
   "execution_count": 75,
   "metadata": {},
   "outputs": [
    {
     "name": "stdout",
     "output_type": "stream",
     "text": [
      "Amount of unique duplicate movie title: 0\n",
      "Total amount of duplicate movie titles: 0\n"
     ]
    },
    {
     "data": {
      "text/plain": [
       "Bang Bang Baby                 1\n",
       "Groove                         1\n",
       "The Expendables 3              1\n",
       "Top Hat                        1\n",
       "Made in Dagenham               1\n",
       "                              ..\n",
       "Beasts of the Southern Wild    1\n",
       "G.I. Joe: Retaliation          1\n",
       "Pulse                          1\n",
       "Edge of Tomorrow               1\n",
       "The Help                       1\n",
       "Name: movie, Length: 2012, dtype: int64"
      ]
     },
     "execution_count": 75,
     "metadata": {},
     "output_type": "execute_result"
    }
   ],
   "source": [
    "determine_dupes(mm_and_g_df['movie'])"
   ]
  },
  {
   "cell_type": "markdown",
   "metadata": {},
   "source": [
    "## What to do with NaN Values in `'genres'` column??"
   ]
  },
  {
   "cell_type": "code",
   "execution_count": 76,
   "metadata": {},
   "outputs": [
    {
     "name": "stdout",
     "output_type": "stream",
     "text": [
      "Rows with Null Values in genres Column: 13\n"
     ]
    }
   ],
   "source": [
    "# How many rows have null values in the 'genres' column?\n",
    "mm_and_g_null_values = mm_and_g_df['genres'].isna().sum()\n",
    "print(f'Rows with Null Values in genres Column: {mm_and_g_null_values}')"
   ]
  },
  {
   "cell_type": "code",
   "execution_count": 77,
   "metadata": {},
   "outputs": [],
   "source": [
    "# Remove all rows wih null values in the 'genres' column.\n",
    "mm_and_g_df.dropna(subset=['genres'], axis=0, inplace=True)"
   ]
  },
  {
   "cell_type": "markdown",
   "metadata": {},
   "source": [
    "## Converting dtype of `'genres'` from `'string'` to `'list'`"
   ]
  },
  {
   "cell_type": "code",
   "execution_count": 78,
   "metadata": {},
   "outputs": [],
   "source": [
    "mm_and_g_df['genres'] = mm_and_g_df['genres'].map(lambda x: x.split(','))"
   ]
  },
  {
   "cell_type": "markdown",
   "metadata": {},
   "source": [
    "## Functions for genre data"
   ]
  },
  {
   "cell_type": "code",
   "execution_count": 79,
   "metadata": {},
   "outputs": [],
   "source": [
    "# Returns a dictionary with all of the unique genre types from a DataFrame.\n",
    "\n",
    "def unique_g(g_series):\n",
    "    unique_g_set = set()\n",
    "    unique_g_list = []\n",
    "    unique_g_dict = {}\n",
    "    \n",
    "    unique_g_set = set([g for g_list in g_series for g in g_list])\n",
    "    unique_g_list = sorted(list(unique_g_set))\n",
    "    unique_g_dict = {k: v for k, v in enumerate(unique_g_list)}\n",
    "        \n",
    "    return(unique_g_dict)"
   ]
  },
  {
   "cell_type": "code",
   "execution_count": 80,
   "metadata": {},
   "outputs": [],
   "source": [
    "# Returns a DataFrame with records pertaining only to a specified genre.\n",
    "# In addition, the returned DataFrame will have a new genre column\n",
    "# categorizing each record with the specified genre.\n",
    "\n",
    "def movies_w_specified_genres(g_df, g_type):\n",
    "    movies_for_removal = []\n",
    "     \n",
    "    for movie_index in list(range(len(g_df.index))):\n",
    "        test_df = pd.DataFrame(g_df.iloc[movie_index]).T\n",
    "        if g_type not in test_df['genres'][test_df.index[0]]:\n",
    "            movies_for_removal.append(test_df['tconst'][test_df.index[0]])\n",
    "            \n",
    "    for movie_for_removal in movies_for_removal:\n",
    "         g_df = g_df[g_df['tconst'] != movie_for_removal]\n",
    "    \n",
    "    g_df['genre'] = g_type\n",
    "    \n",
    "    return(g_df)"
   ]
  },
  {
   "cell_type": "code",
   "execution_count": 81,
   "metadata": {},
   "outputs": [],
   "source": [
    "##### NOTE: THIS NEEDS TO BE ALTERED TO ONLY CONCATENATE SOME OF THE GENRE TYPES #####\n",
    "# Returns a concatenated DataFrame of all of unique genres with genre labels in the genre column.\n",
    "\n",
    "def concatenate_all_genres(df, unique_g_dict):\n",
    "    temp_df = pd.DataFrame()\n",
    "    \n",
    "    for g_index in list(range(len(unique_g_dict))):\n",
    "        temp_df = temp_df.append(movies_w_specified_genres(df, unique_g_dict[g_index]))\n",
    "    \n",
    "    return(temp_df)"
   ]
  },
  {
   "cell_type": "markdown",
   "metadata": {},
   "source": [
    "## Setup for Visualization"
   ]
  },
  {
   "cell_type": "code",
   "execution_count": 82,
   "metadata": {},
   "outputs": [
    {
     "data": {
      "text/plain": [
       "{0: 'Action',\n",
       " 1: 'Adventure',\n",
       " 2: 'Animation',\n",
       " 3: 'Biography',\n",
       " 4: 'Comedy',\n",
       " 5: 'Crime',\n",
       " 6: 'Documentary',\n",
       " 7: 'Drama',\n",
       " 8: 'Family',\n",
       " 9: 'Fantasy',\n",
       " 10: 'History',\n",
       " 11: 'Horror',\n",
       " 12: 'Music',\n",
       " 13: 'Musical',\n",
       " 14: 'Mystery',\n",
       " 15: 'News',\n",
       " 16: 'Romance',\n",
       " 17: 'Sci-Fi',\n",
       " 18: 'Sport',\n",
       " 19: 'Thriller',\n",
       " 20: 'War',\n",
       " 21: 'Western'}"
      ]
     },
     "execution_count": 82,
     "metadata": {},
     "output_type": "execute_result"
    }
   ],
   "source": [
    "unique_g_dict = unique_g(mm_and_g_df['genres'])\n",
    "unique_g_dict"
   ]
  },
  {
   "cell_type": "code",
   "execution_count": 83,
   "metadata": {},
   "outputs": [],
   "source": [
    "# 16GB RAM - THIS CODE BLOCK WILL TAKE ~1 MINUTE TO FINISH RUNNING\n",
    "all_g_df = concatenate_all_genres(mm_and_g_df, unique_g_dict)"
   ]
  },
  {
   "cell_type": "markdown",
   "metadata": {},
   "source": [
    "## The Visualization"
   ]
  },
  {
   "cell_type": "code",
   "execution_count": 84,
   "metadata": {
    "scrolled": true
   },
   "outputs": [
    {
     "name": "stdout",
     "output_type": "stream",
     "text": [
      "Shape of df before cleaning: (4816, 15)\n",
      "Shape of df after cleaning: (4813, 15)\n",
      "Shape of df before cleaning: (4813, 15)\n",
      "Shape of df after cleaning: (4811, 15)\n"
     ]
    }
   ],
   "source": [
    "# I decided to remove Bambi and The Gallows because I considered their ROIs to be excessive outliers.\n",
    "movie_title = 'The Gallows' ######INPUT MANUALLY HERE######\n",
    "keep_uid_list = [] ######INPUT MANUALLY HERE######\n",
    "all_g_df = manual_data_cleaning(all_g_df, movie_title, keep_uid_list)\n",
    "\n",
    "movie_title = 'Bambi' ######INPUT MANUALLY HERE######\n",
    "keep_uid_list = [] ######INPUT MANUALLY HERE######\n",
    "all_g_df = manual_data_cleaning(all_g_df, movie_title, keep_uid_list)"
   ]
  },
  {
   "cell_type": "code",
   "execution_count": 85,
   "metadata": {},
   "outputs": [],
   "source": [
    "all_g_df.sort_values(by='ROI', inplace=True)"
   ]
  },
  {
   "cell_type": "code",
   "execution_count": 86,
   "metadata": {},
   "outputs": [],
   "source": [
    "viz_df = all_g_df.loc[all_g_df['year'] > 2015].copy()\n",
    "viz_df.sort_values(by='year', inplace=True)"
   ]
  },
  {
   "cell_type": "code",
   "execution_count": 87,
   "metadata": {},
   "outputs": [
    {
     "data": {
      "image/png": "[encoded data removed]",
      "text/plain": [
       "<Figure size 1440x720 with 1 Axes>"
      ]
     },
     "metadata": {
      "needs_background": "light"
     },
     "output_type": "display_data"
    }
   ],
   "source": [
    "fig, ax = plt.subplots(figsize = (20,10))\n",
    "ax.bar(x=viz_df['genre'], height=viz_df['ROI'])\n",
    "ax.set_xlabel('Genre')\n",
    "ax.set_ylabel('Return on Investment (%)')\n",
    "ax.set_title('Returns on Film Investment by Genre over Past 5 Years')\n",
    "plt.setp(ax.xaxis.get_majorticklabels(), rotation=45, ha=\"right\" );"
   ]
  },
  {
   "cell_type": "markdown",
   "metadata": {},
   "source": [
    "# Beginning of Mendy's Code"
   ]
  },
  {
   "cell_type": "code",
   "execution_count": 88,
   "metadata": {},
   "outputs": [],
   "source": [
    "# Merging all the relevant data into one dataframe.\n",
    "# All merges should be done with 'left merge' so that we don't lose any data.\n",
    "new_df = imdb_title_principals_df.merge(imdb_title_crew_df, on='tconst', how='left')\n",
    "new_df = new_df.merge(imdb_title_basics_df, on='tconst', how='left')\n",
    "new_df = new_df.merge(imdb_name_basics_df, on='nconst', how='left')\n",
    "master_df = new_df.merge(money_metrics_merge_ready_df, left_on='primary_title', right_on='movie', how='left')\n",
    "master_df = master_df.merge(imdb_title_ratings_df, on='tconst', how='left')\n",
    "master_df.drop(['original_title', 'birth_year', 'death_year', 'ordering', 'job', 'characters'], axis=1, inplace=True)"
   ]
  },
  {
   "cell_type": "code",
   "execution_count": 89,
   "metadata": {
    "scrolled": true
   },
   "outputs": [
    {
     "data": {
      "text/html": [
       "<div>\n",
       "<style scoped>\n",
       "    .dataframe tbody tr th:only-of-type {\n",
       "        vertical-align: middle;\n",
       "    }\n",
       "\n",
       "    .dataframe tbody tr th {\n",
       "        vertical-align: top;\n",
       "    }\n",
       "\n",
       "    .dataframe thead th {\n",
       "        text-align: right;\n",
       "    }\n",
       "</style>\n",
       "<table border=\"1\" class=\"dataframe\">\n",
       "  <thead>\n",
       "    <tr style=\"text-align: right;\">\n",
       "      <th></th>\n",
       "      <th>tconst</th>\n",
       "      <th>nconst</th>\n",
       "      <th>category</th>\n",
       "      <th>directors</th>\n",
       "      <th>writers</th>\n",
       "      <th>primary_title</th>\n",
       "      <th>start_year</th>\n",
       "      <th>runtime_minutes</th>\n",
       "      <th>genres</th>\n",
       "      <th>primary_name</th>\n",
       "      <th>...</th>\n",
       "      <th>worldwide_gross</th>\n",
       "      <th>mmdf_uni_id</th>\n",
       "      <th>Profit Margin</th>\n",
       "      <th>ROI</th>\n",
       "      <th>Year</th>\n",
       "      <th>Month</th>\n",
       "      <th>New Title</th>\n",
       "      <th>is_title_NaN</th>\n",
       "      <th>averagerating</th>\n",
       "      <th>numvotes</th>\n",
       "    </tr>\n",
       "  </thead>\n",
       "  <tbody>\n",
       "    <tr>\n",
       "      <th>0</th>\n",
       "      <td>tt0111414</td>\n",
       "      <td>nm0246005</td>\n",
       "      <td>actor</td>\n",
       "      <td>nm0398271</td>\n",
       "      <td>nm0398271</td>\n",
       "      <td>A Thin Life</td>\n",
       "      <td>2018</td>\n",
       "      <td>75.0</td>\n",
       "      <td>Comedy</td>\n",
       "      <td>Tommy Dysart</td>\n",
       "      <td>...</td>\n",
       "      <td>NaN</td>\n",
       "      <td>NaN</td>\n",
       "      <td>NaN</td>\n",
       "      <td>NaN</td>\n",
       "      <td>NaN</td>\n",
       "      <td>NaN</td>\n",
       "      <td>NaN</td>\n",
       "      <td>NaN</td>\n",
       "      <td>NaN</td>\n",
       "      <td>NaN</td>\n",
       "    </tr>\n",
       "    <tr>\n",
       "      <th>1</th>\n",
       "      <td>tt0111414</td>\n",
       "      <td>nm0398271</td>\n",
       "      <td>director</td>\n",
       "      <td>nm0398271</td>\n",
       "      <td>nm0398271</td>\n",
       "      <td>A Thin Life</td>\n",
       "      <td>2018</td>\n",
       "      <td>75.0</td>\n",
       "      <td>Comedy</td>\n",
       "      <td>Frank Howson</td>\n",
       "      <td>...</td>\n",
       "      <td>NaN</td>\n",
       "      <td>NaN</td>\n",
       "      <td>NaN</td>\n",
       "      <td>NaN</td>\n",
       "      <td>NaN</td>\n",
       "      <td>NaN</td>\n",
       "      <td>NaN</td>\n",
       "      <td>NaN</td>\n",
       "      <td>NaN</td>\n",
       "      <td>NaN</td>\n",
       "    </tr>\n",
       "    <tr>\n",
       "      <th>2</th>\n",
       "      <td>tt0111414</td>\n",
       "      <td>nm3739909</td>\n",
       "      <td>producer</td>\n",
       "      <td>nm0398271</td>\n",
       "      <td>nm0398271</td>\n",
       "      <td>A Thin Life</td>\n",
       "      <td>2018</td>\n",
       "      <td>75.0</td>\n",
       "      <td>Comedy</td>\n",
       "      <td>Barry Porter-Robinson</td>\n",
       "      <td>...</td>\n",
       "      <td>NaN</td>\n",
       "      <td>NaN</td>\n",
       "      <td>NaN</td>\n",
       "      <td>NaN</td>\n",
       "      <td>NaN</td>\n",
       "      <td>NaN</td>\n",
       "      <td>NaN</td>\n",
       "      <td>NaN</td>\n",
       "      <td>NaN</td>\n",
       "      <td>NaN</td>\n",
       "    </tr>\n",
       "    <tr>\n",
       "      <th>3</th>\n",
       "      <td>tt0323808</td>\n",
       "      <td>nm0059247</td>\n",
       "      <td>editor</td>\n",
       "      <td>nm0362736</td>\n",
       "      <td>nm0362736</td>\n",
       "      <td>The Wicker Tree</td>\n",
       "      <td>2011</td>\n",
       "      <td>96.0</td>\n",
       "      <td>Drama,Horror</td>\n",
       "      <td>Sean Barton</td>\n",
       "      <td>...</td>\n",
       "      <td>NaN</td>\n",
       "      <td>NaN</td>\n",
       "      <td>NaN</td>\n",
       "      <td>NaN</td>\n",
       "      <td>NaN</td>\n",
       "      <td>NaN</td>\n",
       "      <td>NaN</td>\n",
       "      <td>NaN</td>\n",
       "      <td>3.9</td>\n",
       "      <td>2328.0</td>\n",
       "    </tr>\n",
       "    <tr>\n",
       "      <th>4</th>\n",
       "      <td>tt0323808</td>\n",
       "      <td>nm3579312</td>\n",
       "      <td>actress</td>\n",
       "      <td>nm0362736</td>\n",
       "      <td>nm0362736</td>\n",
       "      <td>The Wicker Tree</td>\n",
       "      <td>2011</td>\n",
       "      <td>96.0</td>\n",
       "      <td>Drama,Horror</td>\n",
       "      <td>Brittania Nicol</td>\n",
       "      <td>...</td>\n",
       "      <td>NaN</td>\n",
       "      <td>NaN</td>\n",
       "      <td>NaN</td>\n",
       "      <td>NaN</td>\n",
       "      <td>NaN</td>\n",
       "      <td>NaN</td>\n",
       "      <td>NaN</td>\n",
       "      <td>NaN</td>\n",
       "      <td>3.9</td>\n",
       "      <td>2328.0</td>\n",
       "    </tr>\n",
       "    <tr>\n",
       "      <th>...</th>\n",
       "      <td>...</td>\n",
       "      <td>...</td>\n",
       "      <td>...</td>\n",
       "      <td>...</td>\n",
       "      <td>...</td>\n",
       "      <td>...</td>\n",
       "      <td>...</td>\n",
       "      <td>...</td>\n",
       "      <td>...</td>\n",
       "      <td>...</td>\n",
       "      <td>...</td>\n",
       "      <td>...</td>\n",
       "      <td>...</td>\n",
       "      <td>...</td>\n",
       "      <td>...</td>\n",
       "      <td>...</td>\n",
       "      <td>...</td>\n",
       "      <td>...</td>\n",
       "      <td>...</td>\n",
       "      <td>...</td>\n",
       "      <td>...</td>\n",
       "    </tr>\n",
       "    <tr>\n",
       "      <th>1028181</th>\n",
       "      <td>tt9692684</td>\n",
       "      <td>nm0186469</td>\n",
       "      <td>actor</td>\n",
       "      <td>nm10441594</td>\n",
       "      <td>nm6009913</td>\n",
       "      <td>Disnatured</td>\n",
       "      <td>2016</td>\n",
       "      <td>NaN</td>\n",
       "      <td>Drama,Fantasy,Horror</td>\n",
       "      <td>Kenneth Cranham</td>\n",
       "      <td>...</td>\n",
       "      <td>NaN</td>\n",
       "      <td>NaN</td>\n",
       "      <td>NaN</td>\n",
       "      <td>NaN</td>\n",
       "      <td>NaN</td>\n",
       "      <td>NaN</td>\n",
       "      <td>NaN</td>\n",
       "      <td>NaN</td>\n",
       "      <td>NaN</td>\n",
       "      <td>NaN</td>\n",
       "    </tr>\n",
       "    <tr>\n",
       "      <th>1028182</th>\n",
       "      <td>tt9692684</td>\n",
       "      <td>nm4929530</td>\n",
       "      <td>self</td>\n",
       "      <td>nm10441594</td>\n",
       "      <td>nm6009913</td>\n",
       "      <td>Disnatured</td>\n",
       "      <td>2016</td>\n",
       "      <td>NaN</td>\n",
       "      <td>Drama,Fantasy,Horror</td>\n",
       "      <td>Pearl Mackie</td>\n",
       "      <td>...</td>\n",
       "      <td>NaN</td>\n",
       "      <td>NaN</td>\n",
       "      <td>NaN</td>\n",
       "      <td>NaN</td>\n",
       "      <td>NaN</td>\n",
       "      <td>NaN</td>\n",
       "      <td>NaN</td>\n",
       "      <td>NaN</td>\n",
       "      <td>NaN</td>\n",
       "      <td>NaN</td>\n",
       "    </tr>\n",
       "    <tr>\n",
       "      <th>1028183</th>\n",
       "      <td>tt9692684</td>\n",
       "      <td>nm10441594</td>\n",
       "      <td>director</td>\n",
       "      <td>nm10441594</td>\n",
       "      <td>nm6009913</td>\n",
       "      <td>Disnatured</td>\n",
       "      <td>2016</td>\n",
       "      <td>NaN</td>\n",
       "      <td>Drama,Fantasy,Horror</td>\n",
       "      <td>Guy Jones</td>\n",
       "      <td>...</td>\n",
       "      <td>NaN</td>\n",
       "      <td>NaN</td>\n",
       "      <td>NaN</td>\n",
       "      <td>NaN</td>\n",
       "      <td>NaN</td>\n",
       "      <td>NaN</td>\n",
       "      <td>NaN</td>\n",
       "      <td>NaN</td>\n",
       "      <td>NaN</td>\n",
       "      <td>NaN</td>\n",
       "    </tr>\n",
       "    <tr>\n",
       "      <th>1028184</th>\n",
       "      <td>tt9692684</td>\n",
       "      <td>nm6009913</td>\n",
       "      <td>writer</td>\n",
       "      <td>nm10441594</td>\n",
       "      <td>nm6009913</td>\n",
       "      <td>Disnatured</td>\n",
       "      <td>2016</td>\n",
       "      <td>NaN</td>\n",
       "      <td>Drama,Fantasy,Horror</td>\n",
       "      <td>Sabrina Mahfouz</td>\n",
       "      <td>...</td>\n",
       "      <td>NaN</td>\n",
       "      <td>NaN</td>\n",
       "      <td>NaN</td>\n",
       "      <td>NaN</td>\n",
       "      <td>NaN</td>\n",
       "      <td>NaN</td>\n",
       "      <td>NaN</td>\n",
       "      <td>NaN</td>\n",
       "      <td>NaN</td>\n",
       "      <td>NaN</td>\n",
       "    </tr>\n",
       "    <tr>\n",
       "      <th>1028185</th>\n",
       "      <td>tt9692684</td>\n",
       "      <td>nm10441595</td>\n",
       "      <td>producer</td>\n",
       "      <td>nm10441594</td>\n",
       "      <td>nm6009913</td>\n",
       "      <td>Disnatured</td>\n",
       "      <td>2016</td>\n",
       "      <td>NaN</td>\n",
       "      <td>Drama,Fantasy,Horror</td>\n",
       "      <td>Simmer Dim</td>\n",
       "      <td>...</td>\n",
       "      <td>NaN</td>\n",
       "      <td>NaN</td>\n",
       "      <td>NaN</td>\n",
       "      <td>NaN</td>\n",
       "      <td>NaN</td>\n",
       "      <td>NaN</td>\n",
       "      <td>NaN</td>\n",
       "      <td>NaN</td>\n",
       "      <td>NaN</td>\n",
       "      <td>NaN</td>\n",
       "    </tr>\n",
       "  </tbody>\n",
       "</table>\n",
       "<p>1028186 rows × 28 columns</p>\n",
       "</div>"
      ],
      "text/plain": [
       "            tconst      nconst  category   directors    writers  \\\n",
       "0        tt0111414   nm0246005     actor   nm0398271  nm0398271   \n",
       "1        tt0111414   nm0398271  director   nm0398271  nm0398271   \n",
       "2        tt0111414   nm3739909  producer   nm0398271  nm0398271   \n",
       "3        tt0323808   nm0059247    editor   nm0362736  nm0362736   \n",
       "4        tt0323808   nm3579312   actress   nm0362736  nm0362736   \n",
       "...            ...         ...       ...         ...        ...   \n",
       "1028181  tt9692684   nm0186469     actor  nm10441594  nm6009913   \n",
       "1028182  tt9692684   nm4929530      self  nm10441594  nm6009913   \n",
       "1028183  tt9692684  nm10441594  director  nm10441594  nm6009913   \n",
       "1028184  tt9692684   nm6009913    writer  nm10441594  nm6009913   \n",
       "1028185  tt9692684  nm10441595  producer  nm10441594  nm6009913   \n",
       "\n",
       "           primary_title  start_year  runtime_minutes                genres  \\\n",
       "0            A Thin Life        2018             75.0                Comedy   \n",
       "1            A Thin Life        2018             75.0                Comedy   \n",
       "2            A Thin Life        2018             75.0                Comedy   \n",
       "3        The Wicker Tree        2011             96.0          Drama,Horror   \n",
       "4        The Wicker Tree        2011             96.0          Drama,Horror   \n",
       "...                  ...         ...              ...                   ...   \n",
       "1028181       Disnatured        2016              NaN  Drama,Fantasy,Horror   \n",
       "1028182       Disnatured        2016              NaN  Drama,Fantasy,Horror   \n",
       "1028183       Disnatured        2016              NaN  Drama,Fantasy,Horror   \n",
       "1028184       Disnatured        2016              NaN  Drama,Fantasy,Horror   \n",
       "1028185       Disnatured        2016              NaN  Drama,Fantasy,Horror   \n",
       "\n",
       "                  primary_name  ... worldwide_gross mmdf_uni_id  \\\n",
       "0                 Tommy Dysart  ...             NaN         NaN   \n",
       "1                 Frank Howson  ...             NaN         NaN   \n",
       "2        Barry Porter-Robinson  ...             NaN         NaN   \n",
       "3                  Sean Barton  ...             NaN         NaN   \n",
       "4              Brittania Nicol  ...             NaN         NaN   \n",
       "...                        ...  ...             ...         ...   \n",
       "1028181        Kenneth Cranham  ...             NaN         NaN   \n",
       "1028182           Pearl Mackie  ...             NaN         NaN   \n",
       "1028183              Guy Jones  ...             NaN         NaN   \n",
       "1028184        Sabrina Mahfouz  ...             NaN         NaN   \n",
       "1028185             Simmer Dim  ...             NaN         NaN   \n",
       "\n",
       "         Profit Margin  ROI Year Month  New Title  is_title_NaN  \\\n",
       "0                  NaN  NaN  NaN   NaN        NaN           NaN   \n",
       "1                  NaN  NaN  NaN   NaN        NaN           NaN   \n",
       "2                  NaN  NaN  NaN   NaN        NaN           NaN   \n",
       "3                  NaN  NaN  NaN   NaN        NaN           NaN   \n",
       "4                  NaN  NaN  NaN   NaN        NaN           NaN   \n",
       "...                ...  ...  ...   ...        ...           ...   \n",
       "1028181            NaN  NaN  NaN   NaN        NaN           NaN   \n",
       "1028182            NaN  NaN  NaN   NaN        NaN           NaN   \n",
       "1028183            NaN  NaN  NaN   NaN        NaN           NaN   \n",
       "1028184            NaN  NaN  NaN   NaN        NaN           NaN   \n",
       "1028185            NaN  NaN  NaN   NaN        NaN           NaN   \n",
       "\n",
       "         averagerating  numvotes  \n",
       "0                  NaN       NaN  \n",
       "1                  NaN       NaN  \n",
       "2                  NaN       NaN  \n",
       "3                  3.9    2328.0  \n",
       "4                  3.9    2328.0  \n",
       "...                ...       ...  \n",
       "1028181            NaN       NaN  \n",
       "1028182            NaN       NaN  \n",
       "1028183            NaN       NaN  \n",
       "1028184            NaN       NaN  \n",
       "1028185            NaN       NaN  \n",
       "\n",
       "[1028186 rows x 28 columns]"
      ]
     },
     "execution_count": 89,
     "metadata": {},
     "output_type": "execute_result"
    }
   ],
   "source": [
    "master_df"
   ]
  },
  {
   "cell_type": "markdown",
   "metadata": {},
   "source": [
    "### Directors and Actors impact."
   ]
  },
  {
   "cell_type": "markdown",
   "metadata": {},
   "source": [
    "To get a sense of what kind of impact the directors have on movies, we will first take subsets of the data which have only successful movies, and compare those directors with the directors of movies that performed poorly. We can then see if it is true that you can rely on a director to make the movie successful.\n",
    "We'll then do the same for actors."
   ]
  },
  {
   "cell_type": "code",
   "execution_count": 90,
   "metadata": {},
   "outputs": [],
   "source": [
    "# Make a dataframe that only contains movies that had an above average return on investment.\n",
    "above_average_movies = master_df[master_df['ROI'] >= money_metrics_df['ROI'].mean()]\n",
    "\n",
    "# Make a series of all the director's names, and how many of their movies were above average.\n",
    "aam_directors = above_average_movies[(above_average_movies['category'] == 'director')]['primary_name'].value_counts()"
   ]
  },
  {
   "cell_type": "markdown",
   "metadata": {},
   "source": [
    "Let's look at a sample of the 50 directors with the most movies that were succesful based on ROI"
   ]
  },
  {
   "cell_type": "code",
   "execution_count": 91,
   "metadata": {},
   "outputs": [
    {
     "data": {
      "image/png": "[encoded data removed]",
      "text/plain": [
       "<Figure size 864x864 with 1 Axes>"
      ]
     },
     "metadata": {},
     "output_type": "display_data"
    }
   ],
   "source": [
    "# Plot the 50 most successful names, and the number of movies of each director for above average movies.\n",
    "sns.set_style(\"darkgrid\")\n",
    "sns.set(rc={'figure.figsize':(12,12)})\n",
    "ax = sns.barplot(x=aam_directors.values.tolist()[:50], y=aam_directors.index.tolist()[:50], palette=\"Blues_d\")\n",
    "ax.set_title('Number of Above Average Movies per Director')\n",
    "ax.set_xlabel('Number of Movies')\n",
    "ax.set_ylabel('Director');"
   ]
  },
  {
   "cell_type": "markdown",
   "metadata": {},
   "source": [
    "Some unfamilar names there.This is because it's based on ROI, rather than gross revenue. So these guys get good bang for their buck."
   ]
  },
  {
   "cell_type": "code",
   "execution_count": 92,
   "metadata": {},
   "outputs": [
    {
     "data": {
      "image/png": "[encoded data removed]",
      "text/plain": [
       "<Figure size 864x864 with 1 Axes>"
      ]
     },
     "metadata": {},
     "output_type": "display_data"
    }
   ],
   "source": [
    "# Make the same series for actors and actresses.\n",
    "aam_actor_actress = above_average_movies[(above_average_movies['category'] == 'actor') | \\\n",
    "                           (above_average_movies['category'] == 'actress')]['primary_name'].value_counts()\n",
    "\n",
    "# let's look at the same sample for actors/actresses.\n",
    "sns.set_style(\"darkgrid\")\n",
    "sns.set(rc={'figure.figsize':(12,12)})\n",
    "ax = sns.barplot(x=aam_actor_actress.values.tolist()[:50], y=aam_actor_actress.index.tolist()[:50], palette=\"Blues_d\")\n",
    "ax.set_title('Number of Above Average Movies per Actor/Actress')\n",
    "ax.set_xlabel('Number of Movies')\n",
    "ax.set_ylabel('Actor/Actress');"
   ]
  },
  {
   "cell_type": "markdown",
   "metadata": {},
   "source": [
    "Now we'll do the same with poor performers. But we'll only take movies that had a relatively large budget, so we eliminate the movies that, due to low budget, never had a chance to begin with."
   ]
  },
  {
   "cell_type": "code",
   "execution_count": 93,
   "metadata": {},
   "outputs": [
    {
     "data": {
      "image/png": "[encoded data removed]",
      "text/plain": [
       "<Figure size 864x864 with 1 Axes>"
      ]
     },
     "metadata": {},
     "output_type": "display_data"
    }
   ],
   "source": [
    "# Set the standard for poor performance movies at having a high budget and a low ROI.\n",
    "poor_performance_movies = master_df[(master_df['ROI'] <= money_metrics_df['ROI'].median()) & \\\n",
    "          (master_df['production_budget'] >= money_metrics_df['production_budget'].median())]\n",
    "\n",
    "# Take all the directors from the poor performing movies.\n",
    "ppm_directors = poor_performance_movies[(poor_performance_movies['category'] == 'director')]['primary_name'].value_counts()\n",
    "\n",
    "# Plot the 50 least successful names and the number of movies for each director for poor performing movies.\n",
    "sns.set_style(\"darkgrid\")\n",
    "sns.set(rc={'figure.figsize':(12,12)})\n",
    "ax = sns.barplot(x=ppm_directors.values.tolist()[:50], y=ppm_directors.index.tolist()[:50], palette=\"Blues_d\")\n",
    "ax.set_title('Number of Poor Performance Movies per Director')\n",
    "ax.set_xlabel('Number of Movies')\n",
    "ax.set_ylabel('Directors');"
   ]
  },
  {
   "cell_type": "code",
   "execution_count": 94,
   "metadata": {},
   "outputs": [
    {
     "data": {
      "image/png": "[encoded data removed]",
      "text/plain": [
       "<Figure size 864x864 with 1 Axes>"
      ]
     },
     "metadata": {},
     "output_type": "display_data"
    }
   ],
   "source": [
    "# Continue the same process for actors/actresses in poor prformance movies.\n",
    "ppm_actor_actress = poor_performance_movies[(poor_performance_movies['category'] == 'actor') | \\\n",
    "                           (poor_performance_movies['category'] == 'actress')]['primary_name'].value_counts()\n",
    "sns.set_style(\"darkgrid\")\n",
    "sns.set(rc={'figure.figsize':(12,12)})\n",
    "ax = sns.barplot(x=ppm_actor_actress.values.tolist()[:50], y=ppm_actor_actress.index.tolist()[:50], palette=\"Blues_d\")\n",
    "ax.set_title('Number of Poor Performance Movies per Actor/Actress')\n",
    "ax.set_xlabel('Number of Movies')\n",
    "ax.set_ylabel('Actor/Actress');"
   ]
  },
  {
   "cell_type": "markdown",
   "metadata": {},
   "source": [
    "Now we'll check to see if the directors, as well as the actors, of the really successful movies also made failed movies."
   ]
  },
  {
   "cell_type": "code",
   "execution_count": 95,
   "metadata": {},
   "outputs": [],
   "source": [
    "# Use \".intersection\" to check how many of the successful movie directors, also directed failed movies.\n",
    "num_dirs_with_good_bad = len(set(ppm_directors.index.tolist()).intersection( aam_directors.index.tolist()))\n",
    "# Check what percent of good movie directors have also directed bad movies.\n",
    "per_good_dirs_with_bad = round(num_dirs_with_good_bad/len(aam_directors)*100, 2)\n",
    "\n",
    "# Use \".intersection\" to check how many of the successful movie actors, also acted in failed movies.\n",
    "num_acts_with_good_bad = len(set(aam_actor_actress.index.tolist()).intersection(ppm_actor_actress.index.tolist()))\n",
    "# Check what percent of good movie actors have also acted in  bad movies.\n",
    "per_good_acts_with_bad = round(num_acts_with_good_bad/len(aam_actor_actress)*100, 2)"
   ]
  },
  {
   "cell_type": "code",
   "execution_count": 96,
   "metadata": {},
   "outputs": [
    {
     "data": {
      "image/png": "[encoded data removed]",
      "text/plain": [
       "<Figure size 864x576 with 1 Axes>"
      ]
     },
     "metadata": {},
     "output_type": "display_data"
    }
   ],
   "source": [
    "# Plot the difference between the percentages.\n",
    "sns.set_style(\"darkgrid\")\n",
    "sns.set(rc={'figure.figsize':(12,8)})\n",
    "ax = sns.barplot(x=['Directors', 'Actors'], y=[per_good_dirs_with_bad, per_good_acts_with_bad])\n",
    "ax.set_title('Percentage of Directors Vs Actors That Have Good and Bad Movies', size=20)\n",
    "ax.set_ylabel('Percent', size=20)\n",
    "ax.set_xticklabels(labels=['Directors', 'Actors'], size=15)\n",
    "ax.set_yticklabels(ax.get_yticks(), size=15);"
   ]
  },
  {
   "cell_type": "markdown",
   "metadata": {},
   "source": [
    "We see that the director of a movie will have a bigger impact on its success than the actors.\n",
    "\n",
    "Lets see if when we filter our above_average_movies to be only big films, if the results will be any different. Lets say that we're only going to look at movies that have higher than the median production budgets."
   ]
  },
  {
   "cell_type": "code",
   "execution_count": 97,
   "metadata": {},
   "outputs": [],
   "source": [
    "# Add the condition that the production budget needs to be bigger than the median.\n",
    "bm_above_average_movies = master_df[(master_df['ROI'] >= money_metrics_df['ROI'].mean()) &\\\n",
    "                                   (master_df['production_budget'] >= money_metrics_df['production_budget'].median())]\n",
    "\n",
    "aa_big_movie_directors = bm_above_average_movies[(bm_above_average_movies['category'] == 'director')]\\\n",
    "                         ['primary_name'].value_counts()\n",
    "\n",
    "bm_aam_actor_actress = bm_above_average_movies[(bm_above_average_movies['category'] == 'actor') | \\\n",
    "                    (bm_above_average_movies['category'] == 'actress')]['primary_name'].value_counts()"
   ]
  },
  {
   "cell_type": "code",
   "execution_count": 98,
   "metadata": {},
   "outputs": [],
   "source": [
    "# Use \".intersection\" to check how many of the successful movie directors, also directed failed movies.\n",
    "bm_num_dirs_with_good_bad = len(set(aa_big_movie_directors.index.tolist()).intersection(ppm_directors.index.tolist()))\n",
    "# Check what percent of good movie directors have also directed bad movies.\n",
    "bm_per_good_dirs_with_bad = round(num_dirs_with_good_bad/len(aa_big_movie_directors)*100, 2)\n",
    "\n",
    "# Use \".intersection\" to check how many of the successful movie actors, also acted in failed movies.\n",
    "bm_num_acts_with_good_bad = len(set(bm_aam_actor_actress.index.tolist()).intersection(ppm_actor_actress.index.tolist()))\n",
    "# Check what percent of good movie actors have also acted in  bad movies.\n",
    "bm_per_good_acts_with_bad = round(num_acts_with_good_bad/len(bm_aam_actor_actress)*100, 2)"
   ]
  },
  {
   "cell_type": "code",
   "execution_count": 99,
   "metadata": {
    "scrolled": false
   },
   "outputs": [
    {
     "data": {
      "image/png": "[encoded data removed]",
      "text/plain": [
       "<Figure size 864x576 with 1 Axes>"
      ]
     },
     "metadata": {},
     "output_type": "display_data"
    }
   ],
   "source": [
    "# Plot the difference between the percentages.\n",
    "sns.set_style(\"darkgrid\")\n",
    "sns.set(rc={'figure.figsize':(12,8)})\n",
    "ax = sns.barplot(x=['Directors', 'Actors'], y=[bm_per_good_dirs_with_bad, bm_per_good_acts_with_bad])\n",
    "ax.set_title('Percentage of Directors Vs Actors That Have Good and Bad Movies', size=20)\n",
    "ax.set_ylabel('Percent', size=20)\n",
    "ax.set_xticklabels(labels=['Directors', 'Actors'], size=15)\n",
    "ax.set_yticklabels(ax.get_yticks(), size=15);"
   ]
  },
  {
   "cell_type": "code",
   "execution_count": null,
   "metadata": {},
   "outputs": [],
   "source": []
  },
  {
   "cell_type": "markdown",
   "metadata": {},
   "source": [
    "As expected, when we make take less data the differences get bigger.\n",
    "Let's flip this graph around and take the positive numbers from it."
   ]
  },
  {
   "cell_type": "code",
   "execution_count": 100,
   "metadata": {},
   "outputs": [],
   "source": [
    "# What percentage of directors/actors who were in high budget films that did well,\n",
    "# have never done films that did poorly.\n",
    "bm_per_dir_only_good = round((1-num_dirs_with_good_bad/len(aa_big_movie_directors))*100,2)\n",
    "bm_per_acts_only_good = round((1-num_acts_with_good_bad/len(bm_aam_actor_actress))*100,2)"
   ]
  },
  {
   "cell_type": "code",
   "execution_count": 101,
   "metadata": {
    "scrolled": true
   },
   "outputs": [
    {
     "data": {
      "image/png": "[encoded data removed]",
      "text/plain": [
       "<Figure size 864x576 with 1 Axes>"
      ]
     },
     "metadata": {},
     "output_type": "display_data"
    }
   ],
   "source": [
    "sns.set_style(\"darkgrid\")\n",
    "sns.set(rc={'figure.figsize':(12,8)})\n",
    "ax = sns.barplot(x=['Directors', 'Actors'], y=[bm_per_dir_only_good, bm_per_acts_only_good])\n",
    "ax.set_title('Percentage of Directors vs Actors That Have Never Done a Bad Movie', size=20)\n",
    "ax.set_ylabel('Percent', size=20)\n",
    "ax.set_xticklabels(labels=['Directors', 'Actors'], size=15)\n",
    "ax.set_yticklabels(ax.get_yticks(), size=15);"
   ]
  },
  {
   "cell_type": "markdown",
   "metadata": {},
   "source": [
    "We can conclude from our exploring, that it probably isn't wise to chase after the most expensive actors or actresses, since we see that many of them who have done really successful movies, have also done movies that did not perform well. This tells us, that while we know a good movie needs good acting, just because a movie has a very popular actor, the fans of this actor alone, are not going to be enough to push the needle and make it a profitable movie. For the directors, it seems that they definetely have a significant impact on the ROI. We see that from all the directors who have done successful movies, 70% of them have never done a flopped movie. So even though sometimes a good director can have a bad movie, overall money spent on a director is well spent."
   ]
  },
  {
   "cell_type": "markdown",
   "metadata": {},
   "source": [
    "## Beginning of Roger's Code"
   ]
  },
  {
   "cell_type": "markdown",
   "metadata": {},
   "source": [
    "# The Runtime Breakdown"
   ]
  },
  {
   "cell_type": "markdown",
   "metadata": {},
   "source": [
    "### Renaming imperative datasets"
   ]
  },
  {
   "cell_type": "code",
   "execution_count": 102,
   "metadata": {},
   "outputs": [
    {
     "name": "stdout",
     "output_type": "stream",
     "text": [
      "<class 'pandas.core.frame.DataFrame'>\n",
      "RangeIndex: 146144 entries, 0 to 146143\n",
      "Data columns (total 6 columns):\n",
      " #   Column           Non-Null Count   Dtype  \n",
      "---  ------           --------------   -----  \n",
      " 0   tconst           146144 non-null  object \n",
      " 1   primary_title    146144 non-null  object \n",
      " 2   original_title   146123 non-null  object \n",
      " 3   start_year       146144 non-null  int64  \n",
      " 4   runtime_minutes  114405 non-null  float64\n",
      " 5   genres           140736 non-null  object \n",
      "dtypes: float64(1), int64(1), object(4)\n",
      "memory usage: 6.7+ MB\n",
      "<class 'pandas.core.frame.DataFrame'>\n",
      "RangeIndex: 1560 entries, 0 to 1559\n",
      "Data columns (total 12 columns):\n",
      " #   Column        Non-Null Count  Dtype \n",
      "---  ------        --------------  ----- \n",
      " 0   id            1560 non-null   int64 \n",
      " 1   synopsis      1498 non-null   object\n",
      " 2   rating        1557 non-null   object\n",
      " 3   genre         1552 non-null   object\n",
      " 4   director      1361 non-null   object\n",
      " 5   writer        1111 non-null   object\n",
      " 6   theater_date  1201 non-null   object\n",
      " 7   dvd_date      1201 non-null   object\n",
      " 8   currency      340 non-null    object\n",
      " 9   box_office    340 non-null    object\n",
      " 10  runtime       1530 non-null   object\n",
      " 11  studio        494 non-null    object\n",
      "dtypes: int64(1), object(11)\n",
      "memory usage: 146.4+ KB\n"
     ]
    },
    {
     "data": {
      "text/plain": [
       "(None, None)"
      ]
     },
     "execution_count": 102,
     "metadata": {},
     "output_type": "execute_result"
    }
   ],
   "source": [
    "imdb_title = imdb_title_basics_df\n",
    "rt_movie = rt_movie_info_df\n",
    "imdb_title.info() , rt_movie.info()"
   ]
  },
  {
   "cell_type": "code",
   "execution_count": 103,
   "metadata": {},
   "outputs": [
    {
     "data": {
      "text/plain": [
       "(90.0     7131\n",
       " 80.0     3526\n",
       " 85.0     2915\n",
       " 100.0    2662\n",
       " 95.0     2549\n",
       "          ... \n",
       " 382.0       1\n",
       " 724.0       1\n",
       " 808.0       1\n",
       " 287.0       1\n",
       " 540.0       1\n",
       " Name: runtime_minutes, Length: 367, dtype: int64,\n",
       " 2017    17504\n",
       " 2016    17272\n",
       " 2018    16849\n",
       " 2015    16243\n",
       " 2014    15589\n",
       " 2013    14709\n",
       " 2012    13787\n",
       " 2011    12900\n",
       " 2010    11849\n",
       " 2019     8379\n",
       " 2020      937\n",
       " 2021       83\n",
       " 2022       32\n",
       " 2023        5\n",
       " 2024        2\n",
       " 2027        1\n",
       " 2026        1\n",
       " 2025        1\n",
       " 2115        1\n",
       " Name: start_year, dtype: int64)"
      ]
     },
     "execution_count": 103,
     "metadata": {},
     "output_type": "execute_result"
    }
   ],
   "source": [
    "# Seeing the value counts for the columns with int and float values\n",
    "imdb_title['runtime_minutes'].value_counts(), imdb_title['start_year'].value_counts()"
   ]
  },
  {
   "cell_type": "markdown",
   "metadata": {},
   "source": [
    "As stated and show above in the Vu's Code block there are many duplicate in the IMDB Title data set, here we will check the rest of the columns in IMDB Title data set whose values are objects and not integers or floats."
   ]
  },
  {
   "cell_type": "code",
   "execution_count": 104,
   "metadata": {},
   "outputs": [
    {
     "data": {
      "text/plain": [
       "(Broken                                                                     19\n",
       " Home                                                                       18\n",
       " The Return                                                                 17\n",
       " Homecoming                                                                 13\n",
       " Alone                                                                      13\n",
       "                                                                            ..\n",
       " Somuncu Baba: Askin Sirri                                                   1\n",
       " Ramaiya Vastavaiya                                                          1\n",
       " The Rare Interviews of the Last Living Experts on the JFK Assassination     1\n",
       " Fashion Goddess                                                             1\n",
       " Two Eighteen                                                                1\n",
       " Name: original_title, Length: 137773, dtype: int64,\n",
       " tt4011300     1\n",
       " tt2145724     1\n",
       " tt1908594     1\n",
       " tt7955106     1\n",
       " tt9503552     1\n",
       "              ..\n",
       " tt6256768     1\n",
       " tt10446356    1\n",
       " tt5554990     1\n",
       " tt0277964     1\n",
       " tt8600192     1\n",
       " Name: tconst, Length: 146144, dtype: int64,\n",
       " Documentary                 32185\n",
       " Drama                       21486\n",
       " Comedy                       9177\n",
       " Horror                       4372\n",
       " Comedy,Drama                 3519\n",
       "                             ...  \n",
       " Animation,History,Music         1\n",
       " Adventure,Family,Music          1\n",
       " Comedy,Fantasy,Sport            1\n",
       " Action,Mystery,Western          1\n",
       " Adventure,Musical,Sci-Fi        1\n",
       " Name: genres, Length: 1085, dtype: int64)"
      ]
     },
     "execution_count": 104,
     "metadata": {},
     "output_type": "execute_result"
    }
   ],
   "source": [
    "imdb_title['original_title'].value_counts(), imdb_title['tconst'].value_counts(), imdb_title['genres'].value_counts()"
   ]
  },
  {
   "cell_type": "markdown",
   "metadata": {},
   "source": [
    "We see multiple duplicates withn the 'original_title\" cloumn as well and within the 'genre column'. The column genre is allowed duplicates since they are descriptive terms that are applied to movies. Want to clean this dataset up to see how they will impact the columns with int and float values."
   ]
  },
  {
   "cell_type": "code",
   "execution_count": 105,
   "metadata": {},
   "outputs": [
    {
     "data": {
      "text/plain": [
       "(How It Is                                        1\n",
       " Implosion: Zero Day                              1\n",
       " Kimchi Untuk Awak                                1\n",
       " Family Vanished                                  1\n",
       " Vasanthi                                         1\n",
       "                                                 ..\n",
       " Saving Dinah                                     1\n",
       " Ragalaipuram                                     1\n",
       " Pavlensky - Man and Might                        1\n",
       " 50 anos de Música: Luiz Carlos Borges Ao Vivo    1\n",
       " Mistaken                                         1\n",
       " Name: primary_title, Length: 136071, dtype: int64,\n",
       " Missed Connections                 3\n",
       " Icarus                             3\n",
       " Stranded                           3\n",
       " Hatsukoi                           3\n",
       " Le sens de l'humour                2\n",
       "                                   ..\n",
       " Habitations légèrement modfiées    1\n",
       " Making Urban Radio Unlocked!       1\n",
       " Araucaria Araucana                 1\n",
       " Pizza Bethlehem                    1\n",
       " Megha Sabari Re Asiba Pheri        1\n",
       " Name: original_title, Length: 135755, dtype: int64,\n",
       " 90.0      6631\n",
       " 80.0      3270\n",
       " 85.0      2695\n",
       " 100.0     2482\n",
       " 75.0      2373\n",
       "           ... \n",
       " 485.0        1\n",
       " 356.0        1\n",
       " 241.0        1\n",
       " 4980.0       1\n",
       " 540.0        1\n",
       " Name: runtime_minutes, Length: 361, dtype: int64,\n",
       " 2017    15945\n",
       " 2016    15750\n",
       " 2018    15230\n",
       " 2015    14921\n",
       " 2014    14526\n",
       " 2013    13882\n",
       " 2012    13149\n",
       " 2011    12405\n",
       " 2010    11538\n",
       " 2019     7733\n",
       " 2020      888\n",
       " 2021       76\n",
       " 2022       21\n",
       " 2023        4\n",
       " 2025        1\n",
       " 2024        1\n",
       " 2027        1\n",
       " Name: start_year, dtype: int64)"
      ]
     },
     "execution_count": 105,
     "metadata": {},
     "output_type": "execute_result"
    }
   ],
   "source": [
    "# Removing/cleaning the duplicates within original_title and primary_columns in hopes to positively impact int and float value columns \n",
    "imdb_title2 = imdb_title.drop_duplicates(subset=['original_title'], keep = 'first')\n",
    "imdb_title2 = imdb_title.drop_duplicates(subset=['primary_title'], keep = 'first')\n",
    "imdb_title2['primary_title'].value_counts(), imdb_title2['original_title'].value_counts(), imdb_title2['runtime_minutes'].value_counts(),imdb_title2['start_year'].value_counts()"
   ]
  },
  {
   "cell_type": "markdown",
   "metadata": {},
   "source": [
    "We see here that many duplicates have been removed and has impacted the amounts in the 'runtime_minutes' and 'start_year' columns."
   ]
  },
  {
   "cell_type": "markdown",
   "metadata": {},
   "source": [
    "Let's see now how the value counts of runtimes is dispersed."
   ]
  },
  {
   "cell_type": "code",
   "execution_count": 106,
   "metadata": {},
   "outputs": [
    {
     "data": {
      "text/plain": [
       "(1.0, 13.0, 227.0, 6631.0)"
      ]
     },
     "execution_count": 106,
     "metadata": {},
     "output_type": "execute_result"
    }
   ],
   "source": [
    "q_4_Imdb = imdb_title2[\"runtime_minutes\"].value_counts().quantile(1)\n",
    "q_3_Imdb = imdb_title2[\"runtime_minutes\"].value_counts().quantile(.75)\n",
    "q_2_Imdb = imdb_title2[\"runtime_minutes\"].value_counts().quantile(.5)\n",
    "q_1_Imdb = imdb_title2[\"runtime_minutes\"].value_counts().quantile(.25)\n",
    "\n",
    "q_1_Imdb , q_2_Imdb , q_3_Imdb, q_4_Imdb"
   ]
  },
  {
   "cell_type": "markdown",
   "metadata": {},
   "source": [
    "Seeing that the delta from 75th percentile to 100th percentile is 6,404 values shows that there may be multiple occurances of just a handful of runtimes"
   ]
  },
  {
   "cell_type": "code",
   "execution_count": 107,
   "metadata": {},
   "outputs": [],
   "source": [
    "# Remove columns that will no longer be used as well as remove null values to remaining columns\n",
    "imdb_title2.dropna(subset = ['start_year'],axis = 0,  inplace = True)\n",
    "imdb_title2.dropna(subset = ['runtime_minutes'], axis = 0,  inplace = True)\n",
    "imdb_title2.drop(['primary_title'], axis =1 , inplace = True)\n",
    "imdb_title2.drop(['original_title'], axis = 1,  inplace = True)\n",
    "imdb_title2.drop(['genres'], axis = 1,  inplace = True)"
   ]
  },
  {
   "cell_type": "code",
   "execution_count": 108,
   "metadata": {},
   "outputs": [
    {
     "data": {
      "text/plain": [
       "90.0"
      ]
     },
     "execution_count": 108,
     "metadata": {},
     "output_type": "execute_result"
    }
   ],
   "source": [
    "# Check for the most common runtime to appear in the dataset\n",
    "most_common = imdb_title2[\"runtime_minutes\"].value_counts().index[0]\n",
    "most_common"
   ]
  },
  {
   "cell_type": "code",
   "execution_count": 109,
   "metadata": {},
   "outputs": [
    {
     "data": {
      "text/plain": [
       "(2022, 2010)"
      ]
     },
     "execution_count": 109,
     "metadata": {},
     "output_type": "execute_result"
    }
   ],
   "source": [
    "#Seeing what is the range for the time span of the data\n",
    "imdb_title2['start_year'].max(), imdb_title2['start_year'].min()\n",
    "# Spans 12 years"
   ]
  },
  {
   "cell_type": "code",
   "execution_count": 110,
   "metadata": {},
   "outputs": [
    {
     "data": {
      "text/plain": [
       "(start_year    2014.462165\n",
       " dtype: float64,\n",
       " start_year    2014.233998\n",
       " dtype: float64,\n",
       " start_year    2014.39813\n",
       " dtype: float64)"
      ]
     },
     "execution_count": 110,
     "metadata": {},
     "output_type": "execute_result"
    }
   ],
   "source": [
    "#Show where the longer times are moving more towards from the most common number\n",
    "G_90_Imdb = imdb_title2.loc[(imdb_title2['runtime_minutes'] > 90), ['start_year']].mean()\n",
    "B_90_Imdb = imdb_title2.loc[(imdb_title2['runtime_minutes'] < 90), ['start_year']].mean()\n",
    "Is_90_Imdb = imdb_title2.loc[(imdb_title2['runtime_minutes'] == 90), ['start_year']].mean()\n",
    "G_90_Imdb, B_90_Imdb, Is_90_Imdb \n",
    "# Shows newer movies are tending to be longer than 90 minutes with showing the average year \n",
    "# pushing to be higher when looking at longer runtimes when looking that the mean from the\n",
    "# most common value and up"
   ]
  },
  {
   "cell_type": "markdown",
   "metadata": {},
   "source": [
    "The dataset is showing a slight push towards more modern movies having more runtime lengths greater than the mode."
   ]
  },
  {
   "cell_type": "markdown",
   "metadata": {},
   "source": [
    "## We can now get a visual on the runtime data (IMDB)"
   ]
  },
  {
   "cell_type": "markdown",
   "metadata": {},
   "source": [
    "To get a visual on the dataset runtime values distribution we will plot the top 70 runtime values"
   ]
  },
  {
   "cell_type": "code",
   "execution_count": 111,
   "metadata": {},
   "outputs": [
    {
     "data": {
      "text/plain": [
       "Text(0.5, 0, 'Runtimes in Minutes')"
      ]
     },
     "execution_count": 111,
     "metadata": {},
     "output_type": "execute_result"
    },
    {
     "data": {
      "image/png": "[encoded data removed]",
      "text/plain": [
       "<Figure size 432x360 with 1 Axes>"
      ]
     },
     "metadata": {},
     "output_type": "display_data"
    }
   ],
   "source": [
    "IMDB_Runtime_Numbers = imdb_title2['runtime_minutes'].value_counts().nlargest(70)\n",
    "\n",
    "IMDB_Runtime_Numbers_Index = imdb_title2['runtime_minutes'].value_counts().index[0:70]\n",
    "fig_IMBD, ax =plt.subplots(figsize = (6,5))\n",
    "ax.bar(IMDB_Runtime_Numbers_Index ,IMDB_Runtime_Numbers , color = 'green' )\n",
    "ax.set_facecolor('blue')\n",
    "ax.set_ylabel(\"Frequency Of Runtime Numbers\")\n",
    "ax.set_title(\"Most Common Movie Lengths\")\n",
    "ax.set_xlabel(\"Runtimes in Minutes\")"
   ]
  },
  {
   "cell_type": "markdown",
   "metadata": {},
   "source": [
    "The graph shows how often the common value of 90 minutes is used."
   ]
  },
  {
   "cell_type": "markdown",
   "metadata": {},
   "source": [
    "We can use the master_df to see if having longer than normal runtimes have a ROI greater than 1."
   ]
  },
  {
   "cell_type": "code",
   "execution_count": 112,
   "metadata": {},
   "outputs": [
    {
     "data": {
      "text/plain": [
       "ROI    3.380391\n",
       "dtype: float64"
      ]
     },
     "execution_count": 112,
     "metadata": {},
     "output_type": "execute_result"
    }
   ],
   "source": [
    "master_df.loc[(master_df['runtime_minutes'] > 90) & (master_df['ROI'] !=0), ['ROI']].mean()"
   ]
  },
  {
   "cell_type": "markdown",
   "metadata": {},
   "source": [
    "We are seeing here that even when the movie runtime is greater than industry standard of 90, overall there is a leaning towards a positive ROI greater than 1."
   ]
  },
  {
   "cell_type": "markdown",
   "metadata": {},
   "source": [
    "## We can move onto the Rotten Tomatoes dataset to see runtimes from movies throughout history"
   ]
  },
  {
   "cell_type": "code",
   "execution_count": 113,
   "metadata": {},
   "outputs": [
    {
     "data": {
      "text/plain": [
       "str"
      ]
     },
     "execution_count": 113,
     "metadata": {},
     "output_type": "execute_result"
    }
   ],
   "source": [
    "# testing the type of value that is within the runtime column\n",
    "type(rt_movie['runtime'][0])"
   ]
  },
  {
   "cell_type": "markdown",
   "metadata": {},
   "source": [
    "We see above the values in the columns are strings and must be changed into floats to be worked on"
   ]
  },
  {
   "cell_type": "code",
   "execution_count": 114,
   "metadata": {},
   "outputs": [],
   "source": [
    "rt_movie['runtime_minutes']=rt_movie['runtime'].str.split()\n",
    "rt_movie['runtime_minutes']=rt_movie['runtime_minutes'].str[0]\n",
    "rt_movie['runtime_minutes'] = rt_movie['runtime_minutes'].astype(float)\n",
    "# change runtime from a string to a solo float number"
   ]
  },
  {
   "cell_type": "markdown",
   "metadata": {},
   "source": [
    "No column has just the year so will create one by using the values within the 'theater_date\" column"
   ]
  },
  {
   "cell_type": "code",
   "execution_count": 115,
   "metadata": {},
   "outputs": [],
   "source": [
    "# Grabbing just the year from theater date\n",
    "rt_movie['start_year']=rt_movie['theater_date'].str.split()\n",
    "rt_movie['start_year']=rt_movie['start_year'].str[2]\n",
    "rt_movie['start_year'] = (rt_movie['start_year']).astype(float)"
   ]
  },
  {
   "cell_type": "code",
   "execution_count": 116,
   "metadata": {},
   "outputs": [],
   "source": [
    "rt_movie.dropna(axis = 0, subset = ['start_year'], inplace = True)\n",
    "rt_movie.dropna(axis = 0, subset = ['runtime_minutes'], inplace = True)\n",
    "# Removing any null values in the columns 'Year' and 'running_mins'"
   ]
  },
  {
   "cell_type": "code",
   "execution_count": 117,
   "metadata": {},
   "outputs": [
    {
     "data": {
      "text/plain": [
       "start_year    1986.807692\n",
       "dtype: float64"
      ]
     },
     "execution_count": 117,
     "metadata": {},
     "output_type": "execute_result"
    }
   ],
   "source": [
    "# Seeing if the standard feature time of 90 is more towards current movies \n",
    "rt_movie.loc[(rt_movie['runtime_minutes'] ==90), ['start_year']].mean()"
   ]
  },
  {
   "cell_type": "markdown",
   "metadata": {},
   "source": [
    "We will clean up the dataset by removing unnecessary columns."
   ]
  },
  {
   "cell_type": "code",
   "execution_count": 118,
   "metadata": {},
   "outputs": [],
   "source": [
    "# Dropping unnecessary columns\n",
    "rt_movie.drop(['runtime'], axis =1, inplace =True)\n",
    "rt_movie.drop(['studio'],axis = 1, inplace = True)\n",
    "rt_movie.drop(['currency'],axis = 1, inplace = True)\n",
    "rt_movie.drop(['writer'],axis = 1, inplace = True)"
   ]
  },
  {
   "cell_type": "markdown",
   "metadata": {},
   "source": [
    "Let's check the dispersion of the runtimes now"
   ]
  },
  {
   "cell_type": "code",
   "execution_count": 119,
   "metadata": {},
   "outputs": [
    {
     "data": {
      "text/plain": [
       "(1.25, 3.0, 18.0, 53.0)"
      ]
     },
     "execution_count": 119,
     "metadata": {},
     "output_type": "execute_result"
    }
   ],
   "source": [
    "q_4_rt = rt_movie[\"runtime_minutes\"].value_counts().quantile(1)\n",
    "q_3_rt = rt_movie[\"runtime_minutes\"].value_counts().quantile(.75)\n",
    "q_2_rt = rt_movie[\"runtime_minutes\"].value_counts().quantile(.5)\n",
    "q_1_rt = rt_movie[\"runtime_minutes\"].value_counts().quantile(.25)\n",
    "q_1_rt , q_2_rt, q_3_rt, q_4_rt\n",
    "#Less of a delta here"
   ]
  },
  {
   "cell_type": "code",
   "execution_count": 120,
   "metadata": {},
   "outputs": [
    {
     "name": "stdout",
     "output_type": "stream",
     "text": [
      "runtime_minutes    106.461538\n",
      "dtype: float64\n",
      "runtime_minutes    148.0\n",
      "dtype: float64\n",
      "runtime_minutes    80.0\n",
      "dtype: float64\n"
     ]
    }
   ],
   "source": [
    "#checking normal runtimes for newer movies\n",
    "print(rt_movie.loc[(rt_movie['start_year'] >=2015),['runtime_minutes']].mean())\n",
    "print(rt_movie.loc[(rt_movie['start_year'] >=2015),['runtime_minutes']].max())\n",
    "print(rt_movie.loc[(rt_movie['start_year'] >=2015),['runtime_minutes']].min())\n",
    "# rt_movie.loc[(rt_movie['Year'] >=2015),['running_mins']]\n",
    "#Ave 16 mins longer than mode of data set\n",
    "# Max length 148 min\n",
    "# Min legnth 80\n",
    "#Showing More Modern Movies are longer than the feature length Standard\n",
    "# Modern movies being greater in this case being 2015 and present "
   ]
  },
  {
   "cell_type": "markdown",
   "metadata": {},
   "source": [
    "## We can now get a visual on the runtime data (RT)"
   ]
  },
  {
   "cell_type": "markdown",
   "metadata": {},
   "source": [
    "Lets plot a chart the get a visual on runtime with a datset that has a longer time history"
   ]
  },
  {
   "cell_type": "code",
   "execution_count": 121,
   "metadata": {},
   "outputs": [],
   "source": [
    "Top_70_RT_Indexes = rt_movie['runtime_minutes'].value_counts().index[:70]\n",
    "Top_70_RT = rt_movie['runtime_minutes'].value_counts().nlargest(70)\n",
    "#grabbbing 70 most common runtimes from rotten tomatoes file "
   ]
  },
  {
   "cell_type": "code",
   "execution_count": 122,
   "metadata": {},
   "outputs": [
    {
     "data": {
      "text/plain": [
       "<matplotlib.legend.Legend at 0x24684dfa760>"
      ]
     },
     "execution_count": 122,
     "metadata": {},
     "output_type": "execute_result"
    },
    {
     "data": {
      "image/png": "[encoded data removed]",
      "text/plain": [
       "<Figure size 576x432 with 1 Axes>"
      ]
     },
     "metadata": {},
     "output_type": "display_data"
    }
   ],
   "source": [
    "fig_rt , ax = plt.subplots(figsize = (8,6))\n",
    "ax.bar(Top_70_RT_Indexes , Top_70_RT, color = 'green' )\n",
    "ax.set_ylabel(\"Frequency Of Runtime Numbers\")\n",
    "ax.set_xlabel(\"Run Times in Minutes\")\n",
    "ax.set_title('Most Common Movie Lengths')\n",
    "ax.set_facecolor('blue')\n",
    "ax.legend(['As Per Rotten Tomatoes'])\n",
    "# plot showing top 70 most common runtimes"
   ]
  },
  {
   "cell_type": "markdown",
   "metadata": {},
   "source": [
    "Seeing grouping in the 90 minute mark but with a right skew to longer movie times."
   ]
  },
  {
   "cell_type": "code",
   "execution_count": 123,
   "metadata": {},
   "outputs": [],
   "source": [
    "# Gathering Values within Rotten Tomatoes File Where only looking at frequncy runtime within the past 10 years\n",
    "# just like the IMDB dataset\n",
    "P10_Years_RT = rt_movie.loc[(rt_movie['start_year'] >=2011),['runtime_minutes']].value_counts().nlargest(50)\n",
    "ten = P10_Years_RT.index[0:50]\n",
    "# way to turn multi-index into float values for the x column\n",
    "P10_Index = ten.get_level_values(0).astype(float)"
   ]
  },
  {
   "cell_type": "code",
   "execution_count": 124,
   "metadata": {},
   "outputs": [
    {
     "data": {
      "text/plain": [
       "<matplotlib.legend.Legend at 0x24684e05040>"
      ]
     },
     "execution_count": 124,
     "metadata": {},
     "output_type": "execute_result"
    },
    {
     "data": {
      "image/png": "[encoded data removed]",
      "text/plain": [
       "<Figure size 576x432 with 1 Axes>"
      ]
     },
     "metadata": {},
     "output_type": "display_data"
    }
   ],
   "source": [
    "# Graph shoiwing most frequent runtimes of the past 10 years rotten tomatoes graph\n",
    "fig_Rotten_Modern , ax= plt.subplots(figsize = (8,6))\n",
    "ax.bar(P10_Index, P10_Years_RT, color = 'green')\n",
    "ax.set_xlabel('Runtimes in Minutes ')\n",
    "ax.set_facecolor('blue')\n",
    "ax.set_ylabel('Frequency')\n",
    "ax.set_title('Past 10 Years')\n",
    "ax.legend(['As Per Rotten Tomatoes'])"
   ]
  },
  {
   "cell_type": "markdown",
   "metadata": {},
   "source": [
    "Past 10 years fall along IMDB's past 10 years as well."
   ]
  },
  {
   "cell_type": "markdown",
   "metadata": {},
   "source": [
    "Lets get a far better visual on how runtimes have been either increasing or decreasing over time"
   ]
  },
  {
   "cell_type": "code",
   "execution_count": 126,
   "metadata": {},
   "outputs": [
    {
     "name": "stdout",
     "output_type": "stream",
     "text": [
      "   runtime_minutes\n",
      "0             80.0    runtime_minutes\n",
      "0             90.0    runtime_minutes\n",
      "0             95.0    runtime_minutes\n",
      "0             95.0    runtime_minutes\n",
      "0             93.0\n",
      "1             95.0\n",
      "2            108.0\n",
      "3            115.0    runtime_minutes\n",
      "0            100.0    runtime_minutes\n",
      "0             90.0\n",
      "1            120.0\n",
      "runtime_minutes    99.833333\n",
      "dtype: float64 runtime_minutes    102.362637\n",
      "dtype: float64 runtime_minutes    110.300699\n",
      "dtype: float64 runtime_minutes    106.526316\n",
      "dtype: float64 runtime_minutes    104.058065\n",
      "dtype: float64 runtime_minutes    107.195122\n",
      "dtype: float64 runtime_minutes    110.4\n",
      "dtype: float64\n",
      "runtime_minutes    93.5\n",
      "dtype: float64 runtime_minutes    98.0\n",
      "dtype: float64 runtime_minutes    104.0\n",
      "dtype: float64 runtime_minutes    102.5\n",
      "dtype: float64 runtime_minutes    102.0\n",
      "dtype: float64 runtime_minutes    104.0\n",
      "dtype: float64 runtime_minutes    106.5\n",
      "dtype: float64\n"
     ]
    }
   ],
   "source": [
    "mode_1 = rt_movie.loc[rt_movie['start_year'] < 1941, ['runtime_minutes']].mode()\n",
    "mode_2 = rt_movie.loc[(rt_movie['start_year'] >= 1941) & (rt_movie['start_year'] <1961), ['runtime_minutes']].mode()\n",
    "mode_3 = rt_movie.loc[(rt_movie['start_year'] >= 1961) & (rt_movie['start_year'] <1981), ['runtime_minutes']].mode()\n",
    "mode_4 = rt_movie.loc[(rt_movie['start_year'] >= 1981) & (rt_movie['start_year'] <2001), ['runtime_minutes']].mode()\n",
    "mode_5 = rt_movie.loc[(rt_movie['start_year'] >= 2001) & (rt_movie['start_year'] <2011), ['runtime_minutes']].mode()\n",
    "mode_6 = rt_movie.loc[(rt_movie['start_year'] >= 2011) , ['runtime_minutes']].mode()\n",
    "mode_7 = rt_movie.loc[(rt_movie['start_year'] == 2018) , ['runtime_minutes']].mode()\n",
    "median_1 = rt_movie.loc[rt_movie['start_year'] < 1941, ['runtime_minutes']].median()\n",
    "median_2 = rt_movie.loc[(rt_movie['start_year'] >= 1941) & (rt_movie['start_year'] <1961), ['runtime_minutes']].median()\n",
    "median_3 = rt_movie.loc[(rt_movie['start_year'] >= 1961) & (rt_movie['start_year'] <1981), ['runtime_minutes']].median()\n",
    "median_4 = rt_movie.loc[(rt_movie['start_year'] >= 1981) & (rt_movie['start_year'] <2001), ['runtime_minutes']].median()\n",
    "median_5 = rt_movie.loc[(rt_movie['start_year'] >= 2001) & (rt_movie['start_year'] <2011), ['runtime_minutes']].median()\n",
    "median_6 = rt_movie.loc[(rt_movie['start_year'] >= 2011) , ['runtime_minutes']].median()\n",
    "median_7 = rt_movie.loc[(rt_movie['start_year'] == 2018) , ['runtime_minutes']].median()\n",
    "mean_1 = rt_movie.loc[rt_movie['start_year'] < 1941, ['runtime_minutes']].mean()\n",
    "mean_2 = rt_movie.loc[(rt_movie['start_year'] >= 1941) & (rt_movie['start_year'] <1961), ['runtime_minutes']].mean()\n",
    "mean_3 = rt_movie.loc[(rt_movie['start_year'] >= 1961) & (rt_movie['start_year'] <1981), ['runtime_minutes']].mean()\n",
    "mean_4 = rt_movie.loc[(rt_movie['start_year'] >= 1981) & (rt_movie['start_year'] <2001), ['runtime_minutes']].mean()\n",
    "mean_5 = rt_movie.loc[(rt_movie['start_year'] >= 2001) & (rt_movie['start_year'] <2011), ['runtime_minutes']].mean()\n",
    "mean_6 = rt_movie.loc[(rt_movie['start_year'] >= 2011) , ['runtime_minutes']].mean()\n",
    "mean_7 = rt_movie.loc[(rt_movie['start_year'] == 2018) , ['runtime_minutes']].mean()\n",
    "print(mode_1, mode_2, mode_3, mode_4, mode_5, mode_6, mode_7)\n",
    "print(mean_1, mean_2, mean_3, mean_4, mean_5, mean_6, mean_7)\n",
    "print(median_1, median_2, median_3, median_4, median_5, median_6, median_7)\n",
    "#modes being in order   80, 90 , 95, 95, 102, 100, 105 with mode_5 and mode_7 having multiple modes therefore took the average of them\n",
    "#medians being 94, 98, 104, 103, 102, 104, 107\n",
    "#means 100, 102, 110, 107, 104, 107, 111"
   ]
  },
  {
   "cell_type": "code",
   "execution_count": 127,
   "metadata": {},
   "outputs": [
    {
     "data": {
      "text/plain": [
       "Text(0.5, 1.0, 'The Gradual Increase Of Movie Runtimes Through History ')"
      ]
     },
     "execution_count": 127,
     "metadata": {},
     "output_type": "execute_result"
    },
    {
     "data": {
      "image/png": "[encoded data removed]",
      "text/plain": [
       "<Figure size 864x576 with 1 Axes>"
      ]
     },
     "metadata": {},
     "output_type": "display_data"
    }
   ],
   "source": [
    "mode_values = [80, 90, 95, 95, 102, 100, 105]\n",
    "Time = ['1921', '1941', '1961', '1981', '2001', '2011', '2018' ]\n",
    "median_values = [94,98,104,103,102,104,107]\n",
    "mean_values = [100, 102, 110, 107, 104, 107, 111]\n",
    "sns.set_theme(style=\"darkgrid\")\n",
    "sns.lineplot(Time, mode_values)\n",
    "sns.set_theme(style=\"darkgrid\")\n",
    "sns.lineplot(Time, median_values)\n",
    "sns.lineplot(Time, mean_values)\n",
    "plt.legend(['Mode of Movie Length', 'Median of Time Points' , 'Mean of Time Points'])\n",
    "plt.ylabel('Run Times')\n",
    "plt.xlabel('Timeline')\n",
    "plt.title('The Gradual Increase Of Movie Runtimes Through History ')"
   ]
  },
  {
   "cell_type": "markdown",
   "metadata": {},
   "source": [
    "As we have gotten down here to the graph above it shows how overtime the runtimes are going longer than the industry standard. With the industry standard being implemented back in the 1920's to make sure movies weren't overbearing to the public. But now that movies are getting longer and straying from the 90 minute mark on the upperside it is safe to say that following the trend of breaking the industry standard is a safe bet because it can allow the studio to not be constricted to this 90 minute mark and possibly limiting what can be put in the film. Most films that do go beyond the 90 minute runtime are still on the greater than one ROI value so following the trend is less risky."
   ]
  },
  {
   "cell_type": "code",
   "execution_count": null,
   "metadata": {},
   "outputs": [],
   "source": []
  },
  {
   "cell_type": "code",
   "execution_count": null,
   "metadata": {},
   "outputs": [],
   "source": []
  },
  {
   "cell_type": "code",
   "execution_count": null,
   "metadata": {},
   "outputs": [],
   "source": []
  },
  {
   "cell_type": "code",
   "execution_count": null,
   "metadata": {},
   "outputs": [],
   "source": []
  },
  {
   "cell_type": "code",
   "execution_count": null,
   "metadata": {},
   "outputs": [],
   "source": []
  },
  {
   "cell_type": "markdown",
   "metadata": {},
   "source": [
    "## The Monthly Breakdown"
   ]
  },
  {
   "cell_type": "markdown",
   "metadata": {},
   "source": [
    "A common staple of the Hollywood schedule is the seasonal trends. October for horror, summer for action, awards season bait in the winter. But how does this shake out as far as ROI goes?"
   ]
  },
  {
   "cell_type": "code",
   "execution_count": 128,
   "metadata": {},
   "outputs": [],
   "source": [
    "#grabbing the mmmr_df from above\n",
    "\n",
    "months_and_years_df = money_metrics_merge_ready_df\n",
    "\n",
    "#dropping the zeros gross films\n",
    "#This may be be very generous to our ROI data later, but we have to assume a literal 0 return is \n",
    "#more likely bad data in than a literal 0 revenue. \n",
    "#these film makers have parents, that at least would provide some box office.\n",
    "months_and_years_df = months_and_years_df[months_and_years_df['worldwide_gross'] != 0].copy()\n",
    "\n",
    "\n",
    "# Removing Deep Throat on principle. It's numbers were apparently pumped by mob involvement and\n",
    "# apparently the lead talent was coerced into performing, which, ick.\n",
    "# Also it's messing up my graphs.\n",
    "months_and_years_df = months_and_years_df.sort_values('ROI', ascending = False)\n",
    "months_and_years_df = months_and_years_df.drop([5745])\n"
   ]
  },
  {
   "cell_type": "code",
   "execution_count": 129,
   "metadata": {},
   "outputs": [],
   "source": [
    "##Making a series in the data frame that will let us sort our months in order.\n",
    "months_and_years_df['alphaMonths']=months_and_years_df['Month']\n",
    "\n",
    "#A brute function to cycle through\n",
    "def alphamonth(month):\n",
    "    if month == 'Jan':\n",
    "        amonth = '01 - January'\n",
    "    elif month == 'Feb':\n",
    "        amonth = '02 - February'\n",
    "    elif month == 'Mar':\n",
    "        amonth = '03 - March'\n",
    "    elif month == 'Apr':\n",
    "        amonth = '04 - April'\n",
    "    elif month == 'May':\n",
    "        amonth = '05 - May'\n",
    "    elif month == 'Jun':\n",
    "        amonth = '06 - June'\n",
    "    elif month == 'Jul':\n",
    "        amonth = '07 - July'\n",
    "    elif month == 'Aug':\n",
    "        amonth = '08 - August'\n",
    "    elif month == 'Sep':\n",
    "        amonth = '09 - September'\n",
    "    elif month == 'Oct':\n",
    "        amonth = '10 - October'\n",
    "    elif month == 'Nov':\n",
    "        amonth = '11 - November'\n",
    "    elif month == 'Dec':\n",
    "        amonth = '12 - December'\n",
    "    return amonth\n",
    "\n",
    "#And .map ing that through the df\n",
    "months_and_years_df['alphaMonths']=months_and_years_df['alphaMonths'].map(alphamonth) \n",
    "\n",
    "#functions to pull years, months out of the data set. Can also be used for other column types?\n",
    "\n",
    "#for now, use int types for the year\n",
    "def year_iso (df, year):\n",
    "    output_df = df[df['Year'] == year]\n",
    "    return output_df\n",
    "\n",
    "\n",
    "#for now, with money_metrics_df, use three letter abreviations for months\n",
    "def month_iso (df, month):\n",
    "    output_df = df[df['Month'] == month]\n",
    "    return output_df\n",
    "\n",
    "\n",
    "#A function to take any dataframe e.g. an isolated year, and get a monthly breakdown\n",
    "def run_the_months(df):\n",
    "    month_list= ['January','February','March', 'April', 'May','June','July','August',\n",
    "                           'September','October','November','December']\n",
    "    df_list=[]\n",
    "    for i in month_list:\n",
    "        month_abrev= i[0:3]\n",
    "        data_frame_to_list = month_iso(df , month_abrev)\n",
    "        df_list.append(data_frame_to_list)\n",
    "        output_dict = dict(zip(month_list, df_list))    \n",
    "    return output_dict\n",
    "\n",
    "\n"
   ]
  },
  {
   "cell_type": "markdown",
   "metadata": {},
   "source": [
    "A Block of useful funtions"
   ]
  },
  {
   "cell_type": "code",
   "execution_count": null,
   "metadata": {},
   "outputs": [],
   "source": []
  },
  {
   "cell_type": "markdown",
   "metadata": {},
   "source": [
    "Experimentation revealed that early data was too sparse and noise to analyse well, and likely had less bearing on modern trends. A new dataframe for 1980 and beyond was created.\n"
   ]
  },
  {
   "cell_type": "code",
   "execution_count": 130,
   "metadata": {},
   "outputs": [],
   "source": [
    "#Let's push this to be a post 1970's display. A lot of the pre-70s data is too thin on the ground.\n",
    "#Most execs' oldest movie memories probably goes back to about the 80's\n",
    "\n",
    "\n",
    "post_70s_df =  months_and_years_df[months_and_years_df['Year'] >= 1980]"
   ]
  },
  {
   "cell_type": "code",
   "execution_count": 131,
   "metadata": {
    "scrolled": false
   },
   "outputs": [
    {
     "data": {
      "image/png": "[encoded data removed]",
      "text/plain": [
       "<Figure size 1296x864 with 1 Axes>"
      ]
     },
     "metadata": {},
     "output_type": "display_data"
    }
   ],
   "source": [
    "### Using seaborn to get a pretty graph of ROI by month. Also, automates a lot of previous work. C'est la vie.\n",
    "### Default estimator is mean, which works for us.\n",
    "\n",
    "figure(figsize=(18, 12))\n",
    "sns.set_style(\"ticks\")\n",
    "plt.title('Monthly Mean ROI, 1980 and Beyond')\n",
    "sns.barplot(data = post_70s_df.sort_values('alphaMonths'), x = 'alphaMonths', y = 'ROI')\n",
    "plt.xlabel('Month');\n",
    "\n",
    "#May and July stand out."
   ]
  },
  {
   "cell_type": "code",
   "execution_count": null,
   "metadata": {},
   "outputs": [],
   "source": []
  },
  {
   "cell_type": "markdown",
   "metadata": {},
   "source": [
    "There clearly are trends here. May and July stand out as creat times to release. December and January seem less promising. But let's dig a bit deeper. The Hollywood seasons are often associated with different genres. Let's break down our top genres by month."
   ]
  },
  {
   "cell_type": "code",
   "execution_count": null,
   "metadata": {},
   "outputs": [],
   "source": []
  },
  {
   "cell_type": "code",
   "execution_count": 132,
   "metadata": {
    "scrolled": true
   },
   "outputs": [
    {
     "data": {
      "image/png": "[encoded data removed]",
      "text/plain": [
       "<Figure size 1230.22x720 with 1 Axes>"
      ]
     },
     "metadata": {},
     "output_type": "display_data"
    }
   ],
   "source": [
    "### Let's do by month AND genre\n",
    "\n",
    "#dropping all other columns to make merging simpler\n",
    "genre_barebones = all_g_df[['movie','genre']]\n",
    "\n",
    "genre_month_merge = post_70s_df.merge(genre_barebones, how= 'inner', left_on = 'movie', right_on= 'movie')\n",
    "\n",
    "#Plotting the top three genres by month\n",
    "top_three_genre = genre_month_merge[(genre_month_merge['genre'] == 'Horror') | \n",
    "                                    (genre_month_merge['genre'] == 'Mystery') \n",
    "                                    | (genre_month_merge['genre'] == 'Thriller')]\n",
    "\n",
    "#sorting by alphamonths to make the incoming graph sort Jan-Dec\n",
    "top_three_genre.sort_values('alphaMonths', inplace = True)\n",
    "\n",
    "\n",
    "###And plot it all!\n",
    "sns.catplot(data = top_three_genre, x = 'alphaMonths', y = 'ROI', hue=\"genre\", \n",
    "            kind=\"bar\",height=10, ci= None, aspect =1.6 )\n",
    "sns.set_style(\"ticks\")\n",
    "plt.title('Monthly Mean ROI by Genre, 1980 and Beyond')\n",
    "plt.xlabel('Month');\n",
    "#I'm trimming out the error bars, but this sucker is *noisy*"
   ]
  },
  {
   "cell_type": "code",
   "execution_count": null,
   "metadata": {},
   "outputs": [],
   "source": []
  },
  {
   "cell_type": "code",
   "execution_count": null,
   "metadata": {},
   "outputs": [],
   "source": []
  },
  {
   "cell_type": "code",
   "execution_count": null,
   "metadata": {},
   "outputs": [],
   "source": []
  },
  {
   "cell_type": "markdown",
   "metadata": {},
   "source": [
    "Here we find some surprises! January, it turns out, is a pretty good time to release a horror film! Thrillers do well in April.\n",
    "\n",
    "Film release dates should take genre into consideration. "
   ]
  },
  {
   "cell_type": "code",
   "execution_count": null,
   "metadata": {},
   "outputs": [],
   "source": []
  }
 ],
 "metadata": {
  "kernelspec": {
   "display_name": "Python (learn-env)",
   "language": "python",
   "name": "learn-env"
  },
  "language_info": {
   "codemirror_mode": {
    "name": "ipython",
    "version": 3
   },
   "file_extension": ".py",
   "mimetype": "text/x-python",
   "name": "python",
   "nbconvert_exporter": "python",
   "pygments_lexer": "ipython3",
   "version": "3.8.5"
  }
 },
 "nbformat": 4,
 "nbformat_minor": 4
}
