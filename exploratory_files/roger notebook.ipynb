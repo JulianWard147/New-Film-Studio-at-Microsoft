{
 "cells": [
  {
   "cell_type": "markdown",
   "metadata": {},
   "source": [
    "# Beginning of Roger's Code"
   ]
  },
  {
   "cell_type": "code",
   "execution_count": null,
   "metadata": {},
   "outputs": [],
   "source": [
    "# Importing modules\n",
    "import pandas as pd\n",
    "import numpy as np\n",
    "import matplotlib.pyplot as plt\n",
    "import seaborn as sns"
   ]
  },
  {
   "cell_type": "markdown",
   "metadata": {},
   "source": [
    "Alfred Hitchcock once said: “The length of a film should be directly related to the endurance of the human bladder.”"
   ]
  },
  {
   "cell_type": "markdown",
   "metadata": {},
   "source": [
    "Loading in and renaming imperative datasets"
   ]
  },
  {
   "cell_type": "code",
   "execution_count": null,
   "metadata": {
    "scrolled": true
   },
   "outputs": [],
   "source": [
    "imdb_title_basics_df = pd.read_csv('..\\zippedData/imdb.title.basics.csv.gz')\n",
    "imdb_title = imdb_title_basics_df\n",
    "rt_movie_info_df = pd.read_csv('..\\zippedData/rt.movie_info.tsv.gz', delimiter='\\t')\n",
    "rt_movie = rt_movie_info_df\n",
    "imdb_title.info() , rt_movie.info()"
   ]
  },
  {
   "cell_type": "markdown",
   "metadata": {},
   "source": [
    "Since IMDB has none non-null items in the columns that are objects and not int's or floats lets check for duplicates."
   ]
  },
  {
   "cell_type": "markdown",
   "metadata": {},
   "source": [
    "Seeing that the delta from 75th percentile to 100th percentile is 6,893.5 values shows that there may be multiple occurances of just a handful of runtimes. "
   ]
  },
  {
   "cell_type": "code",
   "execution_count": null,
   "metadata": {
    "scrolled": true
   },
   "outputs": [],
   "source": [
    "imdb_title['primary_title'].value_counts(), imdb_title['original_title'].value_counts(), imdb_title['tconst'].value_counts(), imdb_title['genres'].value_counts()"
   ]
  },
  {
   "cell_type": "markdown",
   "metadata": {},
   "source": [
    "We see here that within the 'primary_title' and 'original_title\" there are duplicate names. Want to clean that up. Not necessary to touch genres since genre value is applied as a description of the film rather than an interfering value."
   ]
  },
  {
   "cell_type": "code",
   "execution_count": null,
   "metadata": {
    "scrolled": true
   },
   "outputs": [],
   "source": [
    "# Removing/cleaning the duplicates within original_title and primary_columns \n",
    "imdb_title2 = imdb_title.drop_duplicates(subset=['original_title'], keep = 'first')\n",
    "imdb_title2 = imdb_title.drop_duplicates(subset=['primary_title'], keep = 'first')\n",
    "imdb_title2['primary_title'].value_counts(), imdb_title2['original_title'].value_counts(), imdb_title2['runtime_minutes'].value_counts()"
   ]
  },
  {
   "cell_type": "markdown",
   "metadata": {},
   "source": [
    "We see here nearly all duplicates have been removed"
   ]
  },
  {
   "cell_type": "markdown",
   "metadata": {},
   "source": [
    "Lets see now how the value counts of runtimes is dispirsed "
   ]
  },
  {
   "cell_type": "code",
   "execution_count": null,
   "metadata": {},
   "outputs": [],
   "source": [
    "q_4_Imdb = imdb_title2[\"runtime_minutes\"].value_counts().quantile(1)\n",
    "q_3_Imdb = imdb_title2[\"runtime_minutes\"].value_counts().quantile(.75)\n",
    "q_2_Imdb = imdb_title2[\"runtime_minutes\"].value_counts().quantile(.5)\n",
    "q_1_Imdb = imdb_title2[\"runtime_minutes\"].value_counts().quantile(.25)\n",
    "\n",
    "q_1_Imdb , q_2_Imdb , q_3_Imdb, q_4_Imdb"
   ]
  },
  {
   "cell_type": "markdown",
   "metadata": {},
   "source": [
    "Seeing that the delta from 75th percentile to 100th percentile is 6,404 values shows that there may be multiple occurances of just a handful of runtimes."
   ]
  },
  {
   "cell_type": "code",
   "execution_count": null,
   "metadata": {},
   "outputs": [],
   "source": [
    "# Remove columns that will no longer be used as well as remove null values to remaining columns\n",
    "imdb_title2.dropna(subset = ['start_year'],axis = 0,  inplace = True)\n",
    "imdb_title2.dropna(subset = ['runtime_minutes'], axis = 0,  inplace = True)\n",
    "imdb_title2.drop(['primary_title'], axis =1 , inplace = True)\n",
    "imdb_title2.drop(['original_title'], axis = 1,  inplace = True)\n",
    "imdb_title2.drop(['genres'], axis = 1,  inplace = True)\n",
    "\n",
    "imdb_title2.info()"
   ]
  },
  {
   "cell_type": "code",
   "execution_count": null,
   "metadata": {},
   "outputs": [],
   "source": [
    "# Check for the most common runtime to appear in the dataset\n",
    "most_common = imdb_title2[\"runtime_minutes\"].value_counts().index[0]\n",
    "most_common"
   ]
  },
  {
   "cell_type": "code",
   "execution_count": null,
   "metadata": {
    "scrolled": true
   },
   "outputs": [],
   "source": [
    "#Show where the longer times are moving more towards from the most common number\n",
    "G_90_Imdb = imdb_title2.loc[(imdb_title2['runtime_minutes'] > 90), ['start_year']].mean()\n",
    "B_90_Imdb = imdb_title2.loc[(imdb_title2['runtime_minutes'] < 90), ['start_year']].mean()\n",
    "Is_90_Imdb = imdb_title2.loc[(imdb_title2['runtime_minutes'] == 90), ['start_year']].mean()\n",
    "G_90_Imdb, B_90_Imdb, Is_90_Imdb \n",
    "# Shows newer movies are tending to be longer than 90 minutes with showing the average year \n",
    "# pushing to be higher when looking at longer runtimes when looking that the mean from the\n",
    "# most common value and up"
   ]
  },
  {
   "cell_type": "markdown",
   "metadata": {},
   "source": [
    "To get a visual on the dataset runtime values distribution we will plot the top 70 runtime values"
   ]
  },
  {
   "cell_type": "code",
   "execution_count": null,
   "metadata": {
    "scrolled": true
   },
   "outputs": [],
   "source": [
    "IMDB_Runtime_Numbers = imdb_title2['runtime_minutes'].value_counts().nlargest(70)\n",
    "\n",
    "IMDB_Runtime_Numbers_Index = imdb_title2['runtime_minutes'].value_counts().index[0:70]\n",
    "fig_IMBD, ax =plt.subplots(figsize = (6,5))\n",
    "ax.bar(IMDB_Runtime_Numbers_Index ,IMDB_Runtime_Numbers , color = 'grey' )\n",
    "ax.set_facecolor('white')\n",
    "ax.set_ylabel(\"Frequency Of Run Time Numbers\")\n",
    "ax.set_title(\"Most Common Movie Lengths\")\n",
    "ax.set_xlabel(\"Run Times in Minutes\")\n"
   ]
  },
  {
   "cell_type": "markdown",
   "metadata": {},
   "source": [
    "The graph shows how often the common value of 90 minutes is used"
   ]
  },
  {
   "cell_type": "markdown",
   "metadata": {},
   "source": [
    "We can move onto the Rotten Tomatoes dataset to see runtimes from movies throughout history"
   ]
  },
  {
   "cell_type": "code",
   "execution_count": null,
   "metadata": {},
   "outputs": [],
   "source": [
    "# testing the type of value that is within the runtime column\n",
    "type(rt_movie['runtime'][0])"
   ]
  },
  {
   "cell_type": "markdown",
   "metadata": {},
   "source": [
    "We see above the values in the columns are strings and must be changed into floats to be worked on"
   ]
  },
  {
   "cell_type": "code",
   "execution_count": null,
   "metadata": {},
   "outputs": [],
   "source": [
    "# testing the type of value that is within the column\n",
    "type(rt_movie['runtime'][0])"
   ]
  },
  {
   "cell_type": "code",
   "execution_count": null,
   "metadata": {
    "scrolled": true
   },
   "outputs": [],
   "source": [
    "rt_movie['runtime_minutes']=rt_movie['runtime'].str.split()\n",
    "rt_movie['runtime_minutes']=rt_movie['runtime_minutes'].str[0]\n",
    "rt_movie['runtime_minutes'] = rt_movie['runtime_minutes'].astype(float)\n",
    "# change runtime from a string to a solo float number"
   ]
  },
  {
   "cell_type": "markdown",
   "metadata": {},
   "source": [
    "No column has just the year so we can grab from the theater_date"
   ]
  },
  {
   "cell_type": "code",
   "execution_count": null,
   "metadata": {},
   "outputs": [],
   "source": [
    "# Grabbing just the year from theater date\n",
    "rt_movie['start_year']=rt_movie['theater_date'].str.split()\n",
    "rt_movie['start_year']=rt_movie['start_year'].str[2]\n",
    "rt_movie['start_year'] = (rt_movie['start_year']).astype(float)\n"
   ]
  },
  {
   "cell_type": "code",
   "execution_count": null,
   "metadata": {},
   "outputs": [],
   "source": [
    "rt_movie.dropna(axis = 0, subset = ['start_year'], inplace = True)\n",
    "rt_movie.dropna(axis = 0, subset = ['runtime_minutes'], inplace = True)\n",
    "# Removing any null values in the columns 'Year' and 'running_mins'"
   ]
  },
  {
   "cell_type": "code",
   "execution_count": null,
   "metadata": {},
   "outputs": [],
   "source": [
    "# Seeing if the standard feature time of 90 is more towards current movies \n",
    "rt_movie.loc[(rt_movie['runtime_minutes'] ==90), ['start_year']].mean()\n",
    "# Average year being 1987 can possibly show"
   ]
  },
  {
   "cell_type": "code",
   "execution_count": null,
   "metadata": {},
   "outputs": [],
   "source": [
    "# Dropping unnecessary columns\n",
    "rt_movie.drop(['runtime'], axis =1, inplace =True)\n",
    "rt_movie.drop(['studio'],axis = 1, inplace = True)\n",
    "rt_movie.drop(['currency'],axis = 1, inplace = True)\n",
    "rt_movie.drop(['writer'],axis = 1, inplace = True)"
   ]
  },
  {
   "cell_type": "code",
   "execution_count": null,
   "metadata": {},
   "outputs": [],
   "source": [
    "#checking normal runtimes for newer movies\n",
    "print(rt_movie.loc[(rt_movie['start_year'] >=2015),['runtime_minutes']].mean())\n",
    "print(rt_movie.loc[(rt_movie['start_year'] >=2015),['runtime_minutes']].max())\n",
    "print(rt_movie.loc[(rt_movie['start_year'] >=2015),['runtime_minutes']].min())\n",
    "# rt_movie.loc[(rt_movie['Year'] >=2015),['running_mins']]\n",
    "#Ave 16 mins longer than mode of data set\n",
    "# Max length 148 min\n",
    "# Min legnth 80\n",
    "#Showing More Modern Movies are longer than the feature length Standard\n",
    "# Modern movies being greater in this case being 2015 and present "
   ]
  },
  {
   "cell_type": "code",
   "execution_count": null,
   "metadata": {},
   "outputs": [],
   "source": [
    "#function to do what was above, just grabbing the float number from the string\n",
    "def string_to_float(df, series):\n",
    "    df[series] = df[series].str.split()\n",
    "    df[series] = df[series].str[0]\n",
    "    df[series] = df[series].astype(float)\n",
    "    return df[series]\n",
    "    "
   ]
  },
  {
   "cell_type": "code",
   "execution_count": null,
   "metadata": {},
   "outputs": [],
   "source": [
    "q_4_rt = rt_movie[\"runtime_minutes\"].value_counts().quantile(1)\n",
    "q_3_rt = rt_movie[\"runtime_minutes\"].value_counts().quantile(.75)\n",
    "q_2_rt = rt_movie[\"runtime_minutes\"].value_counts().quantile(.5)\n",
    "q_1_rt = rt_movie[\"runtime_minutes\"].value_counts().quantile(.25)\n",
    "q_1_rt , q_2_rt, q_3_rt, q_4_rt\n",
    "# shows broad range and may want to ignore anything below q_3"
   ]
  },
  {
   "cell_type": "code",
   "execution_count": null,
   "metadata": {
    "scrolled": true
   },
   "outputs": [],
   "source": [
    "Top_70_RT_Indexes = rt_movie['runtime_minutes'].value_counts().index[:70]\n",
    "Top_70_RT = rt_movie['runtime_minutes'].value_counts().nlargest(70)\n",
    "#grabbbing 70 most common runtimes from rotten tomatoes file "
   ]
  },
  {
   "cell_type": "markdown",
   "metadata": {},
   "source": [
    "Lets plot a chart the get a visual on runtime with a datset that has a longer time history"
   ]
  },
  {
   "cell_type": "code",
   "execution_count": null,
   "metadata": {
    "scrolled": false
   },
   "outputs": [],
   "source": [
    "fig_rt , ax = plt.subplots(figsize = (8,6))\n",
    "ax.bar(Top_70_RT_Indexes , Top_70_RT, color = 'grey' )\n",
    "ax.set_ylabel(\"Frequency Of Runtime Numbers\")\n",
    "ax.set_xlabel(\"Run Times in Minutes\")\n",
    "ax.set_title('Most Common Movie Lengths')\n",
    "ax.set_facecolor('white')\n",
    "ax.legend(['As Per Rotten Tomatoes'])\n",
    "# plot showing top 70 most common runtimes\n"
   ]
  },
  {
   "cell_type": "markdown",
   "metadata": {},
   "source": [
    "Still seeing the heavy grouping around the common90 minute runtime number"
   ]
  },
  {
   "cell_type": "code",
   "execution_count": null,
   "metadata": {},
   "outputs": [],
   "source": [
    "# Gathering Values within Rotten Tomatoes File Where only looking at frequncy runtime within the past 10 years\n",
    "# just like the IMDB dataset\n",
    "P10_Years_RT = rt_movie.loc[(rt_movie['start_year'] >=2011),['runtime_minutes']].value_counts().nlargest(50)\n",
    "ten = P10_Years_RT.index[0:50]\n",
    "# way to turn multi-index into float values for the x column\n",
    "P10_Index = ten.get_level_values(0).astype(float)"
   ]
  },
  {
   "cell_type": "code",
   "execution_count": null,
   "metadata": {
    "scrolled": true
   },
   "outputs": [],
   "source": [
    "# Graph shoiwing most frequent runtimes of the past 10 years rotten tomatoes graph\n",
    "fig_Rotten_Modern , ax= plt.subplots(figsize = (8,6))\n",
    "ax.bar(P10_Index, P10_Years_RT)\n",
    "ax.set_xlabel('Runtimes in Minutes ')\n",
    "ax.set_ylabel('Frequency')\n",
    "ax.set_title('Past 10 Years')\n",
    "ax.legend(['As Per Rotten Tomatoes'])"
   ]
  },
  {
   "cell_type": "markdown",
   "metadata": {},
   "source": [
    "Lets get a far better visual on how runtimes have been either increasing or decreasing over time"
   ]
  },
  {
   "cell_type": "code",
   "execution_count": null,
   "metadata": {
    "scrolled": true
   },
   "outputs": [],
   "source": [
    "# top most 5 or 10 common of each decade put in a list or dictionary key, year ,value most common runtime put in line chart?\n",
    "mode_1 = rt_movie.loc[rt_movie['start_year'] < 1941, ['runtime_minutes']].mode()\n",
    "mode_2 = rt_movie.loc[(rt_movie['start_year'] >= 1941) & (rt_movie['start_year'] <1961), ['runtime_minutes']].mode()\n",
    "mode_3 = rt_movie.loc[(rt_movie['start_year'] >= 1961) & (rt_movie['start_year'] <1981), ['runtime_minutes']].mode()\n",
    "mode_4 = rt_movie.loc[(rt_movie['start_year'] >= 1981) & (rt_movie['start_year'] <2001), ['runtime_minutes']].mode()\n",
    "mode_5 = rt_movie.loc[(rt_movie['start_year'] >= 2001) & (rt_movie['start_year'] <2011), ['runtime_minutes']].mode()\n",
    "mode_6 = rt_movie.loc[(rt_movie['start_year'] >= 2011) , ['runtime_minutes']].mode()\n",
    "mode_7 = rt_movie.loc[(rt_movie['start_year'] == 2018) , ['runtime_minutes']].mode()\n",
    "median_1 = rt_movie.loc[rt_movie['start_year'] < 1941, ['runtime_minutes']].median()\n",
    "median_2 = rt_movie.loc[(rt_movie['start_year'] >= 1941) & (rt_movie['start_year'] <1961), ['runtime_minutes']].median()\n",
    "median_3 = rt_movie.loc[(rt_movie['start_year'] >= 1961) & (rt_movie['start_year'] <1981), ['runtime_minutes']].median()\n",
    "median_4 = rt_movie.loc[(rt_movie['start_year'] >= 1981) & (rt_movie['start_year'] <2001), ['runtime_minutes']].median()\n",
    "median_5 = rt_movie.loc[(rt_movie['start_year'] >= 2001) & (rt_movie['start_year'] <2011), ['runtime_minutes']].median()\n",
    "median_6 = rt_movie.loc[(rt_movie['start_year'] >= 2011) , ['runtime_minutes']].median()\n",
    "median_7 = rt_movie.loc[(rt_movie['start_year'] == 2018) , ['runtime_minutes']].median()\n",
    "mean_1 = rt_movie.loc[rt_movie['start_year'] < 1941, ['runtime_minutes']].mean()\n",
    "mean_2 = rt_movie.loc[(rt_movie['start_year'] >= 1941) & (rt_movie['start_year'] <1961), ['runtime_minutes']].mean()\n",
    "mean_3 = rt_movie.loc[(rt_movie['start_year'] >= 1961) & (rt_movie['start_year'] <1981), ['runtime_minutes']].mean()\n",
    "mean_4 = rt_movie.loc[(rt_movie['start_year'] >= 1981) & (rt_movie['start_year'] <2001), ['runtime_minutes']].mean()\n",
    "mean_5 = rt_movie.loc[(rt_movie['start_year'] >= 2001) & (rt_movie['start_year'] <2011), ['runtime_minutes']].mean()\n",
    "mean_6 = rt_movie.loc[(rt_movie['start_year'] >= 2011) , ['runtime_minutes']].mean()\n",
    "mean_7 = rt_movie.loc[(rt_movie['start_year'] == 2018) , ['runtime_minutes']].mean()\n",
    "print(mode_1, mode_2, mode_3, mode_4, mode_5, mode_6, mode_7)\n",
    "print(mean_1, mean_2, mean_3, mean_4, mean_5, mean_6, mean_7)\n",
    "print(median_1, median_2, median_3, median_4, median_5, median_6, median_7)\n",
    "#modes being in order   80, 90 , 95, 95, 102, 100, 105 with mode_5 and mode_7 having multiple modes therefore took the average of them\n",
    "#medians being 94, 98, 104, 103, 102, 104, 107\n",
    "#means 100, 102, 110, 107, 104, 107, 111"
   ]
  },
  {
   "cell_type": "code",
   "execution_count": null,
   "metadata": {
    "scrolled": false
   },
   "outputs": [],
   "source": [
    "mode_values = [80, 90, 95, 95, 102, 100, 105]\n",
    "Time = ['1921', '1941', '1961', '1981', '2001', '2011', '2018' ]\n",
    "median_values = [94,98,104,103,102,104,107]\n",
    "mean_values = [100, 102, 110, 107, 104, 107, 111]\n",
    "sns.set_theme(style=\"white\")\n",
    "sns.lineplot(Time, mode_values)\n",
    "sns.set_theme(style=\"white\")\n",
    "sns.lineplot(Time, median_values)\n",
    "sns.lineplot(Time, mean_values)\n",
    "plt.xlabel('Timeline')\n",
    "plt.legend(['Mode of Movie Length', 'Median of Time Points' , 'Mean of Time Points'])\n",
    "plt.ylabel('Run Times')\n",
    "plt.title('The Gradual Increase Of Movie Runtimes Through History ')\n",
    "#Line graph to show non-technical viewer that trend for movie lengths is getting longer since 1921"
   ]
  },
  {
   "cell_type": "markdown",
   "metadata": {},
   "source": [
    "As we have gotten down here at the last graph it shows how overtime the runtimes are going longer than the industry standard. With the industry standard being implemented back in the 1920's to make sure movies weren't overbearing to the public. But now that movies are getting longer and straying from the 90 minute mark it is safe to say that following the trend of breaking the industry standard is a safe bet because it can allow the studio to not be constricted to this 90 minute mark and possibly lmiting what can be put in the film."
   ]
  }
 ],
 "metadata": {
  "kernelspec": {
   "display_name": "Python (learn-env)",
   "language": "python",
   "name": "learn-env"
  },
  "language_info": {
   "codemirror_mode": {
    "name": "ipython",
    "version": 3
   },
   "file_extension": ".py",
   "mimetype": "text/x-python",
   "name": "python",
   "nbconvert_exporter": "python",
   "pygments_lexer": "ipython3",
   "version": "3.8.5"
  }
 },
 "nbformat": 4,
 "nbformat_minor": 4
}
