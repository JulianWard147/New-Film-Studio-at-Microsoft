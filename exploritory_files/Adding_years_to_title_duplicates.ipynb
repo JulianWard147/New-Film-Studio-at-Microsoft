{
 "cells": [
  {
   "cell_type": "code",
   "execution_count": null,
   "metadata": {},
   "outputs": [],
   "source": [
    "#importing on principle\n",
    "\n",
    "import pandas as pd\n",
    "import numpy as np\n",
    "import matplotlib\n",
    "%matplotlib inline"
   ]
  },
  {
   "cell_type": "code",
   "execution_count": null,
   "metadata": {},
   "outputs": [],
   "source": [
    "#vu's dupe check# \n",
    "##Use different df\n",
    "movie_dupes = pd.Series(##tn_movie_budgets_df##['movie'].value_counts())\n",
    "title_dupes = [movie_dupes.index[index] for index in list(range(len(movie_dupes))) if movie_dupes.values[index] > 1]\n",
    "print(len(title_dupes))\n",
    "print(movie_dupes[0:len(title_dupes)].sum())\n",
    "\n",
    "#making a new df to do the rename in\n",
    "title_dupes\n",
    "title_dupes_df = ##money_metrics_df##[money_metrics_df.index.isin(title_dupes)]\n",
    "    \n",
    "#reset the index for easier editing\n",
    "title_dupes_df.reset_index(inplace = True)\n",
    "title_dupes_df\n",
    "    \n",
    "#Creating new columns if 'Year' is an int, making it string\n",
    "title_dupes_df['Yearasastring'] = title_dupes_df['Year'].map(lambda x: str(x))\n",
    "#Making a new colomn combining title and year\n",
    "title_dupes_df['New Title'] = title_dupes_df['Movie']+' '+title_dupes_df['Yearasastring']\n",
    "#Renaming 'Movie' to the new title\n",
    "title_dupes_df['Movie'] = title_dupes_df['New Title'].map(lambda x: str(x))\n",
    "#dropping the extra columns now that we've used them\n",
    "title_dupes_df.drop(columns= ['Yearasastring','New Title'],axis = 1)"
   ]
  }
 ],
 "metadata": {
  "kernelspec": {
   "display_name": "Python (learn-env)",
   "language": "python",
   "name": "learn-env"
  },
  "language_info": {
   "codemirror_mode": {
    "name": "ipython",
    "version": 3
   },
   "file_extension": ".py",
   "mimetype": "text/x-python",
   "name": "python",
   "nbconvert_exporter": "python",
   "pygments_lexer": "ipython3",
   "version": "3.8.5"
  }
 },
 "nbformat": 4,
 "nbformat_minor": 4
}
