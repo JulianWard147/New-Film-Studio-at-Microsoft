{
 "cells": [
  {
   "cell_type": "code",
   "execution_count": 88,
   "metadata": {},
   "outputs": [],
   "source": [
    "# Importing modules\n",
    "import pandas as pd\n",
    "import numpy as np\n",
    "import matplotlib.pyplot as plt\n",
    "import seaborn as sns"
   ]
  },
  {
   "cell_type": "code",
   "execution_count": null,
   "metadata": {},
   "outputs": [],
   "source": [
    "#Alfred Hitchcock once said: “The length of a film should be directly related to the endurance of the human bladder.”"
   ]
  },
  {
   "cell_type": "code",
   "execution_count": 103,
   "metadata": {
    "scrolled": false
   },
   "outputs": [
    {
     "data": {
      "text/plain": [
       "(1.0, 13.0, 237.5, 7131.0)"
      ]
     },
     "execution_count": 103,
     "metadata": {},
     "output_type": "execute_result"
    }
   ],
   "source": [
    "imdb_title_basics_df = pd.read_csv('zippedData/imdb.title.basics.csv.gz')\n",
    "imdb_title = imdb_title_basics_df\n",
    "\n",
    "q_4_Imdb = imdb_title[\"runtime_minutes\"].value_counts().quantile(1)\n",
    "q_3_Imdb = imdb_title[\"runtime_minutes\"].value_counts().quantile(.75)\n",
    "q_2_Imdb = imdb_title[\"runtime_minutes\"].value_counts().quantile(.5)\n",
    "q_1_Imdb = imdb_title_basics_df[\"runtime_minutes\"].value_counts().quantile(.25)\n",
    "\n",
    "q_1_Imdb , q_2_Imdb , q_3_Imdb, q_4_Imdb\n",
    "\n",
    "#Initial attempt to get the range of the occurances using quartile range in the value_counts\n",
    "#shows broad range, shouldn't look at any below q_3"
   ]
  },
  {
   "cell_type": "code",
   "execution_count": 99,
   "metadata": {},
   "outputs": [
    {
     "data": {
      "text/plain": [
       "90.0"
      ]
     },
     "execution_count": 99,
     "metadata": {},
     "output_type": "execute_result"
    }
   ],
   "source": [
    "most_common = imdb_title[\"runtime_minutes\"].value_counts().index[0]\n",
    "most_common"
   ]
  },
  {
   "cell_type": "code",
   "execution_count": 104,
   "metadata": {
    "scrolled": true
   },
   "outputs": [
    {
     "data": {
      "text/plain": [
       "(start_year    2014.534216\n",
       " dtype: float64,\n",
       " start_year    2014.292746\n",
       " dtype: float64,\n",
       " start_year    2014.450428\n",
       " dtype: float64)"
      ]
     },
     "execution_count": 104,
     "metadata": {},
     "output_type": "execute_result"
    }
   ],
   "source": [
    "#Show where the longer times are moving more towards\n",
    "G_90_Imdb = imdb_title.loc[(imdb_title['runtime_minutes'] > 90), ['start_year']].mean()\n",
    "B_90_Imdb = imdb_title.loc[(imdb_title['runtime_minutes'] < 90), ['start_year']].mean()\n",
    "Is_90_Imdb = imdb_title.loc[(imdb_title['runtime_minutes'] == 90), ['start_year']].mean()\n",
    "G_90_Imdb, B_90_Imdb, Is_90_Imdb \n",
    "# Shows newer movies are tending to be longer than 90 minutes with showing the average year psuhing to be higher when looking at longer runtimes"
   ]
  },
  {
   "cell_type": "code",
   "execution_count": 105,
   "metadata": {
    "scrolled": true
   },
   "outputs": [
    {
     "data": {
      "text/plain": [
       "<matplotlib.legend.Legend at 0x193b4743b50>"
      ]
     },
     "execution_count": 105,
     "metadata": {},
     "output_type": "execute_result"
    },
    {
     "data": {
      "image/png": "[encoded data removed]",
      "text/plain": [
       "<Figure size 432x360 with 1 Axes>"
      ]
     },
     "metadata": {
      "needs_background": "light"
     },
     "output_type": "display_data"
    }
   ],
   "source": [
    "IMDB_Runtime_Numbers = imdb_title['runtime_minutes'].value_counts().nlargest(100)\n",
    "\n",
    "IMDB_Runtime_Numbers_Index = imdb_title['runtime_minutes'].value_counts().index[0:100]\n",
    "fig_IMBD, ax =plt.subplots(figsize = (6,5))\n",
    "ax.bar(IMDB_Runtime_Numbers_Index ,IMDB_Runtime_Numbers , color = 'yellow' )\n",
    "ax.set_facecolor('blue')\n",
    "ax.set_ylabel(\"Frequency Of Run Time Numbers\")\n",
    "ax.set_title(\"Top 100 Most Common Movie Lengths\")\n",
    "ax.set_xlabel(\"Run Times in Minutes\")\n",
    "ax.legend(['As Per IMDB 2010-2021'])"
   ]
  },
  {
   "cell_type": "code",
   "execution_count": null,
   "metadata": {},
   "outputs": [],
   "source": [
    "#Graph that shows frequncy of runtimes\n",
    "# Pushing towards"
   ]
  },
  {
   "cell_type": "code",
   "execution_count": 16,
   "metadata": {
    "scrolled": true
   },
   "outputs": [],
   "source": [
    "rt_movie_info_df = pd.read_csv('zippedData/rt.movie_info.tsv.gz', delimiter='\\t')\n",
    "rt_movie = rt_movie_info_df\n",
    "\n",
    "# new data frame to work on"
   ]
  },
  {
   "cell_type": "code",
   "execution_count": 17,
   "metadata": {
    "scrolled": true
   },
   "outputs": [],
   "source": [
    "rt_movie['running_mins']=rt_movie['runtime'].str.split()\n",
    "rt_movie['running_mins']=rt_movie['running_mins'].str[0]\n",
    "rt_movie['running_mins'] = rt_movie['running_mins'].astype(float)\n",
    "# change runtime from a string to a solo float number"
   ]
  },
  {
   "cell_type": "code",
   "execution_count": 19,
   "metadata": {},
   "outputs": [],
   "source": [
    "# Grabbing just the year from theater date\n",
    "rt_movie['Year']=rt_movie['theater_date'].str.split()\n",
    "rt_movie['Year']=rt_movie['Year'].str[2]\n",
    "rt_movie['Year'] = (rt_movie['Year']).astype(float)\n"
   ]
  },
  {
   "cell_type": "code",
   "execution_count": 20,
   "metadata": {},
   "outputs": [],
   "source": [
    "rt_movie.dropna(axis = 0, subset = ['Year'], inplace = True)\n",
    "rt_movie.dropna(axis = 0, subset = ['running_mins'], inplace = True)\n",
    "# Removing any null values in the columns 'Year' and 'running_mins'"
   ]
  },
  {
   "cell_type": "code",
   "execution_count": 22,
   "metadata": {},
   "outputs": [
    {
     "data": {
      "text/plain": [
       "Year    1986.807692\n",
       "dtype: float64"
      ]
     },
     "execution_count": 22,
     "metadata": {},
     "output_type": "execute_result"
    }
   ],
   "source": [
    "# Seeing if the standard feature time of 90 is more towards current movies \n",
    "rt_movie.loc[(rt_movie['running_mins'] ==90), ['Year']].mean()\n",
    "# Average year being 1987 can possibly show"
   ]
  },
  {
   "cell_type": "code",
   "execution_count": 23,
   "metadata": {},
   "outputs": [
    {
     "name": "stdout",
     "output_type": "stream",
     "text": [
      "running_mins    106.461538\n",
      "dtype: float64\n",
      "running_mins    148.0\n",
      "dtype: float64\n",
      "running_mins    80.0\n",
      "dtype: float64\n"
     ]
    }
   ],
   "source": [
    "#checking normal runtimes for newer movies\n",
    "print(rt_movie.loc[(rt_movie['Year'] >=2015),['running_mins']].mean())\n",
    "print(rt_movie.loc[(rt_movie['Year'] >=2015),['running_mins']].max())\n",
    "print(rt_movie.loc[(rt_movie['Year'] >=2015),['running_mins']].min())\n",
    "# rt_movie.loc[(rt_movie['Year'] >=2015),['running_mins']]\n",
    "#Ave 16 mins longer than mode of data set\n",
    "# Max length 148 min\n",
    "# Min legnth 80\n",
    "#Showing More Modern Movies are longer than the feature length Standard\n",
    "# Modern movies being greater in this case being 2015 and present "
   ]
  },
  {
   "cell_type": "code",
   "execution_count": 25,
   "metadata": {},
   "outputs": [],
   "source": [
    "#function to do what was above, just grabbing the float number from the string\n",
    "def string_to_float(df, series):\n",
    "    df[series] = df[series].str.split()\n",
    "    df[series] = df[series].str[0]\n",
    "    df[series] = df[series].astype(float)\n",
    "    return df[series]\n",
    "    "
   ]
  },
  {
   "cell_type": "code",
   "execution_count": 27,
   "metadata": {},
   "outputs": [
    {
     "data": {
      "text/plain": [
       "(1.25, 3.0, 18.0, 53.0)"
      ]
     },
     "execution_count": 27,
     "metadata": {},
     "output_type": "execute_result"
    }
   ],
   "source": [
    "q_4_rt = rt_movie[\"running_mins\"].value_counts().quantile(1)\n",
    "q_3_rt = rt_movie[\"running_mins\"].value_counts().quantile(.75)\n",
    "q_2_rt = rt_movie[\"running_mins\"].value_counts().quantile(.5)\n",
    "q_1_rt = rt_movie[\"running_mins\"].value_counts().quantile(.25)\n",
    "q_1_rt , q_2_rt, q_3_rt, q_4_rt\n",
    "# shows broad range and may want to ignore anything below q_3"
   ]
  },
  {
   "cell_type": "code",
   "execution_count": 107,
   "metadata": {
    "scrolled": true
   },
   "outputs": [],
   "source": [
    "Top_100_RT_Indexes = rt_movie['running_mins'].value_counts().index[:80]\n",
    "Top_100_RT = rt_movie['running_mins'].value_counts().nlargest(80)\n",
    "#grabbbing 100 most common runtimes from rotten tomatoes file "
   ]
  },
  {
   "cell_type": "code",
   "execution_count": 108,
   "metadata": {
    "scrolled": true
   },
   "outputs": [
    {
     "data": {
      "text/plain": [
       "<matplotlib.legend.Legend at 0x193bd3320d0>"
      ]
     },
     "execution_count": 108,
     "metadata": {},
     "output_type": "execute_result"
    },
    {
     "data": {
      "image/png": "[encoded data removed]",
      "text/plain": [
       "<Figure size 576x432 with 1 Axes>"
      ]
     },
     "metadata": {
      "needs_background": "light"
     },
     "output_type": "display_data"
    }
   ],
   "source": [
    "fig_rt , ax = plt.subplots(figsize = (8,6))\n",
    "ax.bar(Top_100_RT_Indexes , Top_100_RT, color = 'blue' )\n",
    "ax.set_ylabel(\"Frequency Of Runtime Numbers\")\n",
    "ax.set_xlabel(\"Run Times in Minutes\")\n",
    "ax.set_title('Most Common Movie Lengths')\n",
    "ax.set_facecolor('yellow')\n",
    "ax.legend(['As Per Rotten Tomatoes'])\n",
    "# plot showing top 100 most common runtimes\n",
    "#hist later"
   ]
  },
  {
   "cell_type": "code",
   "execution_count": 58,
   "metadata": {},
   "outputs": [
    {
     "name": "stdout",
     "output_type": "stream",
     "text": [
      "720\n",
      "474\n"
     ]
    }
   ],
   "source": [
    "a = rt_movie.loc[(rt_movie['Year'] <=2000), ['Year']]\n",
    "b = rt_movie.loc[(rt_movie['Year'] >2000), ['Year']]\n",
    "print(a.value_counts().sum())  \n",
    "print(b.value_counts().sum())"
   ]
  },
  {
   "cell_type": "code",
   "execution_count": null,
   "metadata": {},
   "outputs": [],
   "source": [
    "#hue color for box office strength"
   ]
  },
  {
   "cell_type": "code",
   "execution_count": 115,
   "metadata": {},
   "outputs": [
    {
     "name": "stdout",
     "output_type": "stream",
     "text": [
      "Float64Index([100.0, 104.0,  90.0,  92.0, 118.0,  95.0, 105.0, 107.0,  89.0,\n",
      "               97.0, 120.0,  93.0, 111.0, 108.0,  98.0, 102.0, 109.0,  99.0,\n",
      "              103.0,  91.0, 129.0, 119.0,  94.0, 116.0, 142.0,  84.0, 127.0,\n",
      "              126.0,  86.0,  81.0,  85.0, 112.0,  87.0,  96.0,  88.0, 115.0,\n",
      "              132.0, 122.0, 110.0,  83.0,  80.0,  77.0, 188.0, 101.0, 133.0,\n",
      "              157.0, 148.0, 147.0, 145.0, 141.0],\n",
      "             dtype='float64', name='running_mins')\n"
     ]
    }
   ],
   "source": [
    "# Gathering Values within Rotten Tomatoes File Where only looking at frequncy runtime within the past 10 years\n",
    "P10_Years_RT = rt_movie.loc[(rt_movie['Year'] >=2011),['running_mins']].value_counts().nlargest(50)\n",
    "ten = P10_Years_RT.index[0:50]\n",
    "# way to turn multi-index into float values for the x column\n",
    "P10_Index = ten.get_level_values(0).astype(float)\n",
    "print(P10_Index)\n",
    "\n",
    "# ten.index = [a]"
   ]
  },
  {
   "cell_type": "code",
   "execution_count": null,
   "metadata": {},
   "outputs": [],
   "source": []
  },
  {
   "cell_type": "code",
   "execution_count": 119,
   "metadata": {},
   "outputs": [
    {
     "data": {
      "text/plain": [
       "<matplotlib.legend.Legend at 0x193b7888b20>"
      ]
     },
     "execution_count": 119,
     "metadata": {},
     "output_type": "execute_result"
    },
    {
     "data": {
      "image/png": "[encoded data removed]",
      "text/plain": [
       "<Figure size 576x432 with 1 Axes>"
      ]
     },
     "metadata": {
      "needs_background": "light"
     },
     "output_type": "display_data"
    }
   ],
   "source": [
    "# Graph shoiwing most frequent runtimes of the past 10 years rotten tomatoes graph\n",
    "fig_Rotten_Modern , ax= plt.subplots(figsize = (8,6))\n",
    "ax.bar(P10_Index, P10_Years_RT)\n",
    "ax.set_xlabel('Runtimes in Minutes ')\n",
    "ax.set_ylabel('Frequency')\n",
    "ax.set_title('Past 10 Years')\n",
    "ax.legend(['As Per Rotten Tomatoes'])"
   ]
  },
  {
   "cell_type": "code",
   "execution_count": 109,
   "metadata": {},
   "outputs": [],
   "source": [
    "# top most 5 or 10 common of each decade put in a list or dictionary key, year ,value most common runtime put in line chart?\n",
    "mode_1 = rt_movie.loc[rt_movie['Year'] < 1941, ['running_mins']].mode()\n",
    "mode_2 = rt_movie.loc[(rt_movie['Year'] >= 1941) & (rt_movie['Year'] <1961), ['running_mins']].mode()\n",
    "mode_3 = rt_movie.loc[(rt_movie['Year'] >= 1961) & (rt_movie['Year'] <1981), ['running_mins']].mode()\n",
    "mode_4 = rt_movie.loc[(rt_movie['Year'] >= 1981) & (rt_movie['Year'] <2001), ['running_mins']].mode()\n",
    "mode_5 = rt_movie.loc[(rt_movie['Year'] >= 2001) & (rt_movie['Year'] <2011), ['running_mins']].mode()\n",
    "mode_6 = rt_movie.loc[(rt_movie['Year'] >= 2011) , ['running_mins']].mode()"
   ]
  },
  {
   "cell_type": "code",
   "execution_count": 120,
   "metadata": {},
   "outputs": [],
   "source": [
    "mode_values = [mode_1, mode_2, mode_3, mode_4, mode_5, mode_6]\n",
    "modes = ['1921', '1941', '1961', '1981', '2001', '2011' ]\n",
    "#Line graph to shower no-technical viewer that trend for movie lengths is getting longer"
   ]
  },
  {
   "cell_type": "code",
   "execution_count": null,
   "metadata": {},
   "outputs": [],
   "source": [
    "# Final graph withlengths of movies based off curennt movies and subset graph of all movies\n",
    "#modern movies are longer and have been performing well?"
   ]
  }
 ],
 "metadata": {
  "kernelspec": {
   "display_name": "Python (learn-env)",
   "language": "python",
   "name": "learn-env"
  },
  "language_info": {
   "codemirror_mode": {
    "name": "ipython",
    "version": 3
   },
   "file_extension": ".py",
   "mimetype": "text/x-python",
   "name": "python",
   "nbconvert_exporter": "python",
   "pygments_lexer": "ipython3",
   "version": "3.8.5"
  }
 },
 "nbformat": 4,
 "nbformat_minor": 4
}
